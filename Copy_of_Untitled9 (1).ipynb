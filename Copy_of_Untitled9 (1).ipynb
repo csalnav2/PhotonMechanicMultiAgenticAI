{
  "cells": [
    {
      "cell_type": "code",
      "source": [
        "#!/usr/bin/env python3\n",
        "\"\"\"\n",
        "kill_synergy.py\n",
        "─────────────────────────────────────────────────────────────────────────────\n",
        "Minimal code to kill synergy-related processes:\n",
        "  • if proc.name() contains \"synergy\" or \"ultimate_synergy_infinite_memengine\"\n",
        "  • or if they listen on certain ports (5002..5005)\n",
        "  Avoids deeper /proc/cmdline reads that can block.\n",
        "\n",
        "Usage:\n",
        "  python kill_synergy.py\n",
        "\"\"\"\n",
        "\n",
        "import os, sys, subprocess\n",
        "\n",
        "try:\n",
        "    import psutil\n",
        "except ImportError:\n",
        "    subprocess.check_call([sys.executable,\"-m\",\"pip\",\"install\",\"--quiet\",\"psutil\"])\n",
        "    import psutil\n",
        "\n",
        "NAME_SUBSTRS   = {\"synergy\",\"ultimate_synergy_infinite_memengine\"}\n",
        "LISTEN_PORTS   = {5002,5003,5004,5005}\n",
        "\n",
        "def match_by_name(p: psutil.Process) -> bool:\n",
        "    \"\"\"True if p.name() has synergy-like substring. Avoid /proc/cmdline() to keep it cheap.\"\"\"\n",
        "    try:\n",
        "        n = (p.name() or \"\").lower()\n",
        "        for x in NAME_SUBSTRS:\n",
        "            if x in n:\n",
        "                return True\n",
        "    except (psutil.AccessDenied, psutil.NoSuchProcess):\n",
        "        pass\n",
        "    return False\n",
        "\n",
        "def match_by_port(p: psutil.Process) -> bool:\n",
        "    \"\"\"True if p has a listener on one of the known synergy ports.\"\"\"\n",
        "    try:\n",
        "        conns = p.connections(kind=\"inet\")\n",
        "        for c in conns:\n",
        "            if c.status == psutil.CONN_LISTEN and c.laddr and (c.laddr.port in LISTEN_PORTS):\n",
        "                return True\n",
        "    except (psutil.AccessDenied, psutil.NoSuchProcess):\n",
        "        pass\n",
        "    return False\n",
        "\n",
        "def kill_all_synergy():\n",
        "    me = os.getpid()\n",
        "    killed = 0\n",
        "    # We'll collect them first, then kill after so we don't half-iterate while we kill\n",
        "    synergy_pids = []\n",
        "    for p in psutil.process_iter([\"pid\",\"name\"]):\n",
        "        if p.pid == me:\n",
        "            continue\n",
        "        if match_by_name(p) or match_by_port(p):\n",
        "            synergy_pids.append(p)\n",
        "\n",
        "    if not synergy_pids:\n",
        "        print(\"[INFO] No synergy-like processes found.\")\n",
        "        return\n",
        "\n",
        "    for proc in synergy_pids:\n",
        "        pid = proc.pid\n",
        "        try:\n",
        "            proc.kill()  # SIGKILL on *nix, Terminate on Windows\n",
        "            killed+=1\n",
        "            print(f\"[KILL] pid={pid:<6} name={proc.name()}\")\n",
        "        except (psutil.NoSuchProcess, psutil.AccessDenied) as e:\n",
        "            print(f\"[SKIP] pid={pid} – {e}\")\n",
        "\n",
        "    print(f\"[INFO] Killed {killed} synergy-related process(es).\")\n",
        "\n",
        "if __name__ == \"__main__\":\n",
        "    kill_all_synergy()\n"
      ],
      "metadata": {
        "colab": {
          "base_uri": "https://localhost:8080/"
        },
        "id": "SDATm4EA1CBF",
        "outputId": "7e383a9e-12c0-4f1f-d292-5d3442611742"
      },
      "execution_count": 33,
      "outputs": [
        {
          "output_type": "stream",
          "name": "stdout",
          "text": [
            "[INFO] No synergy-like processes found.\n"
          ]
        }
      ]
    },
    {
      "cell_type": "code",
      "source": [
        "!pip install --upgrade git+https://github.com/openai/openai-agents-python.git\n",
        "!pip install flask flask-socketio requests nest_asyncio torch numpy bs4 pyngrok"
      ],
      "metadata": {
        "colab": {
          "base_uri": "https://localhost:8080/"
        },
        "id": "k8OVdTCixKkE",
        "outputId": "9ca381d7-de95-45e9-cd64-0fd56206219f"
      },
      "execution_count": 34,
      "outputs": [
        {
          "output_type": "stream",
          "name": "stderr",
          "text": [
            "INFO:werkzeug:127.0.0.1 - - [18/May/2025 20:32:15] \"POST /assign-task?agent_id=agent_1 HTTP/1.1\" 200 -\n",
            "INFO:werkzeug:127.0.0.1 - - [18/May/2025 20:32:15] \"POST /assign-task?agent_id=agent_3 HTTP/1.1\" 200 -\n",
            "INFO:werkzeug:127.0.0.1 - - [18/May/2025 20:32:15] \"POST /assign-task?agent_id=agent_2 HTTP/1.1\" 200 -\n",
            "INFO:werkzeug:127.0.0.1 - - [18/May/2025 20:32:15] \"POST /assign-task?agent_id=agent_5 HTTP/1.1\" 200 -\n",
            "INFO:werkzeug:127.0.0.1 - - [18/May/2025 20:32:15] \"POST /assign-task?agent_id=agent_1 HTTP/1.1\" 200 -\n",
            "WARNING:Main:OpenAI error Error code: 429 - {'error': {'message': 'Rate limit reached for gpt-3.5-turbo in organization org-inb5NKPyOYFJGXIGnZt0PBAa on requests per min (RPM): Limit 500, Used 500, Requested 1. Please try again in 120ms. Visit https://platform.openai.com/account/rate-limits to learn more.', 'type': 'requests', 'param': None, 'code': 'rate_limit_exceeded'}}\n",
            "WARNING:Main:OpenAI error Error code: 429 - {'error': {'message': 'Rate limit reached for gpt-3.5-turbo in organization org-inb5NKPyOYFJGXIGnZt0PBAa on requests per min (RPM): Limit 500, Used 500, Requested 1. Please try again in 120ms. Visit https://platform.openai.com/account/rate-limits to learn more.', 'type': 'requests', 'param': None, 'code': 'rate_limit_exceeded'}}\n"
          ]
        },
        {
          "output_type": "stream",
          "name": "stdout",
          "text": [
            "[2025-05-18 20:32:15,646] [INFO] [agent_2] agent_2 => ANALYTICAL -> HUMOR (chain-of-thought shift)\n"
          ]
        },
        {
          "output_type": "stream",
          "name": "stderr",
          "text": [
            "INFO:agent_2:agent_2 => ANALYTICAL -> HUMOR (chain-of-thought shift)\n"
          ]
        },
        {
          "output_type": "stream",
          "name": "stdout",
          "text": [
            "[2025-05-18 20:32:15,652] [INFO] [agent_2] agent_2 => synergy RNN => loss=1675.1556\n"
          ]
        },
        {
          "output_type": "stream",
          "name": "stderr",
          "text": [
            "INFO:agent_2:agent_2 => synergy RNN => loss=1675.1556\n"
          ]
        },
        {
          "output_type": "stream",
          "name": "stdout",
          "text": [
            "[2025-05-18 20:32:15,653] [INFO] [agent_2] agent_2 => buddy => (Fallback) Hello from agent_2, no chain-of-thought library installed.\n"
          ]
        },
        {
          "output_type": "stream",
          "name": "stderr",
          "text": [
            "INFO:agent_2:agent_2 => buddy => (Fallback) Hello from agent_2, no chain-of-thought library installed.\n",
            "INFO:werkzeug:127.0.0.1 - - [18/May/2025 20:32:15] \"POST /assign-task?agent_id=agent_2 HTTP/1.1\" 200 -\n"
          ]
        },
        {
          "output_type": "stream",
          "name": "stdout",
          "text": [
            "[2025-05-18 20:32:15,698] [INFO] [agent_2] agent_2 => navigate => https://no.wikipedia.org/wiki/Wikipedia:Kontakt\n"
          ]
        },
        {
          "output_type": "stream",
          "name": "stderr",
          "text": [
            "INFO:agent_2:agent_2 => navigate => https://no.wikipedia.org/wiki/Wikipedia:Kontakt\n",
            "WARNING:Main:OpenAI error Error code: 429 - {'error': {'message': 'Rate limit reached for gpt-3.5-turbo in organization org-inb5NKPyOYFJGXIGnZt0PBAa on requests per min (RPM): Limit 500, Used 500, Requested 1. Please try again in 120ms. Visit https://platform.openai.com/account/rate-limits to learn more.', 'type': 'requests', 'param': None, 'code': 'rate_limit_exceeded'}}\n",
            "WARNING:Main:OpenAI error Error code: 429 - {'error': {'message': 'Rate limit reached for gpt-3.5-turbo in organization org-inb5NKPyOYFJGXIGnZt0PBAa on requests per day (RPD): Limit 10000, Used 10000, Requested 1. Please try again in 8.64s. Visit https://platform.openai.com/account/rate-limits to learn more.', 'type': 'requests', 'param': None, 'code': 'rate_limit_exceeded'}}\n"
          ]
        },
        {
          "output_type": "stream",
          "name": "stdout",
          "text": [
            "[2025-05-18 20:32:15,837] [INFO] [agent_3] agent_3 => HUMOR -> SOCIAL (chain-of-thought shift)\n"
          ]
        },
        {
          "output_type": "stream",
          "name": "stderr",
          "text": [
            "INFO:agent_3:agent_3 => HUMOR -> SOCIAL (chain-of-thought shift)\n"
          ]
        },
        {
          "output_type": "stream",
          "name": "stdout",
          "text": [
            "[2025-05-18 20:32:15,842] [INFO] [agent_3] agent_3 => synergy RNN => loss=16372.2852\n"
          ]
        },
        {
          "output_type": "stream",
          "name": "stderr",
          "text": [
            "INFO:agent_3:agent_3 => synergy RNN => loss=16372.2852\n"
          ]
        },
        {
          "output_type": "stream",
          "name": "stdout",
          "text": [
            "[2025-05-18 20:32:15,843] [INFO] [agent_3] agent_3 => buddy => (Fallback) Hello from agent_3, no chain-of-thought library installed.\n"
          ]
        },
        {
          "output_type": "stream",
          "name": "stderr",
          "text": [
            "INFO:agent_3:agent_3 => buddy => (Fallback) Hello from agent_3, no chain-of-thought library installed.\n",
            "INFO:werkzeug:127.0.0.1 - - [18/May/2025 20:32:15] \"POST /assign-task?agent_id=agent_3 HTTP/1.1\" 200 -\n"
          ]
        },
        {
          "output_type": "stream",
          "name": "stdout",
          "text": [
            "[2025-05-18 20:32:15,850] [INFO] [agent_3] agent_3 => navigate => https://bcl.wikipedia.org/wiki/Wikipedia:Manungod\n"
          ]
        },
        {
          "output_type": "stream",
          "name": "stderr",
          "text": [
            "INFO:agent_3:agent_3 => navigate => https://bcl.wikipedia.org/wiki/Wikipedia:Manungod\n",
            "WARNING:Main:OpenAI error Error code: 429 - {'error': {'message': 'Rate limit reached for gpt-3.5-turbo in organization org-inb5NKPyOYFJGXIGnZt0PBAa on requests per min (RPM): Limit 500, Used 500, Requested 1. Please try again in 120ms. Visit https://platform.openai.com/account/rate-limits to learn more.', 'type': 'requests', 'param': None, 'code': 'rate_limit_exceeded'}}\n",
            "WARNING:Main:OpenAI error Error code: 429 - {'error': {'message': 'Rate limit reached for gpt-3.5-turbo in organization org-inb5NKPyOYFJGXIGnZt0PBAa on requests per day (RPD): Limit 10000, Used 10000, Requested 1. Please try again in 8.64s. Visit https://platform.openai.com/account/rate-limits to learn more.', 'type': 'requests', 'param': None, 'code': 'rate_limit_exceeded'}}\n",
            "WARNING:Main:OpenAI error Error code: 429 - {'error': {'message': 'Rate limit reached for gpt-3.5-turbo in organization org-inb5NKPyOYFJGXIGnZt0PBAa on requests per min (RPM): Limit 500, Used 500, Requested 1. Please try again in 120ms. Visit https://platform.openai.com/account/rate-limits to learn more.', 'type': 'requests', 'param': None, 'code': 'rate_limit_exceeded'}}\n",
            "WARNING:Main:OpenAI error Error code: 429 - {'error': {'message': 'Rate limit reached for gpt-3.5-turbo in organization org-inb5NKPyOYFJGXIGnZt0PBAa on requests per day (RPD): Limit 10000, Used 10000, Requested 1. Please try again in 8.64s. Visit https://platform.openai.com/account/rate-limits to learn more.', 'type': 'requests', 'param': None, 'code': 'rate_limit_exceeded'}}\n",
            "WARNING:Main:OpenAI error Error code: 429 - {'error': {'message': 'Rate limit reached for gpt-3.5-turbo in organization org-inb5NKPyOYFJGXIGnZt0PBAa on requests per min (RPM): Limit 500, Used 500, Requested 1. Please try again in 120ms. Visit https://platform.openai.com/account/rate-limits to learn more.', 'type': 'requests', 'param': None, 'code': 'rate_limit_exceeded'}}\n",
            "WARNING:Main:OpenAI error Error code: 429 - {'error': {'message': 'Rate limit reached for gpt-3.5-turbo in organization org-inb5NKPyOYFJGXIGnZt0PBAa on requests per min (RPM): Limit 500, Used 500, Requested 1. Please try again in 120ms. Visit https://platform.openai.com/account/rate-limits to learn more.', 'type': 'requests', 'param': None, 'code': 'rate_limit_exceeded'}}\n",
            "WARNING:Main:OpenAI error Error code: 429 - {'error': {'message': 'Rate limit reached for gpt-3.5-turbo in organization org-inb5NKPyOYFJGXIGnZt0PBAa on requests per min (RPM): Limit 500, Used 500, Requested 1. Please try again in 120ms. Visit https://platform.openai.com/account/rate-limits to learn more.', 'type': 'requests', 'param': None, 'code': 'rate_limit_exceeded'}}\n",
            "WARNING:Main:OpenAI error Error code: 429 - {'error': {'message': 'Rate limit reached for gpt-3.5-turbo in organization org-inb5NKPyOYFJGXIGnZt0PBAa on requests per day (RPD): Limit 10000, Used 10000, Requested 1. Please try again in 8.64s. Visit https://platform.openai.com/account/rate-limits to learn more.', 'type': 'requests', 'param': None, 'code': 'rate_limit_exceeded'}}\n",
            "WARNING:Main:OpenAI error Error code: 429 - {'error': {'message': 'Rate limit reached for gpt-3.5-turbo in organization org-inb5NKPyOYFJGXIGnZt0PBAa on requests per day (RPD): Limit 10000, Used 10000, Requested 1. Please try again in 8.64s. Visit https://platform.openai.com/account/rate-limits to learn more.', 'type': 'requests', 'param': None, 'code': 'rate_limit_exceeded'}}\n",
            "WARNING:Main:OpenAI error Error code: 429 - {'error': {'message': 'Rate limit reached for gpt-3.5-turbo in organization org-inb5NKPyOYFJGXIGnZt0PBAa on requests per day (RPD): Limit 10000, Used 10000, Requested 1. Please try again in 8.64s. Visit https://platform.openai.com/account/rate-limits to learn more.', 'type': 'requests', 'param': None, 'code': 'rate_limit_exceeded'}}\n",
            "WARNING:Main:OpenAI error Error code: 429 - {'error': {'message': 'Rate limit reached for gpt-3.5-turbo in organization org-inb5NKPyOYFJGXIGnZt0PBAa on requests per day (RPD): Limit 10000, Used 10000, Requested 1. Please try again in 8.64s. Visit https://platform.openai.com/account/rate-limits to learn more.', 'type': 'requests', 'param': None, 'code': 'rate_limit_exceeded'}}\n"
          ]
        },
        {
          "output_type": "stream",
          "name": "stdout",
          "text": [
            "Collecting git+https://github.com/openai/openai-agents-python.git\n",
            "  Cloning https://github.com/openai/openai-agents-python.git to /tmp/pip-req-build-co9cbo83\n",
            "  Running command git clone --filter=blob:none --quiet https://github.com/openai/openai-agents-python.git /tmp/pip-req-build-co9cbo83\n",
            "[2025-05-18 20:32:16,868] [INFO] [agent_4] agent_4 => synergy RNN => loss=136.1770\n"
          ]
        },
        {
          "output_type": "stream",
          "name": "stderr",
          "text": [
            "INFO:agent_4:agent_4 => synergy RNN => loss=136.1770\n"
          ]
        },
        {
          "output_type": "stream",
          "name": "stdout",
          "text": [
            "[2025-05-18 20:32:16,869] [INFO] [agent_4] agent_4 => buddy => (Fallback) Hello from agent_4, no chain-of-thought library installed.\n"
          ]
        },
        {
          "output_type": "stream",
          "name": "stderr",
          "text": [
            "INFO:agent_4:agent_4 => buddy => (Fallback) Hello from agent_4, no chain-of-thought library installed.\n",
            "INFO:werkzeug:127.0.0.1 - - [18/May/2025 20:32:16] \"POST /assign-task?agent_id=agent_4 HTTP/1.1\" 200 -\n"
          ]
        },
        {
          "output_type": "stream",
          "name": "stdout",
          "text": [
            "[2025-05-18 20:32:16,875] [INFO] [agent_4] agent_4 => navigate => https://ab.wikipedia.org/wiki/%D0%98%D1%85%D0%B0%D0%B4%D0%BE%D1%83_%D0%B0%D0%B4%D0%B0%D2%9F%D1%8C%D0%B0\n"
          ]
        },
        {
          "output_type": "stream",
          "name": "stderr",
          "text": [
            "INFO:agent_4:agent_4 => navigate => https://ab.wikipedia.org/wiki/%D0%98%D1%85%D0%B0%D0%B4%D0%BE%D1%83_%D0%B0%D0%B4%D0%B0%D2%9F%D1%8C%D0%B0\n",
            "INFO:werkzeug:127.0.0.1 - - [18/May/2025 20:32:16] \"POST /assign-task?agent_id=agent_2 HTTP/1.1\" 200 -\n",
            "INFO:werkzeug:127.0.0.1 - - [18/May/2025 20:32:17] \"POST /assign-task?agent_id=agent_5 HTTP/1.1\" 200 -\n",
            "INFO:werkzeug:127.0.0.1 - - [18/May/2025 20:32:17] \"POST /assign-task?agent_id=agent_3 HTTP/1.1\" 200 -\n",
            "INFO:werkzeug:127.0.0.1 - - [18/May/2025 20:32:17] \"POST /assign-task?agent_id=agent_1 HTTP/1.1\" 200 -\n",
            "INFO:werkzeug:127.0.0.1 - - [18/May/2025 20:32:17] \"POST /assign-task?agent_id=agent_2 HTTP/1.1\" 200 -\n",
            "INFO:werkzeug:127.0.0.1 - - [18/May/2025 20:32:17] \"POST /assign-task?agent_id=agent_3 HTTP/1.1\" 200 -\n",
            "INFO:werkzeug:127.0.0.1 - - [18/May/2025 20:32:17] \"POST /assign-task?agent_id=agent_4 HTTP/1.1\" 200 -\n",
            "INFO:werkzeug:127.0.0.1 - - [18/May/2025 20:32:17] \"POST /assign-task?agent_id=agent_4 HTTP/1.1\" 200 -\n",
            "INFO:werkzeug:127.0.0.1 - - [18/May/2025 20:32:17] \"POST /assign-task?agent_id=agent_5 HTTP/1.1\" 200 -\n",
            "INFO:werkzeug:127.0.0.1 - - [18/May/2025 20:32:17] \"POST /assign-task?agent_id=agent_4 HTTP/1.1\" 200 -\n",
            "INFO:werkzeug:127.0.0.1 - - [18/May/2025 20:32:17] \"POST /assign-task?agent_id=agent_1 HTTP/1.1\" 200 -\n",
            "INFO:werkzeug:127.0.0.1 - - [18/May/2025 20:32:17] \"POST /assign-task?agent_id=agent_3 HTTP/1.1\" 200 -\n",
            "INFO:werkzeug:127.0.0.1 - - [18/May/2025 20:32:17] \"POST /assign-task?agent_id=agent_2 HTTP/1.1\" 200 -\n",
            "INFO:werkzeug:127.0.0.1 - - [18/May/2025 20:32:17] \"POST /assign-task?agent_id=agent_5 HTTP/1.1\" 200 -\n",
            "INFO:werkzeug:127.0.0.1 - - [18/May/2025 20:32:17] \"POST /assign-task?agent_id=agent_1 HTTP/1.1\" 200 -\n"
          ]
        },
        {
          "output_type": "stream",
          "name": "stdout",
          "text": [
            "[2025-05-18 20:32:17,754] [INFO] [agent_5] agent_5 => SOCIAL -> CREATIVE (chain-of-thought shift)\n"
          ]
        },
        {
          "output_type": "stream",
          "name": "stderr",
          "text": [
            "INFO:agent_5:agent_5 => SOCIAL -> CREATIVE (chain-of-thought shift)\n"
          ]
        },
        {
          "output_type": "stream",
          "name": "stdout",
          "text": [
            "[2025-05-18 20:32:17,762] [INFO] [agent_5] agent_5 => synergy RNN => loss=977.6696\n"
          ]
        },
        {
          "output_type": "stream",
          "name": "stderr",
          "text": [
            "WARNING:Main:OpenAI error Error code: 429 - {'error': {'message': 'Rate limit reached for gpt-3.5-turbo in organization org-inb5NKPyOYFJGXIGnZt0PBAa on requests per min (RPM): Limit 500, Used 500, Requested 1. Please try again in 120ms. Visit https://platform.openai.com/account/rate-limits to learn more.', 'type': 'requests', 'param': None, 'code': 'rate_limit_exceeded'}}\n",
            "INFO:agent_5:agent_5 => synergy RNN => loss=977.6696\n"
          ]
        },
        {
          "output_type": "stream",
          "name": "stdout",
          "text": [
            "[2025-05-18 20:32:17,766] [INFO] [agent_5] agent_5 => buddy => (Fallback) Hello from agent_5, no chain-of-thought library installed.\n"
          ]
        },
        {
          "output_type": "stream",
          "name": "stderr",
          "text": [
            "INFO:agent_5:agent_5 => buddy => (Fallback) Hello from agent_5, no chain-of-thought library installed.\n",
            "INFO:werkzeug:127.0.0.1 - - [18/May/2025 20:32:17] \"POST /assign-task?agent_id=agent_5 HTTP/1.1\" 200 -\n"
          ]
        },
        {
          "output_type": "stream",
          "name": "stdout",
          "text": [
            "  Resolved https://github.com/openai/openai-agents-python.git to commit 003cbfe5f5820cd73ad3adfbae56c054e3cb73ca\n",
            "[2025-05-18 20:32:17,772] [INFO] [agent_5] agent_5 => navigate => https://github.blog/ai-and-ml/llms/unlocking-the-power-of-unstructured-data-with-rag/\n"
          ]
        },
        {
          "output_type": "stream",
          "name": "stderr",
          "text": [
            "INFO:agent_5:agent_5 => navigate => https://github.blog/ai-and-ml/llms/unlocking-the-power-of-unstructured-data-with-rag/\n"
          ]
        },
        {
          "output_type": "stream",
          "name": "stdout",
          "text": [
            "[2025-05-18 20:32:17,786] [INFO] [agent_1] agent_1 => synergy RNN => loss=17798.3145\n"
          ]
        },
        {
          "output_type": "stream",
          "name": "stderr",
          "text": [
            "INFO:agent_1:agent_1 => synergy RNN => loss=17798.3145\n",
            "INFO:werkzeug:127.0.0.1 - - [18/May/2025 20:32:17] \"POST /assign-task?agent_id=agent_1 HTTP/1.1\" 200 -\n"
          ]
        },
        {
          "output_type": "stream",
          "name": "stdout",
          "text": [
            "[2025-05-18 20:32:17,792] [INFO] [agent_1] agent_1 => navigate => https://github.blog/developer-skills/github/\n"
          ]
        },
        {
          "output_type": "stream",
          "name": "stderr",
          "text": [
            "INFO:agent_1:agent_1 => navigate => https://github.blog/developer-skills/github/\n"
          ]
        },
        {
          "output_type": "stream",
          "name": "stdout",
          "text": [
            "[2025-05-18 20:32:17,830] [INFO] [agent_2] agent_2 => HUMOR -> TASK_ORIENTED (chain-of-thought shift)\n"
          ]
        },
        {
          "output_type": "stream",
          "name": "stderr",
          "text": [
            "WARNING:Main:OpenAI error Error code: 429 - {'error': {'message': 'Rate limit reached for gpt-3.5-turbo in organization org-inb5NKPyOYFJGXIGnZt0PBAa on requests per min (RPM): Limit 500, Used 500, Requested 1. Please try again in 120ms. Visit https://platform.openai.com/account/rate-limits to learn more.', 'type': 'requests', 'param': None, 'code': 'rate_limit_exceeded'}}\n",
            "INFO:agent_2:agent_2 => HUMOR -> TASK_ORIENTED (chain-of-thought shift)\n",
            "WARNING:Main:OpenAI error Error code: 429 - {'error': {'message': 'Rate limit reached for gpt-3.5-turbo in organization org-inb5NKPyOYFJGXIGnZt0PBAa on requests per min (RPM): Limit 500, Used 500, Requested 1. Please try again in 120ms. Visit https://platform.openai.com/account/rate-limits to learn more.', 'type': 'requests', 'param': None, 'code': 'rate_limit_exceeded'}}\n"
          ]
        },
        {
          "output_type": "stream",
          "name": "stdout",
          "text": [
            "[2025-05-18 20:32:17,943] [INFO] [agent_3] agent_3 => SOCIAL -> NEUROTIC (chain-of-thought shift)\n"
          ]
        },
        {
          "output_type": "stream",
          "name": "stderr",
          "text": [
            "INFO:agent_3:agent_3 => SOCIAL -> NEUROTIC (chain-of-thought shift)\n"
          ]
        },
        {
          "output_type": "stream",
          "name": "stdout",
          "text": [
            "[2025-05-18 20:32:17,978] [INFO] [agent_2] agent_2 => synergy RNN => loss=17493.9258\n"
          ]
        },
        {
          "output_type": "stream",
          "name": "stderr",
          "text": [
            "INFO:agent_2:agent_2 => synergy RNN => loss=17493.9258\n"
          ]
        },
        {
          "output_type": "stream",
          "name": "stdout",
          "text": [
            "[2025-05-18 20:32:17,980] [INFO] [agent_2] agent_2 => buddy => (Fallback) Hello from agent_2, no chain-of-thought library installed.\n"
          ]
        },
        {
          "output_type": "stream",
          "name": "stderr",
          "text": [
            "INFO:agent_2:agent_2 => buddy => (Fallback) Hello from agent_2, no chain-of-thought library installed.\n",
            "INFO:werkzeug:127.0.0.1 - - [18/May/2025 20:32:17] \"POST /assign-task?agent_id=agent_2 HTTP/1.1\" 200 -\n"
          ]
        },
        {
          "output_type": "stream",
          "name": "stdout",
          "text": [
            "[2025-05-18 20:32:17,989] [INFO] [agent_2] agent_2 => navigate => https://als.wikipedia.org/wiki/Wikipedia:Kontakt\n"
          ]
        },
        {
          "output_type": "stream",
          "name": "stderr",
          "text": [
            "INFO:agent_2:agent_2 => navigate => https://als.wikipedia.org/wiki/Wikipedia:Kontakt\n"
          ]
        },
        {
          "output_type": "stream",
          "name": "stdout",
          "text": [
            "[2025-05-18 20:32:17,993] [INFO] [agent_3] agent_3 => synergy RNN => loss=21797.6543\n"
          ]
        },
        {
          "output_type": "stream",
          "name": "stderr",
          "text": [
            "INFO:agent_3:agent_3 => synergy RNN => loss=21797.6543\n",
            "INFO:werkzeug:127.0.0.1 - - [18/May/2025 20:32:17] \"POST /assign-task?agent_id=agent_3 HTTP/1.1\" 200 -\n"
          ]
        },
        {
          "output_type": "stream",
          "name": "stdout",
          "text": [
            "[2025-05-18 20:32:17,999] [INFO] [agent_3] agent_3 => navigate => https://www.wikinews.org/\n"
          ]
        },
        {
          "output_type": "stream",
          "name": "stderr",
          "text": [
            "INFO:agent_3:agent_3 => navigate => https://www.wikinews.org/\n",
            "WARNING:Main:OpenAI error Error code: 429 - {'error': {'message': 'Rate limit reached for gpt-3.5-turbo in organization org-inb5NKPyOYFJGXIGnZt0PBAa on requests per min (RPM): Limit 500, Used 500, Requested 1. Please try again in 120ms. Visit https://platform.openai.com/account/rate-limits to learn more.', 'type': 'requests', 'param': None, 'code': 'rate_limit_exceeded'}}\n",
            "WARNING:Main:OpenAI error Error code: 429 - {'error': {'message': 'Rate limit reached for gpt-3.5-turbo in organization org-inb5NKPyOYFJGXIGnZt0PBAa on requests per day (RPD): Limit 10000, Used 10000, Requested 1. Please try again in 8.64s. Visit https://platform.openai.com/account/rate-limits to learn more.', 'type': 'requests', 'param': None, 'code': 'rate_limit_exceeded'}}\n",
            "WARNING:Main:OpenAI error Error code: 429 - {'error': {'message': 'Rate limit reached for gpt-3.5-turbo in organization org-inb5NKPyOYFJGXIGnZt0PBAa on requests per day (RPD): Limit 10000, Used 10000, Requested 1. Please try again in 8.64s. Visit https://platform.openai.com/account/rate-limits to learn more.', 'type': 'requests', 'param': None, 'code': 'rate_limit_exceeded'}}\n",
            "WARNING:Main:OpenAI error Error code: 429 - {'error': {'message': 'Rate limit reached for gpt-3.5-turbo in organization org-inb5NKPyOYFJGXIGnZt0PBAa on requests per min (RPM): Limit 500, Used 500, Requested 1. Please try again in 120ms. Visit https://platform.openai.com/account/rate-limits to learn more.', 'type': 'requests', 'param': None, 'code': 'rate_limit_exceeded'}}\n",
            "WARNING:Main:OpenAI error Error code: 429 - {'error': {'message': 'Rate limit reached for gpt-3.5-turbo in organization org-inb5NKPyOYFJGXIGnZt0PBAa on requests per day (RPD): Limit 10000, Used 10000, Requested 1. Please try again in 8.64s. Visit https://platform.openai.com/account/rate-limits to learn more.', 'type': 'requests', 'param': None, 'code': 'rate_limit_exceeded'}}\n",
            "WARNING:Main:OpenAI error Error code: 429 - {'error': {'message': 'Rate limit reached for gpt-3.5-turbo in organization org-inb5NKPyOYFJGXIGnZt0PBAa on requests per min (RPM): Limit 500, Used 500, Requested 1. Please try again in 120ms. Visit https://platform.openai.com/account/rate-limits to learn more.', 'type': 'requests', 'param': None, 'code': 'rate_limit_exceeded'}}\n",
            "WARNING:Main:OpenAI error Error code: 429 - {'error': {'message': 'Rate limit reached for gpt-3.5-turbo in organization org-inb5NKPyOYFJGXIGnZt0PBAa on requests per day (RPD): Limit 10000, Used 10000, Requested 1. Please try again in 8.64s. Visit https://platform.openai.com/account/rate-limits to learn more.', 'type': 'requests', 'param': None, 'code': 'rate_limit_exceeded'}}\n",
            "WARNING:Main:OpenAI error Error code: 429 - {'error': {'message': 'Rate limit reached for gpt-3.5-turbo in organization org-inb5NKPyOYFJGXIGnZt0PBAa on requests per day (RPD): Limit 10000, Used 10000, Requested 1. Please try again in 8.64s. Visit https://platform.openai.com/account/rate-limits to learn more.', 'type': 'requests', 'param': None, 'code': 'rate_limit_exceeded'}}\n",
            "WARNING:Main:OpenAI error Error code: 429 - {'error': {'message': 'Rate limit reached for gpt-3.5-turbo in organization org-inb5NKPyOYFJGXIGnZt0PBAa on requests per min (RPM): Limit 500, Used 500, Requested 1. Please try again in 120ms. Visit https://platform.openai.com/account/rate-limits to learn more.', 'type': 'requests', 'param': None, 'code': 'rate_limit_exceeded'}}\n",
            "WARNING:Main:OpenAI error Error code: 429 - {'error': {'message': 'Rate limit reached for gpt-3.5-turbo in organization org-inb5NKPyOYFJGXIGnZt0PBAa on requests per day (RPD): Limit 10000, Used 10000, Requested 1. Please try again in 8.64s. Visit https://platform.openai.com/account/rate-limits to learn more.', 'type': 'requests', 'param': None, 'code': 'rate_limit_exceeded'}}\n",
            "INFO:werkzeug:127.0.0.1 - - [18/May/2025 20:32:18] \"POST /assign-task?agent_id=agent_2 HTTP/1.1\" 200 -\n"
          ]
        },
        {
          "output_type": "stream",
          "name": "stdout",
          "text": [
            "[2025-05-18 20:32:19,003] [INFO] [agent_4] agent_4 => CURIOUS -> NEUROTIC (chain-of-thought shift)\n"
          ]
        },
        {
          "output_type": "stream",
          "name": "stderr",
          "text": [
            "INFO:agent_4:agent_4 => CURIOUS -> NEUROTIC (chain-of-thought shift)\n"
          ]
        },
        {
          "output_type": "stream",
          "name": "stdout",
          "text": [
            "[2025-05-18 20:32:19,010] [INFO] [agent_4] agent_4 => synergy RNN => loss=165.4477\n"
          ]
        },
        {
          "output_type": "stream",
          "name": "stderr",
          "text": [
            "INFO:agent_4:agent_4 => synergy RNN => loss=165.4477\n"
          ]
        },
        {
          "output_type": "stream",
          "name": "stdout",
          "text": [
            "[2025-05-18 20:32:19,011] [INFO] [agent_4] agent_4 => buddy => (Fallback) Hello from agent_4, no chain-of-thought library installed.\n"
          ]
        },
        {
          "output_type": "stream",
          "name": "stderr",
          "text": [
            "INFO:agent_4:agent_4 => buddy => (Fallback) Hello from agent_4, no chain-of-thought library installed.\n",
            "INFO:werkzeug:127.0.0.1 - - [18/May/2025 20:32:19] \"POST /assign-task?agent_id=agent_4 HTTP/1.1\" 200 -\n"
          ]
        },
        {
          "output_type": "stream",
          "name": "stdout",
          "text": [
            "[2025-05-18 20:32:19,019] [INFO] [agent_4] agent_4 => navigate => https://www.mediawiki.org/wiki/Template:Main_page/sq\n"
          ]
        },
        {
          "output_type": "stream",
          "name": "stderr",
          "text": [
            "INFO:agent_4:agent_4 => navigate => https://www.mediawiki.org/wiki/Template:Main_page/sq\n",
            "INFO:werkzeug:127.0.0.1 - - [18/May/2025 20:32:19] \"POST /assign-task?agent_id=agent_5 HTTP/1.1\" 200 -\n",
            "INFO:werkzeug:127.0.0.1 - - [18/May/2025 20:32:19] \"POST /assign-task?agent_id=agent_3 HTTP/1.1\" 200 -\n",
            "INFO:werkzeug:127.0.0.1 - - [18/May/2025 20:32:19] \"POST /assign-task?agent_id=agent_3 HTTP/1.1\" 200 -\n",
            "INFO:werkzeug:127.0.0.1 - - [18/May/2025 20:32:19] \"POST /assign-task?agent_id=agent_4 HTTP/1.1\" 200 -\n",
            "INFO:werkzeug:127.0.0.1 - - [18/May/2025 20:32:19] \"POST /assign-task?agent_id=agent_5 HTTP/1.1\" 200 -\n",
            "INFO:werkzeug:127.0.0.1 - - [18/May/2025 20:32:19] \"POST /assign-task?agent_id=agent_2 HTTP/1.1\" 200 -\n",
            "INFO:werkzeug:127.0.0.1 - - [18/May/2025 20:32:19] \"POST /assign-task?agent_id=agent_4 HTTP/1.1\" 200 -\n",
            "INFO:werkzeug:127.0.0.1 - - [18/May/2025 20:32:19] \"POST /assign-task?agent_id=agent_1 HTTP/1.1\" 200 -\n",
            "INFO:werkzeug:127.0.0.1 - - [18/May/2025 20:32:19] \"POST /assign-task?agent_id=agent_4 HTTP/1.1\" 200 -\n",
            "INFO:werkzeug:127.0.0.1 - - [18/May/2025 20:32:19] \"POST /assign-task?agent_id=agent_1 HTTP/1.1\" 200 -\n",
            "INFO:werkzeug:127.0.0.1 - - [18/May/2025 20:32:19] \"POST /assign-task?agent_id=agent_3 HTTP/1.1\" 200 -\n",
            "INFO:werkzeug:127.0.0.1 - - [18/May/2025 20:32:19] \"POST /assign-task?agent_id=agent_2 HTTP/1.1\" 200 -\n",
            "INFO:werkzeug:127.0.0.1 - - [18/May/2025 20:32:19] \"POST /assign-task?agent_id=agent_5 HTTP/1.1\" 200 -\n",
            "INFO:werkzeug:127.0.0.1 - - [18/May/2025 20:32:19] \"POST /assign-task?agent_id=agent_1 HTTP/1.1\" 200 -\n"
          ]
        },
        {
          "output_type": "stream",
          "name": "stdout",
          "text": [
            "[2025-05-18 20:32:19,878] [INFO] [agent_5] agent_5 => CREATIVE -> CURIOUS (chain-of-thought shift)\n"
          ]
        },
        {
          "output_type": "stream",
          "name": "stderr",
          "text": [
            "INFO:agent_5:agent_5 => CREATIVE -> CURIOUS (chain-of-thought shift)\n"
          ]
        },
        {
          "output_type": "stream",
          "name": "stdout",
          "text": [
            "[2025-05-18 20:32:19,883] [INFO] [agent_5] agent_5 => synergy RNN => loss=18571.8555\n"
          ]
        },
        {
          "output_type": "stream",
          "name": "stderr",
          "text": [
            "INFO:agent_5:agent_5 => synergy RNN => loss=18571.8555\n"
          ]
        },
        {
          "output_type": "stream",
          "name": "stdout",
          "text": [
            "[2025-05-18 20:32:19,885] [INFO] [agent_5] agent_5 => buddy => (Fallback) Hello from agent_5, no chain-of-thought library installed.\n"
          ]
        },
        {
          "output_type": "stream",
          "name": "stderr",
          "text": [
            "INFO:agent_5:agent_5 => buddy => (Fallback) Hello from agent_5, no chain-of-thought library installed.\n",
            "INFO:werkzeug:127.0.0.1 - - [18/May/2025 20:32:19] \"POST /assign-task?agent_id=agent_5 HTTP/1.1\" 200 -\n"
          ]
        },
        {
          "output_type": "stream",
          "name": "stdout",
          "text": [
            "[2025-05-18 20:32:19,890] [INFO] [agent_5] agent_5 => navigate => https://subscribe.sorryapp.com/24846f03/email/new\n"
          ]
        },
        {
          "output_type": "stream",
          "name": "stderr",
          "text": [
            "INFO:agent_5:agent_5 => navigate => https://subscribe.sorryapp.com/24846f03/email/new\n"
          ]
        },
        {
          "output_type": "stream",
          "name": "stdout",
          "text": [
            "[2025-05-18 20:32:19,976] [INFO] [agent_1] agent_1 => CREATIVE -> TASK_ORIENTED (chain-of-thought shift)\n"
          ]
        },
        {
          "output_type": "stream",
          "name": "stderr",
          "text": [
            "INFO:agent_1:agent_1 => CREATIVE -> TASK_ORIENTED (chain-of-thought shift)\n",
            "WARNING:Main:OpenAI error Error code: 429 - {'error': {'message': 'Rate limit reached for gpt-3.5-turbo in organization org-inb5NKPyOYFJGXIGnZt0PBAa on requests per min (RPM): Limit 500, Used 500, Requested 1. Please try again in 120ms. Visit https://platform.openai.com/account/rate-limits to learn more.', 'type': 'requests', 'param': None, 'code': 'rate_limit_exceeded'}}\n"
          ]
        },
        {
          "output_type": "stream",
          "name": "stdout",
          "text": [
            "[2025-05-18 20:32:19,985] [INFO] [agent_1] agent_1 => synergy RNN => loss=812.3210\n"
          ]
        },
        {
          "output_type": "stream",
          "name": "stderr",
          "text": [
            "INFO:agent_1:agent_1 => synergy RNN => loss=812.3210\n",
            "INFO:werkzeug:127.0.0.1 - - [18/May/2025 20:32:19] \"POST /assign-task?agent_id=agent_1 HTTP/1.1\" 200 -\n"
          ]
        },
        {
          "output_type": "stream",
          "name": "stdout",
          "text": [
            "[2025-05-18 20:32:19,990] [INFO] [agent_1] agent_1 => navigate => https://docs.github.com/en/github/site-policy/github-terms-of-service\n"
          ]
        },
        {
          "output_type": "stream",
          "name": "stderr",
          "text": [
            "INFO:agent_1:agent_1 => navigate => https://docs.github.com/en/github/site-policy/github-terms-of-service\n",
            "WARNING:Main:OpenAI error Error code: 429 - {'error': {'message': 'Rate limit reached for gpt-3.5-turbo in organization org-inb5NKPyOYFJGXIGnZt0PBAa on requests per min (RPM): Limit 500, Used 500, Requested 1. Please try again in 120ms. Visit https://platform.openai.com/account/rate-limits to learn more.', 'type': 'requests', 'param': None, 'code': 'rate_limit_exceeded'}}\n"
          ]
        },
        {
          "output_type": "stream",
          "name": "stdout",
          "text": [
            "[2025-05-18 20:32:20,068] [INFO] [agent_2] agent_2 => TASK_ORIENTED -> CURIOUS (chain-of-thought shift)\n"
          ]
        },
        {
          "output_type": "stream",
          "name": "stderr",
          "text": [
            "INFO:agent_2:agent_2 => TASK_ORIENTED -> CURIOUS (chain-of-thought shift)\n"
          ]
        },
        {
          "output_type": "stream",
          "name": "stdout",
          "text": [
            "[2025-05-18 20:32:20,077] [INFO] [agent_2] agent_2 => synergy RNN => loss=14552.6289\n"
          ]
        },
        {
          "output_type": "stream",
          "name": "stderr",
          "text": [
            "INFO:agent_2:agent_2 => synergy RNN => loss=14552.6289\n"
          ]
        },
        {
          "output_type": "stream",
          "name": "stdout",
          "text": [
            "[2025-05-18 20:32:20,078] [INFO] [agent_2] agent_2 => buddy => (Fallback) Hello from agent_2, no chain-of-thought library installed.\n"
          ]
        },
        {
          "output_type": "stream",
          "name": "stderr",
          "text": [
            "INFO:agent_2:agent_2 => buddy => (Fallback) Hello from agent_2, no chain-of-thought library installed.\n",
            "INFO:werkzeug:127.0.0.1 - - [18/May/2025 20:32:20] \"POST /assign-task?agent_id=agent_2 HTTP/1.1\" 200 -\n"
          ]
        },
        {
          "output_type": "stream",
          "name": "stdout",
          "text": [
            "[2025-05-18 20:32:20,084] [INFO] [agent_2] agent_2 => navigate => https://als.wikipedia.org/wiki/Wikipedia:Hilfe\n"
          ]
        },
        {
          "output_type": "stream",
          "name": "stderr",
          "text": [
            "INFO:agent_2:agent_2 => navigate => https://als.wikipedia.org/wiki/Wikipedia:Hilfe\n"
          ]
        },
        {
          "output_type": "stream",
          "name": "stdout",
          "text": [
            "[2025-05-18 20:32:20,090] [INFO] [agent_3] agent_3 => NEUROTIC -> CURIOUS (chain-of-thought shift)\n"
          ]
        },
        {
          "output_type": "stream",
          "name": "stderr",
          "text": [
            "INFO:agent_3:agent_3 => NEUROTIC -> CURIOUS (chain-of-thought shift)\n",
            "WARNING:Main:OpenAI error Error code: 429 - {'error': {'message': 'Rate limit reached for gpt-3.5-turbo in organization org-inb5NKPyOYFJGXIGnZt0PBAa on requests per day (RPD): Limit 10000, Used 10000, Requested 1. Please try again in 8.64s. Visit https://platform.openai.com/account/rate-limits to learn more.', 'type': 'requests', 'param': None, 'code': 'rate_limit_exceeded'}}\n"
          ]
        },
        {
          "output_type": "stream",
          "name": "stdout",
          "text": [
            "[2025-05-18 20:32:20,097] [INFO] [agent_3] agent_3 => synergy RNN => loss=1183.5945\n"
          ]
        },
        {
          "output_type": "stream",
          "name": "stderr",
          "text": [
            "INFO:agent_3:agent_3 => synergy RNN => loss=1183.5945\n"
          ]
        },
        {
          "output_type": "stream",
          "name": "stdout",
          "text": [
            "[2025-05-18 20:32:20,098] [INFO] [agent_3] agent_3 => buddy => (Fallback) Hello from agent_3, no chain-of-thought library installed.\n"
          ]
        },
        {
          "output_type": "stream",
          "name": "stderr",
          "text": [
            "INFO:agent_3:agent_3 => buddy => (Fallback) Hello from agent_3, no chain-of-thought library installed.\n",
            "INFO:werkzeug:127.0.0.1 - - [18/May/2025 20:32:20] \"POST /assign-task?agent_id=agent_3 HTTP/1.1\" 200 -\n"
          ]
        },
        {
          "output_type": "stream",
          "name": "stdout",
          "text": [
            "[2025-05-18 20:32:20,105] [INFO] [agent_3] agent_3 => navigate => https://si.wikipedia.org/wiki/%E0%B7%80%E0%B7%92%E0%B6%9A%E0%B7%92%E0%B6%B4%E0%B7%93%E0%B6%A9%E0%B7%92%E0%B6%BA%E0%B7%8F:%E0%B6%B4%E0%B7%92%E0%B7%85%E0%B7%92%E0%B6%B6%E0%B6%B3\n"
          ]
        },
        {
          "output_type": "stream",
          "name": "stderr",
          "text": [
            "INFO:agent_3:agent_3 => navigate => https://si.wikipedia.org/wiki/%E0%B7%80%E0%B7%92%E0%B6%9A%E0%B7%92%E0%B6%B4%E0%B7%93%E0%B6%A9%E0%B7%92%E0%B6%BA%E0%B7%8F:%E0%B6%B4%E0%B7%92%E0%B7%85%E0%B7%92%E0%B6%B6%E0%B6%B3\n",
            "WARNING:Main:OpenAI error Error code: 429 - {'error': {'message': 'Rate limit reached for gpt-3.5-turbo in organization org-inb5NKPyOYFJGXIGnZt0PBAa on requests per day (RPD): Limit 10000, Used 10000, Requested 1. Please try again in 8.64s. Visit https://platform.openai.com/account/rate-limits to learn more.', 'type': 'requests', 'param': None, 'code': 'rate_limit_exceeded'}}\n",
            "WARNING:Main:OpenAI error Error code: 429 - {'error': {'message': 'Rate limit reached for gpt-3.5-turbo in organization org-inb5NKPyOYFJGXIGnZt0PBAa on requests per day (RPD): Limit 10000, Used 10000, Requested 1. Please try again in 8.64s. Visit https://platform.openai.com/account/rate-limits to learn more.', 'type': 'requests', 'param': None, 'code': 'rate_limit_exceeded'}}\n",
            "WARNING:Main:OpenAI error Error code: 429 - {'error': {'message': 'Rate limit reached for gpt-3.5-turbo in organization org-inb5NKPyOYFJGXIGnZt0PBAa on requests per day (RPD): Limit 10000, Used 10000, Requested 1. Please try again in 8.64s. Visit https://platform.openai.com/account/rate-limits to learn more.', 'type': 'requests', 'param': None, 'code': 'rate_limit_exceeded'}}\n",
            "WARNING:Main:OpenAI error Error code: 429 - {'error': {'message': 'Rate limit reached for gpt-3.5-turbo in organization org-inb5NKPyOYFJGXIGnZt0PBAa on requests per day (RPD): Limit 10000, Used 10000, Requested 1. Please try again in 8.64s. Visit https://platform.openai.com/account/rate-limits to learn more.', 'type': 'requests', 'param': None, 'code': 'rate_limit_exceeded'}}\n",
            "WARNING:Main:OpenAI error Error code: 429 - {'error': {'message': 'Rate limit reached for gpt-3.5-turbo in organization org-inb5NKPyOYFJGXIGnZt0PBAa on requests per min (RPM): Limit 500, Used 500, Requested 1. Please try again in 120ms. Visit https://platform.openai.com/account/rate-limits to learn more.', 'type': 'requests', 'param': None, 'code': 'rate_limit_exceeded'}}\n",
            "WARNING:Main:OpenAI error Error code: 429 - {'error': {'message': 'Rate limit reached for gpt-3.5-turbo in organization org-inb5NKPyOYFJGXIGnZt0PBAa on requests per min (RPM): Limit 500, Used 500, Requested 1. Please try again in 120ms. Visit https://platform.openai.com/account/rate-limits to learn more.', 'type': 'requests', 'param': None, 'code': 'rate_limit_exceeded'}}\n"
          ]
        },
        {
          "output_type": "stream",
          "name": "stdout",
          "text": [
            "  Installing build dependencies ... \u001b[?25l\u001b[?25hdone\n",
            "  Getting requirements to build wheel ... \u001b[?25l\u001b[?25hdone\n"
          ]
        },
        {
          "output_type": "stream",
          "name": "stderr",
          "text": [
            "INFO:werkzeug:127.0.0.1 - - [18/May/2025 20:32:20] \"POST /assign-task?agent_id=agent_2 HTTP/1.1\" 200 -\n",
            "INFO:werkzeug:127.0.0.1 - - [18/May/2025 20:32:21] \"POST /assign-task?agent_id=agent_5 HTTP/1.1\" 200 -\n",
            "INFO:werkzeug:127.0.0.1 - - [18/May/2025 20:32:21] \"POST /assign-task?agent_id=agent_3 HTTP/1.1\" 200 -\n"
          ]
        },
        {
          "output_type": "stream",
          "name": "stdout",
          "text": [
            "  Preparing metadata (pyproject.toml) ... \u001b[?25l\u001b[?25hdone\n",
            "Requirement already satisfied: griffe<2,>=1.5.6 in /usr/local/lib/python3.11/dist-packages (from openai-agents==0.0.15) (1.7.3)\n",
            "Requirement already satisfied: mcp<2,>=1.8.0 in /usr/local/lib/python3.11/dist-packages (from openai-agents==0.0.15) (1.9.0)\n",
            "Requirement already satisfied: openai>=1.76.0 in /usr/local/lib/python3.11/dist-packages (from openai-agents==0.0.15) (1.78.1)\n",
            "Requirement already satisfied: pydantic<3,>=2.10 in /usr/local/lib/python3.11/dist-packages (from openai-agents==0.0.15) (2.11.4)\n",
            "Requirement already satisfied: requests<3,>=2.0 in /usr/local/lib/python3.11/dist-packages (from openai-agents==0.0.15) (2.32.3)\n",
            "Requirement already satisfied: types-requests<3,>=2.0 in /usr/local/lib/python3.11/dist-packages (from openai-agents==0.0.15) (2.32.0.20250515)\n",
            "Requirement already satisfied: typing-extensions<5,>=4.12.2 in /usr/local/lib/python3.11/dist-packages (from openai-agents==0.0.15) (4.13.2)\n",
            "Requirement already satisfied: colorama>=0.4 in /usr/local/lib/python3.11/dist-packages (from griffe<2,>=1.5.6->openai-agents==0.0.15) (0.4.6)\n",
            "Requirement already satisfied: anyio>=4.5 in /usr/local/lib/python3.11/dist-packages (from mcp<2,>=1.8.0->openai-agents==0.0.15) (4.9.0)\n",
            "Requirement already satisfied: httpx-sse>=0.4 in /usr/local/lib/python3.11/dist-packages (from mcp<2,>=1.8.0->openai-agents==0.0.15) (0.4.0)\n",
            "Requirement already satisfied: httpx>=0.27 in /usr/local/lib/python3.11/dist-packages (from mcp<2,>=1.8.0->openai-agents==0.0.15) (0.28.1)\n",
            "Requirement already satisfied: pydantic-settings>=2.5.2 in /usr/local/lib/python3.11/dist-packages (from mcp<2,>=1.8.0->openai-agents==0.0.15) (2.9.1)\n",
            "Requirement already satisfied: python-multipart>=0.0.9 in /usr/local/lib/python3.11/dist-packages (from mcp<2,>=1.8.0->openai-agents==0.0.15) (0.0.20)\n",
            "Requirement already satisfied: sse-starlette>=1.6.1 in /usr/local/lib/python3.11/dist-packages (from mcp<2,>=1.8.0->openai-agents==0.0.15) (2.3.5)\n",
            "Requirement already satisfied: starlette>=0.27 in /usr/local/lib/python3.11/dist-packages (from mcp<2,>=1.8.0->openai-agents==0.0.15) (0.46.2)\n",
            "Requirement already satisfied: uvicorn>=0.23.1 in /usr/local/lib/python3.11/dist-packages (from mcp<2,>=1.8.0->openai-agents==0.0.15) (0.34.2)\n",
            "Requirement already satisfied: distro<2,>=1.7.0 in /usr/local/lib/python3.11/dist-packages (from openai>=1.76.0->openai-agents==0.0.15) (1.9.0)\n",
            "Requirement already satisfied: jiter<1,>=0.4.0 in /usr/local/lib/python3.11/dist-packages (from openai>=1.76.0->openai-agents==0.0.15) (0.9.0)\n",
            "Requirement already satisfied: sniffio in /usr/local/lib/python3.11/dist-packages (from openai>=1.76.0->openai-agents==0.0.15) (1.3.1)\n",
            "Requirement already satisfied: tqdm>4 in /usr/local/lib/python3.11/dist-packages (from openai>=1.76.0->openai-agents==0.0.15) (4.67.1)\n",
            "Requirement already satisfied: annotated-types>=0.6.0 in /usr/local/lib/python3.11/dist-packages (from pydantic<3,>=2.10->openai-agents==0.0.15) (0.7.0)\n",
            "Requirement already satisfied: pydantic-core==2.33.2 in /usr/local/lib/python3.11/dist-packages (from pydantic<3,>=2.10->openai-agents==0.0.15) (2.33.2)\n",
            "Requirement already satisfied: typing-inspection>=0.4.0 in /usr/local/lib/python3.11/dist-packages (from pydantic<3,>=2.10->openai-agents==0.0.15) (0.4.0)\n",
            "Requirement already satisfied: charset-normalizer<4,>=2 in /usr/local/lib/python3.11/dist-packages (from requests<3,>=2.0->openai-agents==0.0.15) (3.4.2)\n",
            "Requirement already satisfied: idna<4,>=2.5 in /usr/local/lib/python3.11/dist-packages (from requests<3,>=2.0->openai-agents==0.0.15) (3.10)\n",
            "Requirement already satisfied: urllib3<3,>=1.21.1 in /usr/local/lib/python3.11/dist-packages (from requests<3,>=2.0->openai-agents==0.0.15) (2.4.0)\n",
            "Requirement already satisfied: certifi>=2017.4.17 in /usr/local/lib/python3.11/dist-packages (from requests<3,>=2.0->openai-agents==0.0.15) (2025.4.26)\n",
            "Requirement already satisfied: httpcore==1.* in /usr/local/lib/python3.11/dist-packages (from httpx>=0.27->mcp<2,>=1.8.0->openai-agents==0.0.15) (1.0.9)\n",
            "Requirement already satisfied: h11>=0.16 in /usr/local/lib/python3.11/dist-packages (from httpcore==1.*->httpx>=0.27->mcp<2,>=1.8.0->openai-agents==0.0.15) (0.16.0)\n",
            "[2025-05-18 20:32:21,095] [INFO] [agent_4] agent_4 => synergy RNN => loss=1729.7109\n"
          ]
        },
        {
          "output_type": "stream",
          "name": "stderr",
          "text": [
            "INFO:agent_4:agent_4 => synergy RNN => loss=1729.7109\n"
          ]
        },
        {
          "output_type": "stream",
          "name": "stdout",
          "text": [
            "[2025-05-18 20:32:21,097] [INFO] [agent_4] agent_4 => buddy => (Fallback) Hello from agent_4, no chain-of-thought library installed.\n"
          ]
        },
        {
          "output_type": "stream",
          "name": "stderr",
          "text": [
            "INFO:agent_4:agent_4 => buddy => (Fallback) Hello from agent_4, no chain-of-thought library installed.\n",
            "INFO:werkzeug:127.0.0.1 - - [18/May/2025 20:32:21] \"POST /assign-task?agent_id=agent_4 HTTP/1.1\" 200 -\n"
          ]
        },
        {
          "output_type": "stream",
          "name": "stdout",
          "text": [
            "[2025-05-18 20:32:21,104] [INFO] [agent_4] agent_4 => navigate => https://play.google.com/store/apps/details?id=org.wikipedia&referrer=utm_source%3Dportal%26utm_medium%3Dbutton%26anid%3Dadmob\n"
          ]
        },
        {
          "output_type": "stream",
          "name": "stderr",
          "text": [
            "INFO:agent_4:agent_4 => navigate => https://play.google.com/store/apps/details?id=org.wikipedia&referrer=utm_source%3Dportal%26utm_medium%3Dbutton%26anid%3Dadmob\n",
            "INFO:werkzeug:127.0.0.1 - - [18/May/2025 20:32:21] \"POST /assign-task?agent_id=agent_3 HTTP/1.1\" 200 -\n",
            "INFO:werkzeug:127.0.0.1 - - [18/May/2025 20:32:21] \"POST /assign-task?agent_id=agent_4 HTTP/1.1\" 200 -\n",
            "INFO:werkzeug:127.0.0.1 - - [18/May/2025 20:32:21] \"POST /assign-task?agent_id=agent_5 HTTP/1.1\" 200 -\n",
            "INFO:werkzeug:127.0.0.1 - - [18/May/2025 20:32:21] \"POST /assign-task?agent_id=agent_2 HTTP/1.1\" 200 -\n",
            "INFO:werkzeug:127.0.0.1 - - [18/May/2025 20:32:21] \"POST /assign-task?agent_id=agent_1 HTTP/1.1\" 200 -\n",
            "INFO:werkzeug:127.0.0.1 - - [18/May/2025 20:32:21] \"POST /assign-task?agent_id=agent_4 HTTP/1.1\" 200 -\n"
          ]
        },
        {
          "output_type": "stream",
          "name": "stdout",
          "text": [
            "Requirement already satisfied: python-dotenv>=0.21.0 in /usr/local/lib/python3.11/dist-packages (from pydantic-settings>=2.5.2->mcp<2,>=1.8.0->openai-agents==0.0.15) (1.1.0)\n",
            "Requirement already satisfied: click>=7.0 in /usr/local/lib/python3.11/dist-packages (from uvicorn>=0.23.1->mcp<2,>=1.8.0->openai-agents==0.0.15) (8.2.0)\n"
          ]
        },
        {
          "output_type": "stream",
          "name": "stderr",
          "text": [
            "INFO:werkzeug:127.0.0.1 - - [18/May/2025 20:32:21] \"POST /assign-task?agent_id=agent_4 HTTP/1.1\" 200 -\n",
            "INFO:werkzeug:127.0.0.1 - - [18/May/2025 20:32:21] \"POST /assign-task?agent_id=agent_1 HTTP/1.1\" 200 -\n",
            "INFO:werkzeug:127.0.0.1 - - [18/May/2025 20:32:21] \"POST /assign-task?agent_id=agent_3 HTTP/1.1\" 200 -\n",
            "INFO:werkzeug:127.0.0.1 - - [18/May/2025 20:32:21] \"POST /assign-task?agent_id=agent_2 HTTP/1.1\" 200 -\n",
            "INFO:werkzeug:127.0.0.1 - - [18/May/2025 20:32:21] \"POST /assign-task?agent_id=agent_5 HTTP/1.1\" 200 -\n",
            "INFO:werkzeug:127.0.0.1 - - [18/May/2025 20:32:21] \"POST /assign-task?agent_id=agent_1 HTTP/1.1\" 200 -\n",
            "WARNING:Main:OpenAI error Error code: 429 - {'error': {'message': 'Rate limit reached for gpt-3.5-turbo in organization org-inb5NKPyOYFJGXIGnZt0PBAa on requests per min (RPM): Limit 500, Used 500, Requested 1. Please try again in 120ms. Visit https://platform.openai.com/account/rate-limits to learn more.', 'type': 'requests', 'param': None, 'code': 'rate_limit_exceeded'}}\n"
          ]
        },
        {
          "output_type": "stream",
          "name": "stdout",
          "text": [
            "[2025-05-18 20:32:21,957] [INFO] [agent_5] agent_5 => CURIOUS -> CREATIVE (chain-of-thought shift)\n"
          ]
        },
        {
          "output_type": "stream",
          "name": "stderr",
          "text": [
            "INFO:agent_5:agent_5 => CURIOUS -> CREATIVE (chain-of-thought shift)\n"
          ]
        },
        {
          "output_type": "stream",
          "name": "stdout",
          "text": [
            "[2025-05-18 20:32:21,963] [INFO] [agent_5] agent_5 => synergy RNN => loss=22143.9844\n"
          ]
        },
        {
          "output_type": "stream",
          "name": "stderr",
          "text": [
            "INFO:agent_5:agent_5 => synergy RNN => loss=22143.9844\n",
            "INFO:werkzeug:127.0.0.1 - - [18/May/2025 20:32:21] \"POST /assign-task?agent_id=agent_5 HTTP/1.1\" 200 -\n"
          ]
        },
        {
          "output_type": "stream",
          "name": "stdout",
          "text": [
            "[2025-05-18 20:32:21,970] [INFO] [agent_5] agent_5 => navigate => https://github.blog/\n"
          ]
        },
        {
          "output_type": "stream",
          "name": "stderr",
          "text": [
            "INFO:agent_5:agent_5 => navigate => https://github.blog/\n",
            "WARNING:Main:OpenAI error Error code: 429 - {'error': {'message': 'Rate limit reached for gpt-3.5-turbo in organization org-inb5NKPyOYFJGXIGnZt0PBAa on requests per min (RPM): Limit 500, Used 500, Requested 1. Please try again in 120ms. Visit https://platform.openai.com/account/rate-limits to learn more.', 'type': 'requests', 'param': None, 'code': 'rate_limit_exceeded'}}\n",
            "WARNING:Main:OpenAI error Error code: 429 - {'error': {'message': 'Rate limit reached for gpt-3.5-turbo in organization org-inb5NKPyOYFJGXIGnZt0PBAa on requests per day (RPD): Limit 10000, Used 10000, Requested 1. Please try again in 8.64s. Visit https://platform.openai.com/account/rate-limits to learn more.', 'type': 'requests', 'param': None, 'code': 'rate_limit_exceeded'}}\n",
            "WARNING:Main:OpenAI error Error code: 429 - {'error': {'message': 'Rate limit reached for gpt-3.5-turbo in organization org-inb5NKPyOYFJGXIGnZt0PBAa on requests per min (RPM): Limit 500, Used 500, Requested 1. Please try again in 120ms. Visit https://platform.openai.com/account/rate-limits to learn more.', 'type': 'requests', 'param': None, 'code': 'rate_limit_exceeded'}}\n"
          ]
        },
        {
          "output_type": "stream",
          "name": "stdout",
          "text": [
            "[2025-05-18 20:32:22,078] [INFO] [agent_1] agent_1 => TASK_ORIENTED -> CREATIVE (chain-of-thought shift)\n"
          ]
        },
        {
          "output_type": "stream",
          "name": "stderr",
          "text": [
            "INFO:agent_1:agent_1 => TASK_ORIENTED -> CREATIVE (chain-of-thought shift)\n"
          ]
        },
        {
          "output_type": "stream",
          "name": "stdout",
          "text": [
            "[2025-05-18 20:32:22,085] [INFO] [agent_1] agent_1 => synergy RNN => loss=9163.9326\n"
          ]
        },
        {
          "output_type": "stream",
          "name": "stderr",
          "text": [
            "INFO:agent_1:agent_1 => synergy RNN => loss=9163.9326\n",
            "INFO:werkzeug:127.0.0.1 - - [18/May/2025 20:32:22] \"POST /assign-task?agent_id=agent_1 HTTP/1.1\" 200 -\n"
          ]
        },
        {
          "output_type": "stream",
          "name": "stdout",
          "text": [
            "[2025-05-18 20:32:22,093] [INFO] [agent_1] agent_1 => navigate => https://socialimpact.github.com\n"
          ]
        },
        {
          "output_type": "stream",
          "name": "stderr",
          "text": [
            "INFO:agent_1:agent_1 => navigate => https://socialimpact.github.com\n",
            "WARNING:Main:OpenAI error Error code: 429 - {'error': {'message': 'Rate limit reached for gpt-3.5-turbo in organization org-inb5NKPyOYFJGXIGnZt0PBAa on requests per min (RPM): Limit 500, Used 500, Requested 1. Please try again in 120ms. Visit https://platform.openai.com/account/rate-limits to learn more.', 'type': 'requests', 'param': None, 'code': 'rate_limit_exceeded'}}\n",
            "WARNING:Main:OpenAI error Error code: 429 - {'error': {'message': 'Rate limit reached for gpt-3.5-turbo in organization org-inb5NKPyOYFJGXIGnZt0PBAa on requests per min (RPM): Limit 500, Used 500, Requested 1. Please try again in 120ms. Visit https://platform.openai.com/account/rate-limits to learn more.', 'type': 'requests', 'param': None, 'code': 'rate_limit_exceeded'}}\n"
          ]
        },
        {
          "output_type": "stream",
          "name": "stdout",
          "text": [
            "[2025-05-18 20:32:22,165] [INFO] [agent_2] agent_2 => CURIOUS -> HUMOR (chain-of-thought shift)\n"
          ]
        },
        {
          "output_type": "stream",
          "name": "stderr",
          "text": [
            "INFO:agent_2:agent_2 => CURIOUS -> HUMOR (chain-of-thought shift)\n"
          ]
        },
        {
          "output_type": "stream",
          "name": "stdout",
          "text": [
            "[2025-05-18 20:32:22,172] [INFO] [agent_2] agent_2 => synergy RNN => loss=20633.8223\n"
          ]
        },
        {
          "output_type": "stream",
          "name": "stderr",
          "text": [
            "INFO:agent_2:agent_2 => synergy RNN => loss=20633.8223\n"
          ]
        },
        {
          "output_type": "stream",
          "name": "stdout",
          "text": [
            "[2025-05-18 20:32:22,173] [INFO] [agent_2] agent_2 => buddy => (Fallback) Hello from agent_2, no chain-of-thought library installed.\n"
          ]
        },
        {
          "output_type": "stream",
          "name": "stderr",
          "text": [
            "INFO:agent_2:agent_2 => buddy => (Fallback) Hello from agent_2, no chain-of-thought library installed.\n",
            "INFO:werkzeug:127.0.0.1 - - [18/May/2025 20:32:22] \"POST /assign-task?agent_id=agent_2 HTTP/1.1\" 200 -\n"
          ]
        },
        {
          "output_type": "stream",
          "name": "stdout",
          "text": [
            "[2025-05-18 20:32:22,180] [INFO] [agent_2] agent_2 => navigate => https://foundation.wikimedia.org/wiki/Special:MyLanguage/Policy:Cookie_statement\n"
          ]
        },
        {
          "output_type": "stream",
          "name": "stderr",
          "text": [
            "INFO:agent_2:agent_2 => navigate => https://foundation.wikimedia.org/wiki/Special:MyLanguage/Policy:Cookie_statement\n"
          ]
        },
        {
          "output_type": "stream",
          "name": "stdout",
          "text": [
            "[2025-05-18 20:32:22,224] [INFO] [agent_3] agent_3 => CURIOUS -> TASK_ORIENTED (chain-of-thought shift)\n"
          ]
        },
        {
          "output_type": "stream",
          "name": "stderr",
          "text": [
            "INFO:agent_3:agent_3 => CURIOUS -> TASK_ORIENTED (chain-of-thought shift)\n"
          ]
        },
        {
          "output_type": "stream",
          "name": "stdout",
          "text": [
            "[2025-05-18 20:32:22,229] [INFO] [agent_3] agent_3 => synergy RNN => loss=7.7173\n"
          ]
        },
        {
          "output_type": "stream",
          "name": "stderr",
          "text": [
            "INFO:agent_3:agent_3 => synergy RNN => loss=7.7173\n"
          ]
        },
        {
          "output_type": "stream",
          "name": "stdout",
          "text": [
            "[2025-05-18 20:32:22,231] [INFO] [agent_3] agent_3 => buddy => (Fallback) Hello from agent_3, no chain-of-thought library installed.\n"
          ]
        },
        {
          "output_type": "stream",
          "name": "stderr",
          "text": [
            "INFO:agent_3:agent_3 => buddy => (Fallback) Hello from agent_3, no chain-of-thought library installed.\n",
            "INFO:werkzeug:127.0.0.1 - - [18/May/2025 20:32:22] \"POST /assign-task?agent_id=agent_3 HTTP/1.1\" 200 -\n"
          ]
        },
        {
          "output_type": "stream",
          "name": "stdout",
          "text": [
            "[2025-05-18 20:32:22,237] [INFO] [agent_3] agent_3 => navigate => https://sq.wikipedia.org/wiki/Wikipedia:Rreth\n"
          ]
        },
        {
          "output_type": "stream",
          "name": "stderr",
          "text": [
            "INFO:agent_3:agent_3 => navigate => https://sq.wikipedia.org/wiki/Wikipedia:Rreth\n",
            "WARNING:Main:OpenAI error Error code: 429 - {'error': {'message': 'Rate limit reached for gpt-3.5-turbo in organization org-inb5NKPyOYFJGXIGnZt0PBAa on requests per day (RPD): Limit 10000, Used 10000, Requested 1. Please try again in 8.64s. Visit https://platform.openai.com/account/rate-limits to learn more.', 'type': 'requests', 'param': None, 'code': 'rate_limit_exceeded'}}\n",
            "WARNING:Main:OpenAI error Error code: 429 - {'error': {'message': 'Rate limit reached for gpt-3.5-turbo in organization org-inb5NKPyOYFJGXIGnZt0PBAa on requests per day (RPD): Limit 10000, Used 10000, Requested 1. Please try again in 8.64s. Visit https://platform.openai.com/account/rate-limits to learn more.', 'type': 'requests', 'param': None, 'code': 'rate_limit_exceeded'}}\n",
            "WARNING:Main:OpenAI error Error code: 429 - {'error': {'message': 'Rate limit reached for gpt-3.5-turbo in organization org-inb5NKPyOYFJGXIGnZt0PBAa on requests per min (RPM): Limit 500, Used 500, Requested 1. Please try again in 120ms. Visit https://platform.openai.com/account/rate-limits to learn more.', 'type': 'requests', 'param': None, 'code': 'rate_limit_exceeded'}}\n",
            "WARNING:Main:OpenAI error Error code: 429 - {'error': {'message': 'Rate limit reached for gpt-3.5-turbo in organization org-inb5NKPyOYFJGXIGnZt0PBAa on requests per min (RPM): Limit 500, Used 500, Requested 1. Please try again in 120ms. Visit https://platform.openai.com/account/rate-limits to learn more.', 'type': 'requests', 'param': None, 'code': 'rate_limit_exceeded'}}\n",
            "INFO:werkzeug:127.0.0.1 - - [18/May/2025 20:32:22] \"POST /assign-task?agent_id=agent_2 HTTP/1.1\" 200 -\n",
            "INFO:werkzeug:127.0.0.1 - - [18/May/2025 20:32:23] \"POST /assign-task?agent_id=agent_5 HTTP/1.1\" 200 -\n",
            "INFO:werkzeug:127.0.0.1 - - [18/May/2025 20:32:23] \"POST /assign-task?agent_id=agent_3 HTTP/1.1\" 200 -\n",
            "INFO:werkzeug:127.0.0.1 - - [18/May/2025 20:32:23] \"POST /assign-task?agent_id=agent_3 HTTP/1.1\" 200 -\n",
            "INFO:werkzeug:127.0.0.1 - - [18/May/2025 20:32:23] \"POST /assign-task?agent_id=agent_4 HTTP/1.1\" 200 -\n",
            "INFO:werkzeug:127.0.0.1 - - [18/May/2025 20:32:23] \"POST /assign-task?agent_id=agent_5 HTTP/1.1\" 200 -\n",
            "INFO:werkzeug:127.0.0.1 - - [18/May/2025 20:32:23] \"POST /assign-task?agent_id=agent_2 HTTP/1.1\" 200 -\n",
            "INFO:werkzeug:127.0.0.1 - - [18/May/2025 20:32:23] \"POST /assign-task?agent_id=agent_1 HTTP/1.1\" 200 -\n",
            "INFO:werkzeug:127.0.0.1 - - [18/May/2025 20:32:23] \"POST /assign-task?agent_id=agent_4 HTTP/1.1\" 200 -\n"
          ]
        },
        {
          "output_type": "stream",
          "name": "stdout",
          "text": [
            "[2025-05-18 20:32:23,283] [INFO] [agent_4] agent_4 => NEUROTIC -> ANALYTICAL (chain-of-thought shift)\n"
          ]
        },
        {
          "output_type": "stream",
          "name": "stderr",
          "text": [
            "INFO:agent_4:agent_4 => NEUROTIC -> ANALYTICAL (chain-of-thought shift)\n"
          ]
        },
        {
          "output_type": "stream",
          "name": "stdout",
          "text": [
            "[2025-05-18 20:32:23,290] [INFO] [agent_4] agent_4 => synergy RNN => loss=1160.8293\n"
          ]
        },
        {
          "output_type": "stream",
          "name": "stderr",
          "text": [
            "INFO:agent_4:agent_4 => synergy RNN => loss=1160.8293\n"
          ]
        },
        {
          "output_type": "stream",
          "name": "stdout",
          "text": [
            "[2025-05-18 20:32:23,291] [INFO] [agent_4] agent_4 => buddy => (Fallback) Hello from agent_4, no chain-of-thought library installed.\n"
          ]
        },
        {
          "output_type": "stream",
          "name": "stderr",
          "text": [
            "INFO:agent_4:agent_4 => buddy => (Fallback) Hello from agent_4, no chain-of-thought library installed.\n",
            "INFO:werkzeug:127.0.0.1 - - [18/May/2025 20:32:23] \"POST /assign-task?agent_id=agent_4 HTTP/1.1\" 200 -\n"
          ]
        },
        {
          "output_type": "stream",
          "name": "stdout",
          "text": [
            "[2025-05-18 20:32:23,298] [INFO] [agent_4] agent_4 => navigate => https://mastodon.social/@creativecommons\n"
          ]
        },
        {
          "output_type": "stream",
          "name": "stderr",
          "text": [
            "INFO:agent_4:agent_4 => navigate => https://mastodon.social/@creativecommons\n",
            "INFO:werkzeug:127.0.0.1 - - [18/May/2025 20:32:23] \"POST /assign-task?agent_id=agent_4 HTTP/1.1\" 200 -\n",
            "INFO:werkzeug:127.0.0.1 - - [18/May/2025 20:32:23] \"POST /assign-task?agent_id=agent_1 HTTP/1.1\" 200 -\n",
            "INFO:werkzeug:127.0.0.1 - - [18/May/2025 20:32:23] \"POST /assign-task?agent_id=agent_3 HTTP/1.1\" 200 -\n",
            "INFO:werkzeug:127.0.0.1 - - [18/May/2025 20:32:23] \"POST /assign-task?agent_id=agent_2 HTTP/1.1\" 200 -\n",
            "INFO:werkzeug:127.0.0.1 - - [18/May/2025 20:32:23] \"POST /assign-task?agent_id=agent_5 HTTP/1.1\" 200 -\n",
            "INFO:werkzeug:127.0.0.1 - - [18/May/2025 20:32:23] \"POST /assign-task?agent_id=agent_1 HTTP/1.1\" 200 -\n",
            "WARNING:Main:OpenAI error Error code: 429 - {'error': {'message': 'Rate limit reached for gpt-3.5-turbo in organization org-inb5NKPyOYFJGXIGnZt0PBAa on requests per day (RPD): Limit 10000, Used 10000, Requested 1. Please try again in 8.64s. Visit https://platform.openai.com/account/rate-limits to learn more.', 'type': 'requests', 'param': None, 'code': 'rate_limit_exceeded'}}\n"
          ]
        },
        {
          "output_type": "stream",
          "name": "stdout",
          "text": [
            "Requirement already satisfied: flask in /usr/local/lib/python3.11/dist-packages (3.1.1)\n",
            "Requirement already satisfied: flask-socketio in /usr/local/lib/python3.11/dist-packages (5.5.1)\n",
            "Requirement already satisfied: requests in /usr/local/lib/python3.11/dist-packages (2.32.3)\n",
            "Requirement already satisfied: nest_asyncio in /usr/local/lib/python3.11/dist-packages (1.6.0)\n",
            "Requirement already satisfied: torch in /usr/local/lib/python3.11/dist-packages (2.6.0+cu124)\n",
            "Requirement already satisfied: numpy in /usr/local/lib/python3.11/dist-packages (2.0.2)\n",
            "Requirement already satisfied: bs4 in /usr/local/lib/python3.11/dist-packages (0.0.2)\n",
            "Requirement already satisfied: pyngrok in /usr/local/lib/python3.11/dist-packages (7.2.8)\n",
            "Requirement already satisfied: blinker>=1.9.0 in /usr/local/lib/python3.11/dist-packages (from flask) (1.9.0)\n",
            "Requirement already satisfied: click>=8.1.3 in /usr/local/lib/python3.11/dist-packages (from flask) (8.2.0)\n",
            "Requirement already satisfied: itsdangerous>=2.2.0 in /usr/local/lib/python3.11/dist-packages (from flask) (2.2.0)\n",
            "Requirement already satisfied: jinja2>=3.1.2 in /usr/local/lib/python3.11/dist-packages (from flask) (3.1.6)\n",
            "Requirement already satisfied: markupsafe>=2.1.1 in /usr/local/lib/python3.11/dist-packages (from flask) (3.0.2)\n",
            "Requirement already satisfied: werkzeug>=3.1.0 in /usr/local/lib/python3.11/dist-packages (from flask) (3.1.3)\n",
            "Requirement already satisfied: python-socketio>=5.12.0 in /usr/local/lib/python3.11/dist-packages (from flask-socketio) (5.13.0)\n",
            "Requirement already satisfied: charset-normalizer<4,>=2 in /usr/local/lib/python3.11/dist-packages (from requests) (3.4.2)\n",
            "Requirement already satisfied: idna<4,>=2.5 in /usr/local/lib/python3.11/dist-packages (from requests) (3.10)\n",
            "Requirement already satisfied: urllib3<3,>=1.21.1 in /usr/local/lib/python3.11/dist-packages (from requests) (2.4.0)\n",
            "Requirement already satisfied: certifi>=2017.4.17 in /usr/local/lib/python3.11/dist-packages (from requests) (2025.4.26)\n",
            "Requirement already satisfied: filelock in /usr/local/lib/python3.11/dist-packages (from torch) (3.18.0)\n",
            "Requirement already satisfied: typing-extensions>=4.10.0 in /usr/local/lib/python3.11/dist-packages (from torch) (4.13.2)\n",
            "Requirement already satisfied: networkx in /usr/local/lib/python3.11/dist-packages (from torch) (3.4.2)\n",
            "Requirement already satisfied: fsspec in /usr/local/lib/python3.11/dist-packages (from torch) (2025.3.2)\n",
            "Requirement already satisfied: nvidia-cuda-nvrtc-cu12==12.4.127 in /usr/local/lib/python3.11/dist-packages (from torch) (12.4.127)\n",
            "Requirement already satisfied: nvidia-cuda-runtime-cu12==12.4.127 in /usr/local/lib/python3.11/dist-packages (from torch) (12.4.127)\n",
            "Requirement already satisfied: nvidia-cuda-cupti-cu12==12.4.127 in /usr/local/lib/python3.11/dist-packages (from torch) (12.4.127)\n",
            "Requirement already satisfied: nvidia-cudnn-cu12==9.1.0.70 in /usr/local/lib/python3.11/dist-packages (from torch) (9.1.0.70)\n",
            "Requirement already satisfied: nvidia-cublas-cu12==12.4.5.8 in /usr/local/lib/python3.11/dist-packages (from torch) (12.4.5.8)\n",
            "Requirement already satisfied: nvidia-cufft-cu12==11.2.1.3 in /usr/local/lib/python3.11/dist-packages (from torch) (11.2.1.3)\n",
            "Requirement already satisfied: nvidia-curand-cu12==10.3.5.147 in /usr/local/lib/python3.11/dist-packages (from torch) (10.3.5.147)\n",
            "Requirement already satisfied: nvidia-cusolver-cu12==11.6.1.9 in /usr/local/lib/python3.11/dist-packages (from torch) (11.6.1.9)\n",
            "Requirement already satisfied: nvidia-cusparse-cu12==12.3.1.170 in /usr/local/lib/python3.11/dist-packages (from torch) (12.3.1.170)\n",
            "Requirement already satisfied: nvidia-cusparselt-cu12==0.6.2 in /usr/local/lib/python3.11/dist-packages (from torch) (0.6.2)\n",
            "Requirement already satisfied: nvidia-nccl-cu12==2.21.5 in /usr/local/lib/python3.11/dist-packages (from torch) (2.21.5)\n",
            "Requirement already satisfied: nvidia-nvtx-cu12==12.4.127 in /usr/local/lib/python3.11/dist-packages (from torch) (12.4.127)\n",
            "Requirement already satisfied: nvidia-nvjitlink-cu12==12.4.127 in /usr/local/lib/python3.11/dist-packages (from torch) (12.4.127)\n",
            "Requirement already satisfied: triton==3.2.0 in /usr/local/lib/python3.11/dist-packages (from torch) (3.2.0)\n",
            "Requirement already satisfied: sympy==1.13.1 in /usr/local/lib/python3.11/dist-packages (from torch) (1.13.1)\n",
            "Requirement already satisfied: mpmath<1.4,>=1.1.0 in /usr/local/lib/python3.11/dist-packages (from sympy==1.13.1->torch) (1.3.0)\n",
            "Requirement already satisfied: beautifulsoup4 in /usr/local/lib/python3.11/dist-packages (from bs4) (4.13.4)\n",
            "Requirement already satisfied: PyYAML>=5.1 in /usr/local/lib/python3.11/dist-packages (from pyngrok) (6.0.2)\n",
            "Requirement already satisfied: bidict>=0.21.0 in /usr/local/lib/python3.11/dist-packages (from python-socketio>=5.12.0->flask-socketio) (0.23.1)\n",
            "Requirement already satisfied: python-engineio>=4.11.0 in /usr/local/lib/python3.11/dist-packages (from python-socketio>=5.12.0->flask-socketio) (4.12.1)\n",
            "Requirement already satisfied: soupsieve>1.2 in /usr/local/lib/python3.11/dist-packages (from beautifulsoup4->bs4) (2.7)\n",
            "Requirement already satisfied: simple-websocket>=0.10.0 in /usr/local/lib/python3.11/dist-packages (from python-engineio>=4.11.0->python-socketio>=5.12.0->flask-socketio) (1.1.0)\n",
            "Requirement already satisfied: wsproto in /usr/local/lib/python3.11/dist-packages (from simple-websocket>=0.10.0->python-engineio>=4.11.0->python-socketio>=5.12.0->flask-socketio) (1.2.0)\n",
            "Requirement already satisfied: h11<1,>=0.9.0 in /usr/local/lib/python3.11/dist-packages (from wsproto->simple-websocket>=0.10.0->python-engineio>=4.11.0->python-socketio>=5.12.0->flask-socketio) (0.16.0)\n",
            "[2025-05-18 20:32:24,081] [INFO] [agent_5] agent_5 => CREATIVE -> ANALYTICAL (chain-of-thought shift)\n"
          ]
        },
        {
          "output_type": "stream",
          "name": "stderr",
          "text": [
            "INFO:agent_5:agent_5 => CREATIVE -> ANALYTICAL (chain-of-thought shift)\n"
          ]
        },
        {
          "output_type": "stream",
          "name": "stdout",
          "text": [
            "[2025-05-18 20:32:24,087] [INFO] [agent_5] agent_5 => synergy RNN => loss=283.2171\n"
          ]
        },
        {
          "output_type": "stream",
          "name": "stderr",
          "text": [
            "INFO:agent_5:agent_5 => synergy RNN => loss=283.2171\n",
            "INFO:werkzeug:127.0.0.1 - - [18/May/2025 20:32:24] \"POST /assign-task?agent_id=agent_5 HTTP/1.1\" 200 -\n"
          ]
        },
        {
          "output_type": "stream",
          "name": "stdout",
          "text": [
            "[2025-05-18 20:32:24,093] [INFO] [agent_5] agent_5 => navigate => https://business.google.com/nl/google-ads/\n"
          ]
        },
        {
          "output_type": "stream",
          "name": "stderr",
          "text": [
            "INFO:agent_5:agent_5 => navigate => https://business.google.com/nl/google-ads/\n",
            "WARNING:Main:OpenAI error Error code: 429 - {'error': {'message': 'Rate limit reached for gpt-3.5-turbo in organization org-inb5NKPyOYFJGXIGnZt0PBAa on requests per min (RPM): Limit 500, Used 500, Requested 1. Please try again in 120ms. Visit https://platform.openai.com/account/rate-limits to learn more.', 'type': 'requests', 'param': None, 'code': 'rate_limit_exceeded'}}\n"
          ]
        },
        {
          "output_type": "stream",
          "name": "stdout",
          "text": [
            "[2025-05-18 20:32:24,125] [INFO] [agent_1] agent_1 => CREATIVE -> ANALYTICAL (chain-of-thought shift)\n"
          ]
        },
        {
          "output_type": "stream",
          "name": "stderr",
          "text": [
            "INFO:agent_1:agent_1 => CREATIVE -> ANALYTICAL (chain-of-thought shift)\n"
          ]
        },
        {
          "output_type": "stream",
          "name": "stdout",
          "text": [
            "[2025-05-18 20:32:24,131] [INFO] [agent_1] agent_1 => synergy RNN => loss=841.6301\n"
          ]
        },
        {
          "output_type": "stream",
          "name": "stderr",
          "text": [
            "INFO:agent_1:agent_1 => synergy RNN => loss=841.6301\n"
          ]
        },
        {
          "output_type": "stream",
          "name": "stdout",
          "text": [
            "[2025-05-18 20:32:24,132] [INFO] [agent_1] agent_1 => buddy => (Fallback) Hello from agent_1, no chain-of-thought library installed.\n"
          ]
        },
        {
          "output_type": "stream",
          "name": "stderr",
          "text": [
            "INFO:agent_1:agent_1 => buddy => (Fallback) Hello from agent_1, no chain-of-thought library installed.\n",
            "INFO:werkzeug:127.0.0.1 - - [18/May/2025 20:32:24] \"POST /assign-task?agent_id=agent_1 HTTP/1.1\" 200 -\n"
          ]
        },
        {
          "output_type": "stream",
          "name": "stdout",
          "text": [
            "[2025-05-18 20:32:24,139] [INFO] [agent_1] agent_1 => navigate => https://github.blog/open-source/maintainers/metrics-for-issues-pull-requests-and-discussions/\n"
          ]
        },
        {
          "output_type": "stream",
          "name": "stderr",
          "text": [
            "INFO:agent_1:agent_1 => navigate => https://github.blog/open-source/maintainers/metrics-for-issues-pull-requests-and-discussions/\n",
            "WARNING:Main:OpenAI error Error code: 429 - {'error': {'message': 'Rate limit reached for gpt-3.5-turbo in organization org-inb5NKPyOYFJGXIGnZt0PBAa on requests per day (RPD): Limit 10000, Used 10000, Requested 1. Please try again in 8.64s. Visit https://platform.openai.com/account/rate-limits to learn more.', 'type': 'requests', 'param': None, 'code': 'rate_limit_exceeded'}}\n"
          ]
        },
        {
          "output_type": "stream",
          "name": "stdout",
          "text": [
            "[2025-05-18 20:32:24,315] [INFO] [agent_3] agent_3 => TASK_ORIENTED -> NEUROTIC (chain-of-thought shift)\n"
          ]
        },
        {
          "output_type": "stream",
          "name": "stderr",
          "text": [
            "INFO:agent_3:agent_3 => TASK_ORIENTED -> NEUROTIC (chain-of-thought shift)\n"
          ]
        },
        {
          "output_type": "stream",
          "name": "stdout",
          "text": [
            "[2025-05-18 20:32:24,327] [INFO] [agent_3] agent_3 => synergy RNN => loss=4595.6133\n"
          ]
        },
        {
          "output_type": "stream",
          "name": "stderr",
          "text": [
            "INFO:agent_3:agent_3 => synergy RNN => loss=4595.6133\n"
          ]
        },
        {
          "output_type": "stream",
          "name": "stdout",
          "text": [
            "[2025-05-18 20:32:24,328] [INFO] [agent_3] agent_3 => buddy => (Fallback) Hello from agent_3, no chain-of-thought library installed.\n"
          ]
        },
        {
          "output_type": "stream",
          "name": "stderr",
          "text": [
            "INFO:agent_3:agent_3 => buddy => (Fallback) Hello from agent_3, no chain-of-thought library installed.\n",
            "INFO:werkzeug:127.0.0.1 - - [18/May/2025 20:32:24] \"POST /assign-task?agent_id=agent_3 HTTP/1.1\" 200 -\n"
          ]
        },
        {
          "output_type": "stream",
          "name": "stdout",
          "text": [
            "[2025-05-18 20:32:24,334] [INFO] [agent_3] agent_3 => navigate => https://ps.wikivoyage.org/wiki/%D9%88%D9%8A%DA%A9%D9%8A%D8%B3%D9%81%D8%B1\n"
          ]
        },
        {
          "output_type": "stream",
          "name": "stderr",
          "text": [
            "INFO:agent_3:agent_3 => navigate => https://ps.wikivoyage.org/wiki/%D9%88%D9%8A%DA%A9%D9%8A%D8%B3%D9%81%D8%B1\n"
          ]
        },
        {
          "output_type": "stream",
          "name": "stdout",
          "text": [
            "[2025-05-18 20:32:24,559] [INFO] [agent_2] agent_2 => HUMOR -> NEUROTIC (chain-of-thought shift)\n"
          ]
        },
        {
          "output_type": "stream",
          "name": "stderr",
          "text": [
            "INFO:agent_2:agent_2 => HUMOR -> NEUROTIC (chain-of-thought shift)\n"
          ]
        },
        {
          "output_type": "stream",
          "name": "stdout",
          "text": [
            "[2025-05-18 20:32:24,565] [INFO] [agent_2] agent_2 => synergy RNN => loss=2736.6875\n"
          ]
        },
        {
          "output_type": "stream",
          "name": "stderr",
          "text": [
            "INFO:agent_2:agent_2 => synergy RNN => loss=2736.6875\n",
            "INFO:werkzeug:127.0.0.1 - - [18/May/2025 20:32:24] \"POST /assign-task?agent_id=agent_2 HTTP/1.1\" 200 -\n"
          ]
        },
        {
          "output_type": "stream",
          "name": "stdout",
          "text": [
            "[2025-05-18 20:32:24,571] [INFO] [agent_2] agent_2 => navigate => https://bs.wikipedia.org/wiki/Pomo%C4%87:Sadr%C5%BEaj\n"
          ]
        },
        {
          "output_type": "stream",
          "name": "stderr",
          "text": [
            "INFO:agent_2:agent_2 => navigate => https://bs.wikipedia.org/wiki/Pomo%C4%87:Sadr%C5%BEaj\n",
            "WARNING:Main:OpenAI error Error code: 429 - {'error': {'message': 'Rate limit reached for gpt-3.5-turbo in organization org-inb5NKPyOYFJGXIGnZt0PBAa on requests per day (RPD): Limit 10000, Used 10000, Requested 1. Please try again in 8.64s. Visit https://platform.openai.com/account/rate-limits to learn more.', 'type': 'requests', 'param': None, 'code': 'rate_limit_exceeded'}}\n",
            "WARNING:Main:OpenAI error Error code: 429 - {'error': {'message': 'Rate limit reached for gpt-3.5-turbo in organization org-inb5NKPyOYFJGXIGnZt0PBAa on requests per day (RPD): Limit 10000, Used 10000, Requested 1. Please try again in 8.64s. Visit https://platform.openai.com/account/rate-limits to learn more.', 'type': 'requests', 'param': None, 'code': 'rate_limit_exceeded'}}\n",
            "INFO:werkzeug:127.0.0.1 - - [18/May/2025 20:32:24] \"POST /assign-task?agent_id=agent_2 HTTP/1.1\" 200 -\n",
            "INFO:werkzeug:127.0.0.1 - - [18/May/2025 20:32:25] \"POST /assign-task?agent_id=agent_5 HTTP/1.1\" 200 -\n",
            "INFO:werkzeug:127.0.0.1 - - [18/May/2025 20:32:25] \"POST /assign-task?agent_id=agent_3 HTTP/1.1\" 200 -\n",
            "INFO:werkzeug:127.0.0.1 - - [18/May/2025 20:32:25] \"POST /assign-task?agent_id=agent_3 HTTP/1.1\" 200 -\n",
            "INFO:werkzeug:127.0.0.1 - - [18/May/2025 20:32:25] \"POST /assign-task?agent_id=agent_4 HTTP/1.1\" 200 -\n",
            "INFO:werkzeug:127.0.0.1 - - [18/May/2025 20:32:25] \"POST /assign-task?agent_id=agent_5 HTTP/1.1\" 200 -\n",
            "INFO:werkzeug:127.0.0.1 - - [18/May/2025 20:32:25] \"POST /assign-task?agent_id=agent_2 HTTP/1.1\" 200 -\n",
            "INFO:werkzeug:127.0.0.1 - - [18/May/2025 20:32:25] \"POST /assign-task?agent_id=agent_1 HTTP/1.1\" 200 -\n"
          ]
        }
      ]
    },
    {
      "cell_type": "code",
      "execution_count": 35,
      "metadata": {
        "colab": {
          "base_uri": "https://localhost:8080/"
        },
        "id": "MPNf2WsqbOPF",
        "outputId": "9050dbc3-62f4-448b-eaa9-22e92924d292"
      },
      "outputs": [
        {
          "output_type": "stream",
          "name": "stdout",
          "text": [
            "Environment variables set.\n"
          ]
        }
      ],
      "source": [
        "import os\n",
        "\n",
        "# (Optional) set your keys here or skip if you prefesk-proj-MAWj0jq026pbyiyXcqDGT3BlbkFJwAKGtQdUBrbxC49caia4r .env\n",
        "os.environ[\"OPENAI_API_KEY\"] = \"sk-proj-MAWj0jq026pbyiyXcqDGT3BlbkFJwAKGtQdUBrbxC49caia4\"\n",
        "os.environ[\"OPENAI_MODEL\"]   = \"o4-mini\"  # or another valid model\n",
        "os.environ[\"FLASK_SECRET_KEY\"] = \"R679A\"\n",
        "os.environ[\"CAPTCHA_API_KEY\"] = \"c910c1d12f66dc0bf4dd6c293dca8865\"\n",
        "os.environ[\"CHROMEDRIVER_PATH\"] = \"/usr/bin/chromedriver\"\n",
        "os.environ[\"NGROK_AUTH_TOKEN\"]    = \"2tedizGJDmEJMDtfhCR6ftx8EyX_2RaA7t8nPn17SU7jiyK1H\"\n",
        "print(\"Environment variables set.\")\n"
      ]
    },
    {
      "cell_type": "code",
      "execution_count": 36,
      "metadata": {
        "colab": {
          "base_uri": "https://localhost:8080/"
        },
        "id": "UR8QpT1mhUy8",
        "outputId": "b413dbd2-78af-4d0a-8deb-e21eb318caa1"
      },
      "outputs": [
        {
          "output_type": "stream",
          "name": "stderr",
          "text": [
            "INFO:werkzeug:127.0.0.1 - - [18/May/2025 20:32:25] \"POST /assign-task?agent_id=agent_4 HTTP/1.1\" 200 -\n"
          ]
        },
        {
          "output_type": "stream",
          "name": "stdout",
          "text": [
            "[2025-05-18 20:32:25,456] [INFO] [agent_4] agent_4 => ANALYTICAL -> CREATIVE (chain-of-thought shift)\n"
          ]
        },
        {
          "output_type": "stream",
          "name": "stderr",
          "text": [
            "INFO:agent_4:agent_4 => ANALYTICAL -> CREATIVE (chain-of-thought shift)\n"
          ]
        },
        {
          "output_type": "stream",
          "name": "stdout",
          "text": [
            "[2025-05-18 20:32:25,462] [INFO] [agent_4] agent_4 => synergy RNN => loss=5422.1279\n"
          ]
        },
        {
          "output_type": "stream",
          "name": "stderr",
          "text": [
            "INFO:agent_4:agent_4 => synergy RNN => loss=5422.1279\n",
            "INFO:werkzeug:127.0.0.1 - - [18/May/2025 20:32:25] \"POST /assign-task?agent_id=agent_4 HTTP/1.1\" 200 -\n"
          ]
        },
        {
          "output_type": "stream",
          "name": "stdout",
          "text": [
            "[2025-05-18 20:32:25,468] [INFO] [agent_4] agent_4 => navigate => http://www.variety.com/article/VR1117990132.html?categoryid=14&cs=1&query=Hunter+Ellis\n"
          ]
        },
        {
          "output_type": "stream",
          "name": "stderr",
          "text": [
            "INFO:agent_4:agent_4 => navigate => http://www.variety.com/article/VR1117990132.html?categoryid=14&cs=1&query=Hunter+Ellis\n",
            "INFO:werkzeug:127.0.0.1 - - [18/May/2025 20:32:25] \"POST /assign-task?agent_id=agent_4 HTTP/1.1\" 200 -\n",
            "INFO:werkzeug:127.0.0.1 - - [18/May/2025 20:32:25] \"POST /assign-task?agent_id=agent_1 HTTP/1.1\" 200 -\n",
            "INFO:werkzeug:127.0.0.1 - - [18/May/2025 20:32:25] \"POST /assign-task?agent_id=agent_3 HTTP/1.1\" 200 -\n",
            "INFO:werkzeug:127.0.0.1 - - [18/May/2025 20:32:25] \"POST /assign-task?agent_id=agent_2 HTTP/1.1\" 200 -\n",
            "INFO:werkzeug:127.0.0.1 - - [18/May/2025 20:32:25] \"POST /assign-task?agent_id=agent_5 HTTP/1.1\" 200 -\n",
            "INFO:werkzeug:127.0.0.1 - - [18/May/2025 20:32:25] \"POST /assign-task?agent_id=agent_1 HTTP/1.1\" 200 -\n"
          ]
        },
        {
          "output_type": "stream",
          "name": "stdout",
          "text": [
            "[2025-05-18 20:32:26,221] [INFO] [agent_1] agent_1 => ANALYTICAL -> HUMOR (chain-of-thought shift)\n"
          ]
        },
        {
          "output_type": "stream",
          "name": "stderr",
          "text": [
            "INFO:agent_1:agent_1 => ANALYTICAL -> HUMOR (chain-of-thought shift)\n"
          ]
        },
        {
          "output_type": "stream",
          "name": "stdout",
          "text": [
            "[2025-05-18 20:32:26,228] [INFO] [agent_1] agent_1 => synergy RNN => loss=1015.2998\n"
          ]
        },
        {
          "output_type": "stream",
          "name": "stderr",
          "text": [
            "INFO:agent_1:agent_1 => synergy RNN => loss=1015.2998\n"
          ]
        },
        {
          "output_type": "stream",
          "name": "stdout",
          "text": [
            "[2025-05-18 20:32:26,230] [INFO] [agent_1] agent_1 => buddy => (Fallback) Hello from agent_1, no chain-of-thought library installed.\n"
          ]
        },
        {
          "output_type": "stream",
          "name": "stderr",
          "text": [
            "INFO:agent_1:agent_1 => buddy => (Fallback) Hello from agent_1, no chain-of-thought library installed.\n",
            "INFO:werkzeug:127.0.0.1 - - [18/May/2025 20:32:26] \"POST /assign-task?agent_id=agent_1 HTTP/1.1\" 200 -\n"
          ]
        },
        {
          "output_type": "stream",
          "name": "stdout",
          "text": [
            "[2025-05-18 20:32:26,237] [INFO] [agent_1] agent_1 => navigate => https://partner.github.com\n"
          ]
        },
        {
          "output_type": "stream",
          "name": "stderr",
          "text": [
            "INFO:agent_1:agent_1 => navigate => https://partner.github.com\n",
            "WARNING:Main:OpenAI error Error code: 429 - {'error': {'message': 'Rate limit reached for gpt-3.5-turbo in organization org-inb5NKPyOYFJGXIGnZt0PBAa on requests per day (RPD): Limit 10000, Used 10000, Requested 1. Please try again in 8.64s. Visit https://platform.openai.com/account/rate-limits to learn more.', 'type': 'requests', 'param': None, 'code': 'rate_limit_exceeded'}}\n",
            "WARNING:Main:OpenAI error Error code: 429 - {'error': {'message': 'Rate limit reached for gpt-3.5-turbo in organization org-inb5NKPyOYFJGXIGnZt0PBAa on requests per day (RPD): Limit 10000, Used 10000, Requested 1. Please try again in 8.64s. Visit https://platform.openai.com/account/rate-limits to learn more.', 'type': 'requests', 'param': None, 'code': 'rate_limit_exceeded'}}\n"
          ]
        },
        {
          "output_type": "stream",
          "name": "stdout",
          "text": [
            "[2025-05-18 20:32:26,323] [INFO] [agent_5] agent_5 => ANALYTICAL -> CREATIVE (chain-of-thought shift)\n"
          ]
        },
        {
          "output_type": "stream",
          "name": "stderr",
          "text": [
            "INFO:agent_5:agent_5 => ANALYTICAL -> CREATIVE (chain-of-thought shift)\n"
          ]
        },
        {
          "output_type": "stream",
          "name": "stdout",
          "text": [
            "[2025-05-18 20:32:26,329] [INFO] [agent_5] agent_5 => synergy RNN => loss=10598.0801\n"
          ]
        },
        {
          "output_type": "stream",
          "name": "stderr",
          "text": [
            "INFO:agent_5:agent_5 => synergy RNN => loss=10598.0801\n"
          ]
        },
        {
          "output_type": "stream",
          "name": "stdout",
          "text": [
            "[2025-05-18 20:32:26,330] [INFO] [agent_5] agent_5 => buddy => (Fallback) Hello from agent_5, no chain-of-thought library installed.\n"
          ]
        },
        {
          "output_type": "stream",
          "name": "stderr",
          "text": [
            "INFO:agent_5:agent_5 => buddy => (Fallback) Hello from agent_5, no chain-of-thought library installed.\n",
            "INFO:werkzeug:127.0.0.1 - - [18/May/2025 20:32:26] \"POST /assign-task?agent_id=agent_5 HTTP/1.1\" 200 -\n"
          ]
        },
        {
          "output_type": "stream",
          "name": "stdout",
          "text": [
            "[2025-05-18 20:32:26,337] [INFO] [agent_5] agent_5 => navigate => https://www.tech.cornell.edu/\n"
          ]
        },
        {
          "output_type": "stream",
          "name": "stderr",
          "text": [
            "INFO:agent_5:agent_5 => navigate => https://www.tech.cornell.edu/\n"
          ]
        },
        {
          "output_type": "stream",
          "name": "stdout",
          "text": [
            "[2025-05-18 20:32:26,478] [INFO] [agent_3] agent_3 => NEUROTIC -> HUMOR (chain-of-thought shift)\n"
          ]
        },
        {
          "output_type": "stream",
          "name": "stderr",
          "text": [
            "INFO:agent_3:agent_3 => NEUROTIC -> HUMOR (chain-of-thought shift)\n"
          ]
        },
        {
          "output_type": "stream",
          "name": "stdout",
          "text": [
            "[2025-05-18 20:32:26,484] [INFO] [agent_3] agent_3 => synergy RNN => loss=614.6599\n"
          ]
        },
        {
          "output_type": "stream",
          "name": "stderr",
          "text": [
            "INFO:agent_3:agent_3 => synergy RNN => loss=614.6599\n"
          ]
        },
        {
          "output_type": "stream",
          "name": "stdout",
          "text": [
            "[2025-05-18 20:32:26,485] [INFO] [agent_3] agent_3 => buddy => (Fallback) Hello from agent_3, no chain-of-thought library installed.\n"
          ]
        },
        {
          "output_type": "stream",
          "name": "stderr",
          "text": [
            "INFO:agent_3:agent_3 => buddy => (Fallback) Hello from agent_3, no chain-of-thought library installed.\n",
            "INFO:werkzeug:127.0.0.1 - - [18/May/2025 20:32:26] \"POST /assign-task?agent_id=agent_3 HTTP/1.1\" 200 -\n",
            "WARNING:Main:OpenAI error Error code: 429 - {'error': {'message': 'Rate limit reached for gpt-3.5-turbo in organization org-inb5NKPyOYFJGXIGnZt0PBAa on requests per day (RPD): Limit 10000, Used 10000, Requested 1. Please try again in 8.64s. Visit https://platform.openai.com/account/rate-limits to learn more.', 'type': 'requests', 'param': None, 'code': 'rate_limit_exceeded'}}\n"
          ]
        },
        {
          "output_type": "stream",
          "name": "stdout",
          "text": [
            "[2025-05-18 20:32:26,495] [INFO] [agent_3] agent_3 => navigate => https://developer.wikimedia.org\n"
          ]
        },
        {
          "output_type": "stream",
          "name": "stderr",
          "text": [
            "INFO:agent_3:agent_3 => navigate => https://developer.wikimedia.org\n"
          ]
        },
        {
          "output_type": "stream",
          "name": "stdout",
          "text": [
            "[2025-05-18 20:32:26,650] [INFO] [agent_2] agent_2 => NEUROTIC -> CAUTIOUS (chain-of-thought shift)\n"
          ]
        },
        {
          "output_type": "stream",
          "name": "stderr",
          "text": [
            "INFO:agent_2:agent_2 => NEUROTIC -> CAUTIOUS (chain-of-thought shift)\n",
            "WARNING:Main:OpenAI error Error code: 429 - {'error': {'message': 'Rate limit reached for gpt-3.5-turbo in organization org-inb5NKPyOYFJGXIGnZt0PBAa on requests per day (RPD): Limit 10000, Used 10000, Requested 1. Please try again in 8.64s. Visit https://platform.openai.com/account/rate-limits to learn more.', 'type': 'requests', 'param': None, 'code': 'rate_limit_exceeded'}}\n"
          ]
        },
        {
          "output_type": "stream",
          "name": "stdout",
          "text": [
            "[2025-05-18 20:32:26,712] [INFO] [agent_2] agent_2 => synergy RNN => loss=15190.8262\n"
          ]
        },
        {
          "output_type": "stream",
          "name": "stderr",
          "text": [
            "INFO:agent_2:agent_2 => synergy RNN => loss=15190.8262\n"
          ]
        },
        {
          "output_type": "stream",
          "name": "stdout",
          "text": [
            "[2025-05-18 20:32:26,714] [INFO] [agent_2] agent_2 => buddy => (Fallback) Hello from agent_2, no chain-of-thought library installed.\n"
          ]
        },
        {
          "output_type": "stream",
          "name": "stderr",
          "text": [
            "INFO:agent_2:agent_2 => buddy => (Fallback) Hello from agent_2, no chain-of-thought library installed.\n",
            "INFO:werkzeug:127.0.0.1 - - [18/May/2025 20:32:26] \"POST /assign-task?agent_id=agent_2 HTTP/1.1\" 200 -\n"
          ]
        },
        {
          "output_type": "stream",
          "name": "stdout",
          "text": [
            "[2025-05-18 20:32:26,721] [INFO] [agent_2] agent_2 => navigate => https://cs.wikipedia.org/wiki/Wikipedie:Kontakt\n"
          ]
        },
        {
          "output_type": "stream",
          "name": "stderr",
          "text": [
            "INFO:agent_2:agent_2 => navigate => https://cs.wikipedia.org/wiki/Wikipedie:Kontakt\n",
            "WARNING:Main:OpenAI error Error code: 429 - {'error': {'message': 'Rate limit reached for gpt-3.5-turbo in organization org-inb5NKPyOYFJGXIGnZt0PBAa on requests per day (RPD): Limit 10000, Used 10000, Requested 1. Please try again in 8.64s. Visit https://platform.openai.com/account/rate-limits to learn more.', 'type': 'requests', 'param': None, 'code': 'rate_limit_exceeded'}}\n"
          ]
        },
        {
          "output_type": "stream",
          "name": "stdout",
          "text": [
            "Name: openai-agents\n",
            "Version: 0.0.15\n",
            "Summary: OpenAI Agents SDK\n",
            "Home-page: https://github.com/openai/openai-agents-python\n",
            "Author: \n",
            "Author-email: OpenAI <support@openai.com>\n",
            "License: \n",
            "Location: /usr/local/lib/python3.11/dist-packages\n",
            "Requires: griffe, mcp, openai, pydantic, requests, types-requests, typing-extensions\n",
            "Required-by: \n"
          ]
        },
        {
          "output_type": "stream",
          "name": "stderr",
          "text": [
            "INFO:werkzeug:127.0.0.1 - - [18/May/2025 20:32:26] \"POST /assign-task?agent_id=agent_2 HTTP/1.1\" 200 -\n",
            "INFO:werkzeug:127.0.0.1 - - [18/May/2025 20:32:27] \"POST /assign-task?agent_id=agent_5 HTTP/1.1\" 200 -\n",
            "INFO:werkzeug:127.0.0.1 - - [18/May/2025 20:32:27] \"POST /assign-task?agent_id=agent_3 HTTP/1.1\" 200 -\n",
            "INFO:werkzeug:127.0.0.1 - - [18/May/2025 20:32:27] \"POST /assign-task?agent_id=agent_3 HTTP/1.1\" 200 -\n",
            "INFO:werkzeug:127.0.0.1 - - [18/May/2025 20:32:27] \"POST /assign-task?agent_id=agent_4 HTTP/1.1\" 200 -\n",
            "INFO:werkzeug:127.0.0.1 - - [18/May/2025 20:32:27] \"POST /assign-task?agent_id=agent_5 HTTP/1.1\" 200 -\n",
            "INFO:werkzeug:127.0.0.1 - - [18/May/2025 20:32:27] \"POST /assign-task?agent_id=agent_2 HTTP/1.1\" 200 -\n",
            "INFO:werkzeug:127.0.0.1 - - [18/May/2025 20:32:27] \"POST /assign-task?agent_id=agent_1 HTTP/1.1\" 200 -\n",
            "INFO:werkzeug:127.0.0.1 - - [18/May/2025 20:32:27] \"POST /assign-task?agent_id=agent_4 HTTP/1.1\" 200 -\n",
            "INFO:werkzeug:127.0.0.1 - - [18/May/2025 20:32:27] \"POST /assign-task?agent_id=agent_4 HTTP/1.1\" 200 -\n",
            "INFO:werkzeug:127.0.0.1 - - [18/May/2025 20:32:27] \"POST /assign-task?agent_id=agent_1 HTTP/1.1\" 200 -\n",
            "INFO:werkzeug:127.0.0.1 - - [18/May/2025 20:32:27] \"POST /assign-task?agent_id=agent_3 HTTP/1.1\" 200 -\n",
            "INFO:werkzeug:127.0.0.1 - - [18/May/2025 20:32:27] \"POST /assign-task?agent_id=agent_2 HTTP/1.1\" 200 -\n",
            "INFO:werkzeug:127.0.0.1 - - [18/May/2025 20:32:27] \"POST /assign-task?agent_id=agent_5 HTTP/1.1\" 200 -\n",
            "INFO:werkzeug:127.0.0.1 - - [18/May/2025 20:32:27] \"POST /assign-task?agent_id=agent_1 HTTP/1.1\" 200 -\n"
          ]
        },
        {
          "output_type": "stream",
          "name": "stdout",
          "text": [
            "[2025-05-18 20:32:27,781] [INFO] [agent_4] agent_4 => CREATIVE -> NEUROTIC (chain-of-thought shift)\n"
          ]
        },
        {
          "output_type": "stream",
          "name": "stderr",
          "text": [
            "INFO:agent_4:agent_4 => CREATIVE -> NEUROTIC (chain-of-thought shift)\n"
          ]
        },
        {
          "output_type": "stream",
          "name": "stdout",
          "text": [
            "[2025-05-18 20:32:27,788] [INFO] [agent_4] agent_4 => synergy RNN => loss=1680.2312\n"
          ]
        },
        {
          "output_type": "stream",
          "name": "stderr",
          "text": [
            "INFO:agent_4:agent_4 => synergy RNN => loss=1680.2312\n"
          ]
        },
        {
          "output_type": "stream",
          "name": "stdout",
          "text": [
            "[2025-05-18 20:32:27,789] [INFO] [agent_4] agent_4 => buddy => (Fallback) Hello from agent_4, no chain-of-thought library installed.\n"
          ]
        },
        {
          "output_type": "stream",
          "name": "stderr",
          "text": [
            "INFO:agent_4:agent_4 => buddy => (Fallback) Hello from agent_4, no chain-of-thought library installed.\n",
            "INFO:werkzeug:127.0.0.1 - - [18/May/2025 20:32:27] \"POST /assign-task?agent_id=agent_4 HTTP/1.1\" 200 -\n"
          ]
        },
        {
          "output_type": "stream",
          "name": "stdout",
          "text": [
            "[2025-05-18 20:32:27,796] [INFO] [agent_4] agent_4 => navigate => https://el.wikipedia.org/wiki/\n"
          ]
        },
        {
          "output_type": "stream",
          "name": "stderr",
          "text": [
            "INFO:agent_4:agent_4 => navigate => https://el.wikipedia.org/wiki/\n",
            "WARNING:Main:OpenAI error Error code: 429 - {'error': {'message': 'Rate limit reached for gpt-3.5-turbo in organization org-inb5NKPyOYFJGXIGnZt0PBAa on requests per min (RPM): Limit 500, Used 500, Requested 1. Please try again in 120ms. Visit https://platform.openai.com/account/rate-limits to learn more.', 'type': 'requests', 'param': None, 'code': 'rate_limit_exceeded'}}\n",
            "WARNING:Main:OpenAI error Error code: 429 - {'error': {'message': 'Rate limit reached for gpt-3.5-turbo in organization org-inb5NKPyOYFJGXIGnZt0PBAa on requests per day (RPD): Limit 10000, Used 10000, Requested 1. Please try again in 8.64s. Visit https://platform.openai.com/account/rate-limits to learn more.', 'type': 'requests', 'param': None, 'code': 'rate_limit_exceeded'}}\n",
            "WARNING:Main:OpenAI error Error code: 429 - {'error': {'message': 'Rate limit reached for gpt-3.5-turbo in organization org-inb5NKPyOYFJGXIGnZt0PBAa on requests per day (RPD): Limit 10000, Used 10000, Requested 1. Please try again in 8.64s. Visit https://platform.openai.com/account/rate-limits to learn more.', 'type': 'requests', 'param': None, 'code': 'rate_limit_exceeded'}}\n"
          ]
        },
        {
          "output_type": "stream",
          "name": "stdout",
          "text": [
            "openai==1.78.1\n",
            "openai-agents @ git+https://github.com/openai/openai-agents-python.git@003cbfe5f5820cd73ad3adfbae56c054e3cb73ca\n",
            "[2025-05-18 20:32:28,283] [INFO] [agent_1] agent_1 => HUMOR -> ANALYTICAL (chain-of-thought shift)\n"
          ]
        },
        {
          "output_type": "stream",
          "name": "stderr",
          "text": [
            "INFO:agent_1:agent_1 => HUMOR -> ANALYTICAL (chain-of-thought shift)\n"
          ]
        },
        {
          "output_type": "stream",
          "name": "stdout",
          "text": [
            "[2025-05-18 20:32:28,289] [INFO] [agent_1] agent_1 => synergy RNN => loss=290.0540\n"
          ]
        },
        {
          "output_type": "stream",
          "name": "stderr",
          "text": [
            "INFO:agent_1:agent_1 => synergy RNN => loss=290.0540\n",
            "INFO:werkzeug:127.0.0.1 - - [18/May/2025 20:32:28] \"POST /assign-task?agent_id=agent_1 HTTP/1.1\" 200 -\n"
          ]
        },
        {
          "output_type": "stream",
          "name": "stdout",
          "text": [
            "[2025-05-18 20:32:28,298] [INFO] [agent_1] agent_1 => navigate => https://resources.github.com\n"
          ]
        },
        {
          "output_type": "stream",
          "name": "stderr",
          "text": [
            "INFO:agent_1:agent_1 => navigate => https://resources.github.com\n",
            "WARNING:Main:OpenAI error Error code: 429 - {'error': {'message': 'Rate limit reached for gpt-3.5-turbo in organization org-inb5NKPyOYFJGXIGnZt0PBAa on requests per min (RPM): Limit 500, Used 500, Requested 1. Please try again in 120ms. Visit https://platform.openai.com/account/rate-limits to learn more.', 'type': 'requests', 'param': None, 'code': 'rate_limit_exceeded'}}\n"
          ]
        }
      ],
      "source": [
        "!pip show openai-agents\n",
        "!pip freeze | grep openai"
      ]
    },
    {
      "cell_type": "code",
      "execution_count": 37,
      "metadata": {
        "id": "qjfDIf-wAAfV",
        "colab": {
          "base_uri": "https://localhost:8080/"
        },
        "outputId": "2d5ee9ae-c648-4d2b-8e21-403974bd8c8f"
      },
      "outputs": [
        {
          "output_type": "stream",
          "name": "stderr",
          "text": [
            "WARNING:Main:OpenAI error Error code: 429 - {'error': {'message': 'Rate limit reached for gpt-3.5-turbo in organization org-inb5NKPyOYFJGXIGnZt0PBAa on requests per min (RPM): Limit 500, Used 500, Requested 1. Please try again in 120ms. Visit https://platform.openai.com/account/rate-limits to learn more.', 'type': 'requests', 'param': None, 'code': 'rate_limit_exceeded'}}\n",
            "WARNING:Main:OpenAI error Error code: 429 - {'error': {'message': 'Rate limit reached for gpt-3.5-turbo in organization org-inb5NKPyOYFJGXIGnZt0PBAa on requests per day (RPD): Limit 10000, Used 10000, Requested 1. Please try again in 8.64s. Visit https://platform.openai.com/account/rate-limits to learn more.', 'type': 'requests', 'param': None, 'code': 'rate_limit_exceeded'}}\n",
            "WARNING:Main:OpenAI error Error code: 429 - {'error': {'message': 'Rate limit reached for gpt-3.5-turbo in organization org-inb5NKPyOYFJGXIGnZt0PBAa on requests per min (RPM): Limit 500, Used 500, Requested 1. Please try again in 120ms. Visit https://platform.openai.com/account/rate-limits to learn more.', 'type': 'requests', 'param': None, 'code': 'rate_limit_exceeded'}}\n",
            "WARNING:Main:OpenAI error Error code: 429 - {'error': {'message': 'Rate limit reached for gpt-3.5-turbo in organization org-inb5NKPyOYFJGXIGnZt0PBAa on requests per day (RPD): Limit 10000, Used 10000, Requested 1. Please try again in 8.64s. Visit https://platform.openai.com/account/rate-limits to learn more.', 'type': 'requests', 'param': None, 'code': 'rate_limit_exceeded'}}\n",
            "WARNING:Main:OpenAI error Error code: 429 - {'error': {'message': 'Rate limit reached for gpt-3.5-turbo in organization org-inb5NKPyOYFJGXIGnZt0PBAa on requests per min (RPM): Limit 500, Used 500, Requested 1. Please try again in 120ms. Visit https://platform.openai.com/account/rate-limits to learn more.', 'type': 'requests', 'param': None, 'code': 'rate_limit_exceeded'}}\n"
          ]
        },
        {
          "output_type": "stream",
          "name": "stdout",
          "text": [
            "[2025-05-18 20:32:28,711] [INFO] [agent_5] agent_5 => CREATIVE -> SOCIAL (chain-of-thought shift)\n"
          ]
        },
        {
          "output_type": "stream",
          "name": "stderr",
          "text": [
            "INFO:agent_5:agent_5 => CREATIVE -> SOCIAL (chain-of-thought shift)\n",
            "WARNING:Main:OpenAI error Error code: 429 - {'error': {'message': 'Rate limit reached for gpt-3.5-turbo in organization org-inb5NKPyOYFJGXIGnZt0PBAa on requests per min (RPM): Limit 500, Used 500, Requested 1. Please try again in 120ms. Visit https://platform.openai.com/account/rate-limits to learn more.', 'type': 'requests', 'param': None, 'code': 'rate_limit_exceeded'}}\n"
          ]
        },
        {
          "output_type": "stream",
          "name": "stdout",
          "text": [
            "[2025-05-18 20:32:28,720] [INFO] [agent_5] agent_5 => synergy RNN => loss=95.9682\n"
          ]
        },
        {
          "output_type": "stream",
          "name": "stderr",
          "text": [
            "INFO:agent_5:agent_5 => synergy RNN => loss=95.9682\n",
            "INFO:werkzeug:127.0.0.1 - - [18/May/2025 20:32:28] \"POST /assign-task?agent_id=agent_5 HTTP/1.1\" 200 -\n"
          ]
        },
        {
          "output_type": "stream",
          "name": "stdout",
          "text": [
            "[2025-05-18 20:32:28,726] [INFO] [agent_5] agent_5 => navigate => https://www.youtube.com/github\n"
          ]
        },
        {
          "output_type": "stream",
          "name": "stderr",
          "text": [
            "INFO:agent_5:agent_5 => navigate => https://www.youtube.com/github\n",
            "WARNING:Main:OpenAI error Error code: 429 - {'error': {'message': 'Rate limit reached for gpt-3.5-turbo in organization org-inb5NKPyOYFJGXIGnZt0PBAa on requests per day (RPD): Limit 10000, Used 10000, Requested 1. Please try again in 8.64s. Visit https://platform.openai.com/account/rate-limits to learn more.', 'type': 'requests', 'param': None, 'code': 'rate_limit_exceeded'}}\n",
            "WARNING:Main:OpenAI error Error code: 429 - {'error': {'message': 'Rate limit reached for gpt-3.5-turbo in organization org-inb5NKPyOYFJGXIGnZt0PBAa on requests per min (RPM): Limit 500, Used 500, Requested 1. Please try again in 120ms. Visit https://platform.openai.com/account/rate-limits to learn more.', 'type': 'requests', 'param': None, 'code': 'rate_limit_exceeded'}}\n"
          ]
        },
        {
          "output_type": "stream",
          "name": "stdout",
          "text": [
            "[2025-05-18 20:32:28,799] [INFO] [agent_2] agent_2 => CAUTIOUS -> TASK_ORIENTED (chain-of-thought shift)\n"
          ]
        },
        {
          "output_type": "stream",
          "name": "stderr",
          "text": [
            "INFO:agent_2:agent_2 => CAUTIOUS -> TASK_ORIENTED (chain-of-thought shift)\n"
          ]
        },
        {
          "output_type": "stream",
          "name": "stdout",
          "text": [
            "[2025-05-18 20:32:28,807] [INFO] [agent_2] agent_2 => synergy RNN => loss=21.3256\n"
          ]
        },
        {
          "output_type": "stream",
          "name": "stderr",
          "text": [
            "INFO:agent_2:agent_2 => synergy RNN => loss=21.3256\n"
          ]
        },
        {
          "output_type": "stream",
          "name": "stdout",
          "text": [
            "[2025-05-18 20:32:28,809] [INFO] [agent_2] agent_2 => buddy => (Fallback) Hello from agent_2, no chain-of-thought library installed.\n"
          ]
        },
        {
          "output_type": "stream",
          "name": "stderr",
          "text": [
            "INFO:agent_2:agent_2 => buddy => (Fallback) Hello from agent_2, no chain-of-thought library installed.\n",
            "INFO:werkzeug:127.0.0.1 - - [18/May/2025 20:32:28] \"POST /assign-task?agent_id=agent_2 HTTP/1.1\" 200 -\n"
          ]
        },
        {
          "output_type": "stream",
          "name": "stdout",
          "text": [
            "[2025-05-18 20:32:28,817] [INFO] [agent_2] agent_2 => navigate => https://simple.wikipedia.org/wiki/Wikipedia:Contact_us\n"
          ]
        },
        {
          "output_type": "stream",
          "name": "stderr",
          "text": [
            "INFO:agent_2:agent_2 => navigate => https://simple.wikipedia.org/wiki/Wikipedia:Contact_us\n"
          ]
        },
        {
          "output_type": "stream",
          "name": "stdout",
          "text": [
            "[2025-05-18 20:32:28,880] [INFO] [agent_3] agent_3 => HUMOR -> CAUTIOUS (chain-of-thought shift)\n"
          ]
        },
        {
          "output_type": "stream",
          "name": "stderr",
          "text": [
            "INFO:agent_3:agent_3 => HUMOR -> CAUTIOUS (chain-of-thought shift)\n"
          ]
        },
        {
          "output_type": "stream",
          "name": "stdout",
          "text": [
            "[2025-05-18 20:32:28,912] [INFO] [agent_3] agent_3 => synergy RNN => loss=17968.5234\n"
          ]
        },
        {
          "output_type": "stream",
          "name": "stderr",
          "text": [
            "INFO:agent_3:agent_3 => synergy RNN => loss=17968.5234\n"
          ]
        },
        {
          "output_type": "stream",
          "name": "stdout",
          "text": [
            "[2025-05-18 20:32:28,913] [INFO] [agent_3] agent_3 => buddy => (Fallback) Hello from agent_3, no chain-of-thought library installed.\n"
          ]
        },
        {
          "output_type": "stream",
          "name": "stderr",
          "text": [
            "INFO:agent_3:agent_3 => buddy => (Fallback) Hello from agent_3, no chain-of-thought library installed.\n",
            "INFO:werkzeug:127.0.0.1 - - [18/May/2025 20:32:28] \"POST /assign-task?agent_id=agent_3 HTTP/1.1\" 200 -\n"
          ]
        },
        {
          "output_type": "stream",
          "name": "stdout",
          "text": [
            "[2025-05-18 20:32:28,920] [INFO] [agent_3] agent_3 => navigate => https://scholar.google.com\n"
          ]
        },
        {
          "output_type": "stream",
          "name": "stderr",
          "text": [
            "INFO:agent_3:agent_3 => navigate => https://scholar.google.com\n",
            "INFO:werkzeug:127.0.0.1 - - [18/May/2025 20:32:28] \"POST /assign-task?agent_id=agent_2 HTTP/1.1\" 200 -\n",
            "INFO:werkzeug:127.0.0.1 - - [18/May/2025 20:32:29] \"POST /assign-task?agent_id=agent_5 HTTP/1.1\" 200 -\n",
            "INFO:werkzeug:127.0.0.1 - - [18/May/2025 20:32:29] \"POST /assign-task?agent_id=agent_3 HTTP/1.1\" 200 -\n",
            "WARNING:Main:OpenAI error Error code: 429 - {'error': {'message': 'Rate limit reached for gpt-3.5-turbo in organization org-inb5NKPyOYFJGXIGnZt0PBAa on requests per day (RPD): Limit 10000, Used 10000, Requested 1. Please try again in 8.64s. Visit https://platform.openai.com/account/rate-limits to learn more.', 'type': 'requests', 'param': None, 'code': 'rate_limit_exceeded'}}\n",
            "INFO:werkzeug:127.0.0.1 - - [18/May/2025 20:32:29] \"POST /assign-task?agent_id=agent_3 HTTP/1.1\" 200 -\n",
            "INFO:werkzeug:127.0.0.1 - - [18/May/2025 20:32:29] \"POST /assign-task?agent_id=agent_4 HTTP/1.1\" 200 -\n",
            "INFO:werkzeug:127.0.0.1 - - [18/May/2025 20:32:29] \"POST /assign-task?agent_id=agent_5 HTTP/1.1\" 200 -\n",
            "INFO:werkzeug:127.0.0.1 - - [18/May/2025 20:32:29] \"POST /assign-task?agent_id=agent_2 HTTP/1.1\" 200 -\n",
            "INFO:werkzeug:127.0.0.1 - - [18/May/2025 20:32:29] \"POST /assign-task?agent_id=agent_1 HTTP/1.1\" 200 -\n",
            "INFO:werkzeug:127.0.0.1 - - [18/May/2025 20:32:29] \"POST /assign-task?agent_id=agent_4 HTTP/1.1\" 200 -\n",
            "INFO:werkzeug:127.0.0.1 - - [18/May/2025 20:32:29] \"POST /assign-task?agent_id=agent_4 HTTP/1.1\" 200 -\n",
            "INFO:werkzeug:127.0.0.1 - - [18/May/2025 20:32:29] \"POST /assign-task?agent_id=agent_1 HTTP/1.1\" 200 -\n",
            "INFO:werkzeug:127.0.0.1 - - [18/May/2025 20:32:29] \"POST /assign-task?agent_id=agent_3 HTTP/1.1\" 200 -\n",
            "INFO:werkzeug:127.0.0.1 - - [18/May/2025 20:32:29] \"POST /assign-task?agent_id=agent_2 HTTP/1.1\" 200 -\n",
            "INFO:werkzeug:127.0.0.1 - - [18/May/2025 20:32:29] \"POST /assign-task?agent_id=agent_5 HTTP/1.1\" 200 -\n",
            "INFO:werkzeug:127.0.0.1 - - [18/May/2025 20:32:29] \"POST /assign-task?agent_id=agent_1 HTTP/1.1\" 200 -\n"
          ]
        },
        {
          "output_type": "stream",
          "name": "stdout",
          "text": [
            "Collecting git+https://github.com/nuster1128/MemEngine.git\n",
            "  Cloning https://github.com/nuster1128/MemEngine.git to /tmp/pip-req-build-wd6_k8ad\n",
            "  Running command git clone --filter=blob:none --quiet https://github.com/nuster1128/MemEngine.git /tmp/pip-req-build-wd6_k8ad\n"
          ]
        },
        {
          "output_type": "stream",
          "name": "stderr",
          "text": [
            "WARNING:Main:OpenAI error Error code: 429 - {'error': {'message': 'Rate limit reached for gpt-3.5-turbo in organization org-inb5NKPyOYFJGXIGnZt0PBAa on requests per day (RPD): Limit 10000, Used 10000, Requested 1. Please try again in 8.64s. Visit https://platform.openai.com/account/rate-limits to learn more.', 'type': 'requests', 'param': None, 'code': 'rate_limit_exceeded'}}\n",
            "WARNING:Main:OpenAI error Error code: 429 - {'error': {'message': 'Rate limit reached for gpt-3.5-turbo in organization org-inb5NKPyOYFJGXIGnZt0PBAa on requests per min (RPM): Limit 500, Used 500, Requested 1. Please try again in 120ms. Visit https://platform.openai.com/account/rate-limits to learn more.', 'type': 'requests', 'param': None, 'code': 'rate_limit_exceeded'}}\n"
          ]
        },
        {
          "output_type": "stream",
          "name": "stdout",
          "text": [
            "[2025-05-18 20:32:29,930] [INFO] [agent_4] agent_4 => NEUROTIC -> CREATIVE (chain-of-thought shift)\n"
          ]
        },
        {
          "output_type": "stream",
          "name": "stderr",
          "text": [
            "INFO:agent_4:agent_4 => NEUROTIC -> CREATIVE (chain-of-thought shift)\n"
          ]
        },
        {
          "output_type": "stream",
          "name": "stdout",
          "text": [
            "[2025-05-18 20:32:29,937] [INFO] [agent_4] agent_4 => synergy RNN => loss=6314.7051\n"
          ]
        },
        {
          "output_type": "stream",
          "name": "stderr",
          "text": [
            "INFO:agent_4:agent_4 => synergy RNN => loss=6314.7051\n"
          ]
        },
        {
          "output_type": "stream",
          "name": "stdout",
          "text": [
            "[2025-05-18 20:32:29,938] [INFO] [agent_4] agent_4 => buddy => (Fallback) Hello from agent_4, no chain-of-thought library installed.\n"
          ]
        },
        {
          "output_type": "stream",
          "name": "stderr",
          "text": [
            "INFO:agent_4:agent_4 => buddy => (Fallback) Hello from agent_4, no chain-of-thought library installed.\n",
            "INFO:werkzeug:127.0.0.1 - - [18/May/2025 20:32:29] \"POST /assign-task?agent_id=agent_4 HTTP/1.1\" 200 -\n"
          ]
        },
        {
          "output_type": "stream",
          "name": "stdout",
          "text": [
            "[2025-05-18 20:32:29,944] [INFO] [agent_4] agent_4 => navigate => https://donate.wikimedia.org/?wmf_source=donate&wmf_medium=sidebar&wmf_campaign=en.wikipedia.org&uselang=en\n"
          ]
        },
        {
          "output_type": "stream",
          "name": "stderr",
          "text": [
            "INFO:agent_4:agent_4 => navigate => https://donate.wikimedia.org/?wmf_source=donate&wmf_medium=sidebar&wmf_campaign=en.wikipedia.org&uselang=en\n",
            "WARNING:Main:OpenAI error Error code: 429 - {'error': {'message': 'Rate limit reached for gpt-3.5-turbo in organization org-inb5NKPyOYFJGXIGnZt0PBAa on requests per min (RPM): Limit 500, Used 500, Requested 1. Please try again in 120ms. Visit https://platform.openai.com/account/rate-limits to learn more.', 'type': 'requests', 'param': None, 'code': 'rate_limit_exceeded'}}\n",
            "WARNING:Main:OpenAI error Error code: 429 - {'error': {'message': 'Rate limit reached for gpt-3.5-turbo in organization org-inb5NKPyOYFJGXIGnZt0PBAa on requests per day (RPD): Limit 10000, Used 10000, Requested 1. Please try again in 8.64s. Visit https://platform.openai.com/account/rate-limits to learn more.', 'type': 'requests', 'param': None, 'code': 'rate_limit_exceeded'}}\n",
            "WARNING:Main:OpenAI error Error code: 429 - {'error': {'message': 'Rate limit reached for gpt-3.5-turbo in organization org-inb5NKPyOYFJGXIGnZt0PBAa on requests per min (RPM): Limit 500, Used 500, Requested 1. Please try again in 120ms. Visit https://platform.openai.com/account/rate-limits to learn more.', 'type': 'requests', 'param': None, 'code': 'rate_limit_exceeded'}}\n",
            "WARNING:Main:OpenAI error Error code: 429 - {'error': {'message': 'Rate limit reached for gpt-3.5-turbo in organization org-inb5NKPyOYFJGXIGnZt0PBAa on requests per min (RPM): Limit 500, Used 500, Requested 1. Please try again in 120ms. Visit https://platform.openai.com/account/rate-limits to learn more.', 'type': 'requests', 'param': None, 'code': 'rate_limit_exceeded'}}\n",
            "WARNING:Main:OpenAI error Error code: 429 - {'error': {'message': 'Rate limit reached for gpt-3.5-turbo in organization org-inb5NKPyOYFJGXIGnZt0PBAa on requests per day (RPD): Limit 10000, Used 10000, Requested 1. Please try again in 8.64s. Visit https://platform.openai.com/account/rate-limits to learn more.', 'type': 'requests', 'param': None, 'code': 'rate_limit_exceeded'}}\n",
            "WARNING:Main:OpenAI error Error code: 429 - {'error': {'message': 'Rate limit reached for gpt-3.5-turbo in organization org-inb5NKPyOYFJGXIGnZt0PBAa on requests per min (RPM): Limit 500, Used 500, Requested 1. Please try again in 120ms. Visit https://platform.openai.com/account/rate-limits to learn more.', 'type': 'requests', 'param': None, 'code': 'rate_limit_exceeded'}}\n",
            "WARNING:Main:OpenAI error Error code: 429 - {'error': {'message': 'Rate limit reached for gpt-3.5-turbo in organization org-inb5NKPyOYFJGXIGnZt0PBAa on requests per min (RPM): Limit 500, Used 500, Requested 1. Please try again in 120ms. Visit https://platform.openai.com/account/rate-limits to learn more.', 'type': 'requests', 'param': None, 'code': 'rate_limit_exceeded'}}\n",
            "WARNING:Main:OpenAI error Error code: 429 - {'error': {'message': 'Rate limit reached for gpt-3.5-turbo in organization org-inb5NKPyOYFJGXIGnZt0PBAa on requests per min (RPM): Limit 500, Used 500, Requested 1. Please try again in 120ms. Visit https://platform.openai.com/account/rate-limits to learn more.', 'type': 'requests', 'param': None, 'code': 'rate_limit_exceeded'}}\n",
            "WARNING:Main:OpenAI error Error code: 429 - {'error': {'message': 'Rate limit reached for gpt-3.5-turbo in organization org-inb5NKPyOYFJGXIGnZt0PBAa on requests per day (RPD): Limit 10000, Used 10000, Requested 1. Please try again in 8.64s. Visit https://platform.openai.com/account/rate-limits to learn more.', 'type': 'requests', 'param': None, 'code': 'rate_limit_exceeded'}}\n"
          ]
        },
        {
          "output_type": "stream",
          "name": "stdout",
          "text": [
            "[2025-05-18 20:32:30,432] [INFO] [agent_1] agent_1 => ANALYTICAL -> CURIOUS (chain-of-thought shift)\n"
          ]
        },
        {
          "output_type": "stream",
          "name": "stderr",
          "text": [
            "INFO:agent_1:agent_1 => ANALYTICAL -> CURIOUS (chain-of-thought shift)\n"
          ]
        },
        {
          "output_type": "stream",
          "name": "stdout",
          "text": [
            "[2025-05-18 20:32:30,439] [INFO] [agent_1] agent_1 => synergy RNN => loss=8992.5537\n"
          ]
        },
        {
          "output_type": "stream",
          "name": "stderr",
          "text": [
            "INFO:agent_1:agent_1 => synergy RNN => loss=8992.5537\n"
          ]
        },
        {
          "output_type": "stream",
          "name": "stdout",
          "text": [
            "[2025-05-18 20:32:30,440] [INFO] [agent_1] agent_1 => buddy => (Fallback) Hello from agent_1, no chain-of-thought library installed.\n"
          ]
        },
        {
          "output_type": "stream",
          "name": "stderr",
          "text": [
            "INFO:agent_1:agent_1 => buddy => (Fallback) Hello from agent_1, no chain-of-thought library installed.\n",
            "INFO:werkzeug:127.0.0.1 - - [18/May/2025 20:32:30] \"POST /assign-task?agent_id=agent_1 HTTP/1.1\" 200 -\n"
          ]
        },
        {
          "output_type": "stream",
          "name": "stdout",
          "text": [
            "[2025-05-18 20:32:30,448] [INFO] [agent_1] agent_1 => navigate => https://shop.github.com/\n"
          ]
        },
        {
          "output_type": "stream",
          "name": "stderr",
          "text": [
            "INFO:agent_1:agent_1 => navigate => https://shop.github.com/\n",
            "WARNING:Main:OpenAI error Error code: 429 - {'error': {'message': 'Rate limit reached for gpt-3.5-turbo in organization org-inb5NKPyOYFJGXIGnZt0PBAa on requests per day (RPD): Limit 10000, Used 10000, Requested 1. Please try again in 8.64s. Visit https://platform.openai.com/account/rate-limits to learn more.', 'type': 'requests', 'param': None, 'code': 'rate_limit_exceeded'}}\n",
            "WARNING:Main:OpenAI error Error code: 429 - {'error': {'message': 'Rate limit reached for gpt-3.5-turbo in organization org-inb5NKPyOYFJGXIGnZt0PBAa on requests per day (RPD): Limit 10000, Used 10000, Requested 1. Please try again in 8.64s. Visit https://platform.openai.com/account/rate-limits to learn more.', 'type': 'requests', 'param': None, 'code': 'rate_limit_exceeded'}}\n",
            "WARNING:Main:OpenAI error Error code: 429 - {'error': {'message': 'Rate limit reached for gpt-3.5-turbo in organization org-inb5NKPyOYFJGXIGnZt0PBAa on requests per min (RPM): Limit 500, Used 500, Requested 1. Please try again in 120ms. Visit https://platform.openai.com/account/rate-limits to learn more.', 'type': 'requests', 'param': None, 'code': 'rate_limit_exceeded'}}\n",
            "WARNING:Main:OpenAI error Error code: 429 - {'error': {'message': 'Rate limit reached for gpt-3.5-turbo in organization org-inb5NKPyOYFJGXIGnZt0PBAa on requests per day (RPD): Limit 10000, Used 10000, Requested 1. Please try again in 8.64s. Visit https://platform.openai.com/account/rate-limits to learn more.', 'type': 'requests', 'param': None, 'code': 'rate_limit_exceeded'}}\n"
          ]
        },
        {
          "output_type": "stream",
          "name": "stdout",
          "text": [
            "[2025-05-18 20:32:30,907] [INFO] [agent_2] agent_2 => TASK_ORIENTED -> CREATIVE (chain-of-thought shift)\n"
          ]
        },
        {
          "output_type": "stream",
          "name": "stderr",
          "text": [
            "INFO:agent_2:agent_2 => TASK_ORIENTED -> CREATIVE (chain-of-thought shift)\n"
          ]
        },
        {
          "output_type": "stream",
          "name": "stdout",
          "text": [
            "[2025-05-18 20:32:30,915] [INFO] [agent_2] agent_2 => synergy RNN => loss=2592.0830\n"
          ]
        },
        {
          "output_type": "stream",
          "name": "stderr",
          "text": [
            "INFO:agent_2:agent_2 => synergy RNN => loss=2592.0830\n"
          ]
        },
        {
          "output_type": "stream",
          "name": "stdout",
          "text": [
            "[2025-05-18 20:32:30,916] [INFO] [agent_2] agent_2 => buddy => (Fallback) Hello from agent_2, no chain-of-thought library installed.\n"
          ]
        },
        {
          "output_type": "stream",
          "name": "stderr",
          "text": [
            "INFO:agent_2:agent_2 => buddy => (Fallback) Hello from agent_2, no chain-of-thought library installed.\n",
            "INFO:werkzeug:127.0.0.1 - - [18/May/2025 20:32:30] \"POST /assign-task?agent_id=agent_2 HTTP/1.1\" 200 -\n"
          ]
        },
        {
          "output_type": "stream",
          "name": "stdout",
          "text": [
            "[2025-05-18 20:32:30,926] [INFO] [agent_2] agent_2 => navigate => https://cs.wikipedia.org/wiki/N%C3%A1pov%C4%9Bda:Obsah\n"
          ]
        },
        {
          "output_type": "stream",
          "name": "stderr",
          "text": [
            "INFO:agent_2:agent_2 => navigate => https://cs.wikipedia.org/wiki/N%C3%A1pov%C4%9Bda:Obsah\n",
            "INFO:werkzeug:127.0.0.1 - - [18/May/2025 20:32:31] \"POST /assign-task?agent_id=agent_2 HTTP/1.1\" 200 -\n"
          ]
        },
        {
          "output_type": "stream",
          "name": "stdout",
          "text": [
            "[2025-05-18 20:32:31,094] [INFO] [agent_5] agent_5 => SOCIAL -> HUMOR (chain-of-thought shift)\n"
          ]
        },
        {
          "output_type": "stream",
          "name": "stderr",
          "text": [
            "INFO:agent_5:agent_5 => SOCIAL -> HUMOR (chain-of-thought shift)\n"
          ]
        },
        {
          "output_type": "stream",
          "name": "stdout",
          "text": [
            "[2025-05-18 20:32:31,101] [INFO] [agent_5] agent_5 => synergy RNN => loss=12259.1182\n"
          ]
        },
        {
          "output_type": "stream",
          "name": "stderr",
          "text": [
            "INFO:agent_5:agent_5 => synergy RNN => loss=12259.1182\n"
          ]
        },
        {
          "output_type": "stream",
          "name": "stdout",
          "text": [
            "[2025-05-18 20:32:31,103] [INFO] [agent_5] agent_5 => buddy => (Fallback) Hello from agent_5, no chain-of-thought library installed.\n"
          ]
        },
        {
          "output_type": "stream",
          "name": "stderr",
          "text": [
            "INFO:agent_5:agent_5 => buddy => (Fallback) Hello from agent_5, no chain-of-thought library installed.\n",
            "INFO:werkzeug:127.0.0.1 - - [18/May/2025 20:32:31] \"POST /assign-task?agent_id=agent_5 HTTP/1.1\" 200 -\n"
          ]
        },
        {
          "output_type": "stream",
          "name": "stdout",
          "text": [
            "[2025-05-18 20:32:31,112] [INFO] [agent_5] agent_5 => navigate => https://subscribe.sorryapp.com/24846f03/slack/new\n"
          ]
        },
        {
          "output_type": "stream",
          "name": "stderr",
          "text": [
            "INFO:agent_5:agent_5 => navigate => https://subscribe.sorryapp.com/24846f03/slack/new\n",
            "INFO:werkzeug:127.0.0.1 - - [18/May/2025 20:32:31] \"POST /assign-task?agent_id=agent_5 HTTP/1.1\" 200 -\n",
            "INFO:werkzeug:127.0.0.1 - - [18/May/2025 20:32:31] \"POST /assign-task?agent_id=agent_3 HTTP/1.1\" 200 -\n",
            "WARNING:Main:OpenAI error Error code: 429 - {'error': {'message': 'Rate limit reached for gpt-3.5-turbo in organization org-inb5NKPyOYFJGXIGnZt0PBAa on requests per day (RPD): Limit 10000, Used 10000, Requested 1. Please try again in 8.64s. Visit https://platform.openai.com/account/rate-limits to learn more.', 'type': 'requests', 'param': None, 'code': 'rate_limit_exceeded'}}\n",
            "INFO:werkzeug:127.0.0.1 - - [18/May/2025 20:32:31] \"POST /assign-task?agent_id=agent_3 HTTP/1.1\" 200 -\n",
            "INFO:werkzeug:127.0.0.1 - - [18/May/2025 20:32:31] \"POST /assign-task?agent_id=agent_4 HTTP/1.1\" 200 -\n",
            "INFO:werkzeug:127.0.0.1 - - [18/May/2025 20:32:31] \"POST /assign-task?agent_id=agent_5 HTTP/1.1\" 200 -\n",
            "INFO:werkzeug:127.0.0.1 - - [18/May/2025 20:32:31] \"POST /assign-task?agent_id=agent_2 HTTP/1.1\" 200 -\n",
            "INFO:werkzeug:127.0.0.1 - - [18/May/2025 20:32:31] \"POST /assign-task?agent_id=agent_1 HTTP/1.1\" 200 -\n",
            "INFO:werkzeug:127.0.0.1 - - [18/May/2025 20:32:31] \"POST /assign-task?agent_id=agent_4 HTTP/1.1\" 200 -\n",
            "WARNING:Main:OpenAI error Error code: 429 - {'error': {'message': 'Rate limit reached for gpt-3.5-turbo in organization org-inb5NKPyOYFJGXIGnZt0PBAa on requests per min (RPM): Limit 500, Used 500, Requested 1. Please try again in 120ms. Visit https://platform.openai.com/account/rate-limits to learn more.', 'type': 'requests', 'param': None, 'code': 'rate_limit_exceeded'}}\n",
            "INFO:werkzeug:127.0.0.1 - - [18/May/2025 20:32:31] \"POST /assign-task?agent_id=agent_4 HTTP/1.1\" 200 -\n",
            "INFO:werkzeug:127.0.0.1 - - [18/May/2025 20:32:31] \"POST /assign-task?agent_id=agent_1 HTTP/1.1\" 200 -\n",
            "INFO:werkzeug:127.0.0.1 - - [18/May/2025 20:32:31] \"POST /assign-task?agent_id=agent_3 HTTP/1.1\" 200 -\n",
            "INFO:werkzeug:127.0.0.1 - - [18/May/2025 20:32:31] \"POST /assign-task?agent_id=agent_2 HTTP/1.1\" 200 -\n"
          ]
        },
        {
          "output_type": "stream",
          "name": "stdout",
          "text": [
            "[2025-05-18 20:32:31,695] [INFO] [agent_3] agent_3 => CAUTIOUS -> ANALYTICAL (chain-of-thought shift)\n"
          ]
        },
        {
          "output_type": "stream",
          "name": "stderr",
          "text": [
            "INFO:agent_3:agent_3 => CAUTIOUS -> ANALYTICAL (chain-of-thought shift)\n"
          ]
        },
        {
          "output_type": "stream",
          "name": "stdout",
          "text": [
            "[2025-05-18 20:32:31,703] [INFO] [agent_3] agent_3 => synergy RNN => loss=11790.7285\n"
          ]
        },
        {
          "output_type": "stream",
          "name": "stderr",
          "text": [
            "INFO:agent_3:agent_3 => synergy RNN => loss=11790.7285\n"
          ]
        },
        {
          "output_type": "stream",
          "name": "stdout",
          "text": [
            "[2025-05-18 20:32:31,704] [INFO] [agent_3] agent_3 => buddy => (Fallback) Hello from agent_3, no chain-of-thought library installed.\n"
          ]
        },
        {
          "output_type": "stream",
          "name": "stderr",
          "text": [
            "INFO:agent_3:agent_3 => buddy => (Fallback) Hello from agent_3, no chain-of-thought library installed.\n",
            "INFO:werkzeug:127.0.0.1 - - [18/May/2025 20:32:31] \"POST /assign-task?agent_id=agent_3 HTTP/1.1\" 200 -\n"
          ]
        },
        {
          "output_type": "stream",
          "name": "stdout",
          "text": [
            "[2025-05-18 20:32:31,713] [INFO] [agent_3] agent_3 => navigate => https://ii.wikipedia.org/wiki/Wikipedia:%E5%85%B3%E4%BA%8E\n"
          ]
        },
        {
          "output_type": "stream",
          "name": "stderr",
          "text": [
            "INFO:agent_3:agent_3 => navigate => https://ii.wikipedia.org/wiki/Wikipedia:%E5%85%B3%E4%BA%8E\n",
            "INFO:werkzeug:127.0.0.1 - - [18/May/2025 20:32:31] \"POST /assign-task?agent_id=agent_5 HTTP/1.1\" 200 -\n",
            "INFO:werkzeug:127.0.0.1 - - [18/May/2025 20:32:31] \"POST /assign-task?agent_id=agent_1 HTTP/1.1\" 200 -\n"
          ]
        },
        {
          "output_type": "stream",
          "name": "stdout",
          "text": [
            "  Resolved https://github.com/nuster1128/MemEngine.git to commit 67e779ee97599304815a0a820ca7e2e7c8ac18ea\n"
          ]
        },
        {
          "output_type": "stream",
          "name": "stderr",
          "text": [
            "WARNING:Main:OpenAI error Error code: 429 - {'error': {'message': 'Rate limit reached for gpt-3.5-turbo in organization org-inb5NKPyOYFJGXIGnZt0PBAa on requests per day (RPD): Limit 10000, Used 10000, Requested 1. Please try again in 8.64s. Visit https://platform.openai.com/account/rate-limits to learn more.', 'type': 'requests', 'param': None, 'code': 'rate_limit_exceeded'}}\n"
          ]
        },
        {
          "output_type": "stream",
          "name": "stdout",
          "text": [
            "[2025-05-18 20:32:32,216] [INFO] [agent_4] agent_4 => CREATIVE -> CAUTIOUS (chain-of-thought shift)\n"
          ]
        },
        {
          "output_type": "stream",
          "name": "stderr",
          "text": [
            "INFO:agent_4:agent_4 => CREATIVE -> CAUTIOUS (chain-of-thought shift)\n"
          ]
        },
        {
          "output_type": "stream",
          "name": "stdout",
          "text": [
            "[2025-05-18 20:32:32,225] [INFO] [agent_4] agent_4 => synergy RNN => loss=734.0078\n"
          ]
        },
        {
          "output_type": "stream",
          "name": "stderr",
          "text": [
            "INFO:agent_4:agent_4 => synergy RNN => loss=734.0078\n"
          ]
        },
        {
          "output_type": "stream",
          "name": "stdout",
          "text": [
            "[2025-05-18 20:32:32,226] [INFO] [agent_4] agent_4 => buddy => (Fallback) Hello from agent_4, no chain-of-thought library installed.\n"
          ]
        },
        {
          "output_type": "stream",
          "name": "stderr",
          "text": [
            "INFO:agent_4:agent_4 => buddy => (Fallback) Hello from agent_4, no chain-of-thought library installed.\n",
            "INFO:werkzeug:127.0.0.1 - - [18/May/2025 20:32:32] \"POST /assign-task?agent_id=agent_4 HTTP/1.1\" 200 -\n"
          ]
        },
        {
          "output_type": "stream",
          "name": "stdout",
          "text": [
            "[2025-05-18 20:32:32,237] [INFO] [agent_4] agent_4 => navigate => https://developer.wikimedia.org\n"
          ]
        },
        {
          "output_type": "stream",
          "name": "stderr",
          "text": [
            "INFO:agent_4:agent_4 => navigate => https://developer.wikimedia.org\n",
            "WARNING:Main:OpenAI error Error code: 429 - {'error': {'message': 'Rate limit reached for gpt-3.5-turbo in organization org-inb5NKPyOYFJGXIGnZt0PBAa on requests per day (RPD): Limit 10000, Used 10000, Requested 1. Please try again in 8.64s. Visit https://platform.openai.com/account/rate-limits to learn more.', 'type': 'requests', 'param': None, 'code': 'rate_limit_exceeded'}}\n",
            "WARNING:Main:OpenAI error Error code: 429 - {'error': {'message': 'Rate limit reached for gpt-3.5-turbo in organization org-inb5NKPyOYFJGXIGnZt0PBAa on requests per min (RPM): Limit 500, Used 500, Requested 1. Please try again in 120ms. Visit https://platform.openai.com/account/rate-limits to learn more.', 'type': 'requests', 'param': None, 'code': 'rate_limit_exceeded'}}\n",
            "WARNING:Main:OpenAI error Error code: 429 - {'error': {'message': 'Rate limit reached for gpt-3.5-turbo in organization org-inb5NKPyOYFJGXIGnZt0PBAa on requests per min (RPM): Limit 500, Used 500, Requested 1. Please try again in 120ms. Visit https://platform.openai.com/account/rate-limits to learn more.', 'type': 'requests', 'param': None, 'code': 'rate_limit_exceeded'}}\n",
            "WARNING:Main:OpenAI error Error code: 429 - {'error': {'message': 'Rate limit reached for gpt-3.5-turbo in organization org-inb5NKPyOYFJGXIGnZt0PBAa on requests per day (RPD): Limit 10000, Used 10000, Requested 1. Please try again in 8.64s. Visit https://platform.openai.com/account/rate-limits to learn more.', 'type': 'requests', 'param': None, 'code': 'rate_limit_exceeded'}}\n",
            "WARNING:Main:OpenAI error Error code: 429 - {'error': {'message': 'Rate limit reached for gpt-3.5-turbo in organization org-inb5NKPyOYFJGXIGnZt0PBAa on requests per min (RPM): Limit 500, Used 500, Requested 1. Please try again in 120ms. Visit https://platform.openai.com/account/rate-limits to learn more.', 'type': 'requests', 'param': None, 'code': 'rate_limit_exceeded'}}\n",
            "WARNING:Main:OpenAI error Error code: 429 - {'error': {'message': 'Rate limit reached for gpt-3.5-turbo in organization org-inb5NKPyOYFJGXIGnZt0PBAa on requests per min (RPM): Limit 500, Used 500, Requested 1. Please try again in 120ms. Visit https://platform.openai.com/account/rate-limits to learn more.', 'type': 'requests', 'param': None, 'code': 'rate_limit_exceeded'}}\n",
            "WARNING:Main:OpenAI error Error code: 429 - {'error': {'message': 'Rate limit reached for gpt-3.5-turbo in organization org-inb5NKPyOYFJGXIGnZt0PBAa on requests per min (RPM): Limit 500, Used 500, Requested 1. Please try again in 120ms. Visit https://platform.openai.com/account/rate-limits to learn more.', 'type': 'requests', 'param': None, 'code': 'rate_limit_exceeded'}}\n",
            "WARNING:Main:OpenAI error Error code: 429 - {'error': {'message': 'Rate limit reached for gpt-3.5-turbo in organization org-inb5NKPyOYFJGXIGnZt0PBAa on requests per min (RPM): Limit 500, Used 500, Requested 1. Please try again in 120ms. Visit https://platform.openai.com/account/rate-limits to learn more.', 'type': 'requests', 'param': None, 'code': 'rate_limit_exceeded'}}\n"
          ]
        },
        {
          "output_type": "stream",
          "name": "stdout",
          "text": [
            "  Preparing metadata (setup.py) ... \u001b[?25l\u001b[?25hdone\n",
            "Requirement already satisfied: langchain>=0.3.3 in /usr/local/lib/python3.11/dist-packages (from memengine==1.1.0) (0.3.25)\n",
            "Requirement already satisfied: torch>=2.5.1 in /usr/local/lib/python3.11/dist-packages (from memengine==1.1.0) (2.6.0+cu124)\n",
            "Requirement already satisfied: numpy>=1.26.4 in /usr/local/lib/python3.11/dist-packages (from memengine==1.1.0) (2.0.2)\n",
            "Requirement already satisfied: openai>=1.51.2 in /usr/local/lib/python3.11/dist-packages (from memengine==1.1.0) (1.78.1)\n",
            "Requirement already satisfied: PyYAML>=6.0.2 in /usr/local/lib/python3.11/dist-packages (from memengine==1.1.0) (6.0.2)\n",
            "Requirement already satisfied: sentence_transformers>=3.3.1 in /usr/local/lib/python3.11/dist-packages (from memengine==1.1.0) (4.1.0)\n",
            "Requirement already satisfied: transformers>=4.45.2 in /usr/local/lib/python3.11/dist-packages (from memengine==1.1.0) (4.51.3)\n",
            "Requirement already satisfied: langchain-core<1.0.0,>=0.3.58 in /usr/local/lib/python3.11/dist-packages (from langchain>=0.3.3->memengine==1.1.0) (0.3.59)\n",
            "Requirement already satisfied: langchain-text-splitters<1.0.0,>=0.3.8 in /usr/local/lib/python3.11/dist-packages (from langchain>=0.3.3->memengine==1.1.0) (0.3.8)\n",
            "Requirement already satisfied: langsmith<0.4,>=0.1.17 in /usr/local/lib/python3.11/dist-packages (from langchain>=0.3.3->memengine==1.1.0) (0.3.42)\n",
            "Requirement already satisfied: pydantic<3.0.0,>=2.7.4 in /usr/local/lib/python3.11/dist-packages (from langchain>=0.3.3->memengine==1.1.0) (2.11.4)\n",
            "Requirement already satisfied: SQLAlchemy<3,>=1.4 in /usr/local/lib/python3.11/dist-packages (from langchain>=0.3.3->memengine==1.1.0) (2.0.40)\n",
            "Requirement already satisfied: requests<3,>=2 in /usr/local/lib/python3.11/dist-packages (from langchain>=0.3.3->memengine==1.1.0) (2.32.3)\n",
            "Requirement already satisfied: anyio<5,>=3.5.0 in /usr/local/lib/python3.11/dist-packages (from openai>=1.51.2->memengine==1.1.0) (4.9.0)\n",
            "Requirement already satisfied: distro<2,>=1.7.0 in /usr/local/lib/python3.11/dist-packages (from openai>=1.51.2->memengine==1.1.0) (1.9.0)\n",
            "Requirement already satisfied: httpx<1,>=0.23.0 in /usr/local/lib/python3.11/dist-packages (from openai>=1.51.2->memengine==1.1.0) (0.28.1)\n",
            "Requirement already satisfied: jiter<1,>=0.4.0 in /usr/local/lib/python3.11/dist-packages (from openai>=1.51.2->memengine==1.1.0) (0.9.0)\n",
            "Requirement already satisfied: sniffio in /usr/local/lib/python3.11/dist-packages (from openai>=1.51.2->memengine==1.1.0) (1.3.1)\n",
            "Requirement already satisfied: tqdm>4 in /usr/local/lib/python3.11/dist-packages (from openai>=1.51.2->memengine==1.1.0) (4.67.1)\n",
            "Requirement already satisfied: typing-extensions<5,>=4.11 in /usr/local/lib/python3.11/dist-packages (from openai>=1.51.2->memengine==1.1.0) (4.13.2)\n",
            "Requirement already satisfied: scikit-learn in /usr/local/lib/python3.11/dist-packages (from sentence_transformers>=3.3.1->memengine==1.1.0) (1.6.1)\n",
            "Requirement already satisfied: scipy in /usr/local/lib/python3.11/dist-packages (from sentence_transformers>=3.3.1->memengine==1.1.0) (1.15.3)\n",
            "Requirement already satisfied: huggingface-hub>=0.20.0 in /usr/local/lib/python3.11/dist-packages (from sentence_transformers>=3.3.1->memengine==1.1.0) (0.31.2)\n",
            "Requirement already satisfied: Pillow in /usr/local/lib/python3.11/dist-packages (from sentence_transformers>=3.3.1->memengine==1.1.0) (11.2.1)\n",
            "Requirement already satisfied: filelock in /usr/local/lib/python3.11/dist-packages (from torch>=2.5.1->memengine==1.1.0) (3.18.0)\n",
            "Requirement already satisfied: networkx in /usr/local/lib/python3.11/dist-packages (from torch>=2.5.1->memengine==1.1.0) (3.4.2)\n",
            "Requirement already satisfied: jinja2 in /usr/local/lib/python3.11/dist-packages (from torch>=2.5.1->memengine==1.1.0) (3.1.6)\n",
            "Requirement already satisfied: fsspec in /usr/local/lib/python3.11/dist-packages (from torch>=2.5.1->memengine==1.1.0) (2025.3.2)\n",
            "Requirement already satisfied: nvidia-cuda-nvrtc-cu12==12.4.127 in /usr/local/lib/python3.11/dist-packages (from torch>=2.5.1->memengine==1.1.0) (12.4.127)\n",
            "Requirement already satisfied: nvidia-cuda-runtime-cu12==12.4.127 in /usr/local/lib/python3.11/dist-packages (from torch>=2.5.1->memengine==1.1.0) (12.4.127)\n",
            "Requirement already satisfied: nvidia-cuda-cupti-cu12==12.4.127 in /usr/local/lib/python3.11/dist-packages (from torch>=2.5.1->memengine==1.1.0) (12.4.127)\n",
            "Requirement already satisfied: nvidia-cudnn-cu12==9.1.0.70 in /usr/local/lib/python3.11/dist-packages (from torch>=2.5.1->memengine==1.1.0) (9.1.0.70)\n",
            "Requirement already satisfied: nvidia-cublas-cu12==12.4.5.8 in /usr/local/lib/python3.11/dist-packages (from torch>=2.5.1->memengine==1.1.0) (12.4.5.8)\n",
            "Requirement already satisfied: nvidia-cufft-cu12==11.2.1.3 in /usr/local/lib/python3.11/dist-packages (from torch>=2.5.1->memengine==1.1.0) (11.2.1.3)\n",
            "Requirement already satisfied: nvidia-curand-cu12==10.3.5.147 in /usr/local/lib/python3.11/dist-packages (from torch>=2.5.1->memengine==1.1.0) (10.3.5.147)\n",
            "Requirement already satisfied: nvidia-cusolver-cu12==11.6.1.9 in /usr/local/lib/python3.11/dist-packages (from torch>=2.5.1->memengine==1.1.0) (11.6.1.9)\n",
            "Requirement already satisfied: nvidia-cusparse-cu12==12.3.1.170 in /usr/local/lib/python3.11/dist-packages (from torch>=2.5.1->memengine==1.1.0) (12.3.1.170)\n",
            "Requirement already satisfied: nvidia-cusparselt-cu12==0.6.2 in /usr/local/lib/python3.11/dist-packages (from torch>=2.5.1->memengine==1.1.0) (0.6.2)\n",
            "Requirement already satisfied: nvidia-nccl-cu12==2.21.5 in /usr/local/lib/python3.11/dist-packages (from torch>=2.5.1->memengine==1.1.0) (2.21.5)\n",
            "Requirement already satisfied: nvidia-nvtx-cu12==12.4.127 in /usr/local/lib/python3.11/dist-packages (from torch>=2.5.1->memengine==1.1.0) (12.4.127)\n",
            "Requirement already satisfied: nvidia-nvjitlink-cu12==12.4.127 in /usr/local/lib/python3.11/dist-packages (from torch>=2.5.1->memengine==1.1.0) (12.4.127)\n",
            "Requirement already satisfied: triton==3.2.0 in /usr/local/lib/python3.11/dist-packages (from torch>=2.5.1->memengine==1.1.0) (3.2.0)\n",
            "Requirement already satisfied: sympy==1.13.1 in /usr/local/lib/python3.11/dist-packages (from torch>=2.5.1->memengine==1.1.0) (1.13.1)\n",
            "Requirement already satisfied: mpmath<1.4,>=1.1.0 in /usr/local/lib/python3.11/dist-packages (from sympy==1.13.1->torch>=2.5.1->memengine==1.1.0) (1.3.0)\n"
          ]
        },
        {
          "output_type": "stream",
          "name": "stderr",
          "text": [
            "WARNING:Main:OpenAI error Error code: 429 - {'error': {'message': 'Rate limit reached for gpt-3.5-turbo in organization org-inb5NKPyOYFJGXIGnZt0PBAa on requests per day (RPD): Limit 10000, Used 10000, Requested 1. Please try again in 8.64s. Visit https://platform.openai.com/account/rate-limits to learn more.', 'type': 'requests', 'param': None, 'code': 'rate_limit_exceeded'}}\n"
          ]
        },
        {
          "output_type": "stream",
          "name": "stdout",
          "text": [
            "Requirement already satisfied: packaging>=20.0 in /usr/local/lib/python3.11/dist-packages (from transformers>=4.45.2->memengine==1.1.0) (24.2)\n",
            "Requirement already satisfied: regex!=2019.12.17 in /usr/local/lib/python3.11/dist-packages (from transformers>=4.45.2->memengine==1.1.0) (2024.11.6)\n",
            "Requirement already satisfied: tokenizers<0.22,>=0.21 in /usr/local/lib/python3.11/dist-packages (from transformers>=4.45.2->memengine==1.1.0) (0.21.1)\n",
            "Requirement already satisfied: safetensors>=0.4.3 in /usr/local/lib/python3.11/dist-packages (from transformers>=4.45.2->memengine==1.1.0) (0.5.3)\n",
            "Requirement already satisfied: idna>=2.8 in /usr/local/lib/python3.11/dist-packages (from anyio<5,>=3.5.0->openai>=1.51.2->memengine==1.1.0) (3.10)\n",
            "Requirement already satisfied: certifi in /usr/local/lib/python3.11/dist-packages (from httpx<1,>=0.23.0->openai>=1.51.2->memengine==1.1.0) (2025.4.26)\n",
            "Requirement already satisfied: httpcore==1.* in /usr/local/lib/python3.11/dist-packages (from httpx<1,>=0.23.0->openai>=1.51.2->memengine==1.1.0) (1.0.9)\n",
            "Requirement already satisfied: h11>=0.16 in /usr/local/lib/python3.11/dist-packages (from httpcore==1.*->httpx<1,>=0.23.0->openai>=1.51.2->memengine==1.1.0) (0.16.0)\n",
            "Requirement already satisfied: tenacity!=8.4.0,<10.0.0,>=8.1.0 in /usr/local/lib/python3.11/dist-packages (from langchain-core<1.0.0,>=0.3.58->langchain>=0.3.3->memengine==1.1.0) (9.1.2)\n",
            "Requirement already satisfied: jsonpatch<2.0,>=1.33 in /usr/local/lib/python3.11/dist-packages (from langchain-core<1.0.0,>=0.3.58->langchain>=0.3.3->memengine==1.1.0) (1.33)\n",
            "Requirement already satisfied: orjson<4.0.0,>=3.9.14 in /usr/local/lib/python3.11/dist-packages (from langsmith<0.4,>=0.1.17->langchain>=0.3.3->memengine==1.1.0) (3.10.18)\n",
            "Requirement already satisfied: requests-toolbelt<2.0.0,>=1.0.0 in /usr/local/lib/python3.11/dist-packages (from langsmith<0.4,>=0.1.17->langchain>=0.3.3->memengine==1.1.0) (1.0.0)\n",
            "Requirement already satisfied: zstandard<0.24.0,>=0.23.0 in /usr/local/lib/python3.11/dist-packages (from langsmith<0.4,>=0.1.17->langchain>=0.3.3->memengine==1.1.0) (0.23.0)\n",
            "Requirement already satisfied: annotated-types>=0.6.0 in /usr/local/lib/python3.11/dist-packages (from pydantic<3.0.0,>=2.7.4->langchain>=0.3.3->memengine==1.1.0) (0.7.0)\n",
            "Requirement already satisfied: pydantic-core==2.33.2 in /usr/local/lib/python3.11/dist-packages (from pydantic<3.0.0,>=2.7.4->langchain>=0.3.3->memengine==1.1.0) (2.33.2)\n",
            "Requirement already satisfied: typing-inspection>=0.4.0 in /usr/local/lib/python3.11/dist-packages (from pydantic<3.0.0,>=2.7.4->langchain>=0.3.3->memengine==1.1.0) (0.4.0)\n",
            "Requirement already satisfied: charset-normalizer<4,>=2 in /usr/local/lib/python3.11/dist-packages (from requests<3,>=2->langchain>=0.3.3->memengine==1.1.0) (3.4.2)\n",
            "Requirement already satisfied: urllib3<3,>=1.21.1 in /usr/local/lib/python3.11/dist-packages (from requests<3,>=2->langchain>=0.3.3->memengine==1.1.0) (2.4.0)\n",
            "Requirement already satisfied: greenlet>=1 in /usr/local/lib/python3.11/dist-packages (from SQLAlchemy<3,>=1.4->langchain>=0.3.3->memengine==1.1.0) (3.2.2)\n",
            "Requirement already satisfied: MarkupSafe>=2.0 in /usr/local/lib/python3.11/dist-packages (from jinja2->torch>=2.5.1->memengine==1.1.0) (3.0.2)\n",
            "Requirement already satisfied: joblib>=1.2.0 in /usr/local/lib/python3.11/dist-packages (from scikit-learn->sentence_transformers>=3.3.1->memengine==1.1.0) (1.5.0)\n",
            "Requirement already satisfied: threadpoolctl>=3.1.0 in /usr/local/lib/python3.11/dist-packages (from scikit-learn->sentence_transformers>=3.3.1->memengine==1.1.0) (3.6.0)\n",
            "Requirement already satisfied: jsonpointer>=1.9 in /usr/local/lib/python3.11/dist-packages (from jsonpatch<2.0,>=1.33->langchain-core<1.0.0,>=0.3.58->langchain>=0.3.3->memengine==1.1.0) (3.0.0)\n",
            "[2025-05-18 20:32:32,658] [INFO] [agent_1] agent_1 => synergy RNN => loss=11738.7256\n"
          ]
        },
        {
          "output_type": "stream",
          "name": "stderr",
          "text": [
            "INFO:agent_1:agent_1 => synergy RNN => loss=11738.7256\n"
          ]
        },
        {
          "output_type": "stream",
          "name": "stdout",
          "text": [
            "[2025-05-18 20:32:32,660] [INFO] [agent_1] agent_1 => buddy => (Fallback) Hello from agent_1, no chain-of-thought library installed.\n"
          ]
        },
        {
          "output_type": "stream",
          "name": "stderr",
          "text": [
            "INFO:agent_1:agent_1 => buddy => (Fallback) Hello from agent_1, no chain-of-thought library installed.\n",
            "INFO:werkzeug:127.0.0.1 - - [18/May/2025 20:32:32] \"POST /assign-task?agent_id=agent_1 HTTP/1.1\" 200 -\n"
          ]
        },
        {
          "output_type": "stream",
          "name": "stdout",
          "text": [
            "[2025-05-18 20:32:32,667] [INFO] [agent_1] agent_1 => navigate => https://www.tiktok.com/@github\n"
          ]
        },
        {
          "output_type": "stream",
          "name": "stderr",
          "text": [
            "INFO:agent_1:agent_1 => navigate => https://www.tiktok.com/@github\n",
            "WARNING:Main:OpenAI error Error code: 429 - {'error': {'message': 'Rate limit reached for gpt-3.5-turbo in organization org-inb5NKPyOYFJGXIGnZt0PBAa on requests per min (RPM): Limit 500, Used 500, Requested 1. Please try again in 120ms. Visit https://platform.openai.com/account/rate-limits to learn more.', 'type': 'requests', 'param': None, 'code': 'rate_limit_exceeded'}}\n",
            "WARNING:Main:OpenAI error Error code: 429 - {'error': {'message': 'Rate limit reached for gpt-3.5-turbo in organization org-inb5NKPyOYFJGXIGnZt0PBAa on requests per day (RPD): Limit 10000, Used 10000, Requested 1. Please try again in 8.64s. Visit https://platform.openai.com/account/rate-limits to learn more.', 'type': 'requests', 'param': None, 'code': 'rate_limit_exceeded'}}\n",
            "WARNING:Main:OpenAI error Error code: 429 - {'error': {'message': 'Rate limit reached for gpt-3.5-turbo in organization org-inb5NKPyOYFJGXIGnZt0PBAa on requests per day (RPD): Limit 10000, Used 10000, Requested 1. Please try again in 8.64s. Visit https://platform.openai.com/account/rate-limits to learn more.', 'type': 'requests', 'param': None, 'code': 'rate_limit_exceeded'}}\n"
          ]
        },
        {
          "output_type": "stream",
          "name": "stdout",
          "text": [
            "[2025-05-18 20:32:33,053] [INFO] [agent_2] agent_2 => CREATIVE -> CURIOUS (chain-of-thought shift)\n"
          ]
        },
        {
          "output_type": "stream",
          "name": "stderr",
          "text": [
            "INFO:agent_2:agent_2 => CREATIVE -> CURIOUS (chain-of-thought shift)\n"
          ]
        },
        {
          "output_type": "stream",
          "name": "stdout",
          "text": [
            "[2025-05-18 20:32:33,059] [INFO] [agent_2] agent_2 => synergy RNN => loss=2886.6853\n"
          ]
        },
        {
          "output_type": "stream",
          "name": "stderr",
          "text": [
            "INFO:agent_2:agent_2 => synergy RNN => loss=2886.6853\n"
          ]
        },
        {
          "output_type": "stream",
          "name": "stdout",
          "text": [
            "[2025-05-18 20:32:33,062] [INFO] [agent_2] agent_2 => buddy => (Fallback) Hello from agent_2, no chain-of-thought library installed.\n"
          ]
        },
        {
          "output_type": "stream",
          "name": "stderr",
          "text": [
            "INFO:agent_2:agent_2 => buddy => (Fallback) Hello from agent_2, no chain-of-thought library installed.\n",
            "INFO:werkzeug:127.0.0.1 - - [18/May/2025 20:32:33] \"POST /assign-task?agent_id=agent_2 HTTP/1.1\" 200 -\n"
          ]
        },
        {
          "output_type": "stream",
          "name": "stdout",
          "text": [
            "[2025-05-18 20:32:33,069] [INFO] [agent_2] agent_2 => navigate => https://eu.wikipedia.org/wiki/Laguntza:Sarrera\n"
          ]
        },
        {
          "output_type": "stream",
          "name": "stderr",
          "text": [
            "INFO:agent_2:agent_2 => navigate => https://eu.wikipedia.org/wiki/Laguntza:Sarrera\n",
            "INFO:werkzeug:127.0.0.1 - - [18/May/2025 20:32:33] \"POST /assign-task?agent_id=agent_2 HTTP/1.1\" 200 -\n",
            "WARNING:Main:OpenAI error Error code: 429 - {'error': {'message': 'Rate limit reached for gpt-3.5-turbo in organization org-inb5NKPyOYFJGXIGnZt0PBAa on requests per day (RPD): Limit 10000, Used 10000, Requested 1. Please try again in 8.64s. Visit https://platform.openai.com/account/rate-limits to learn more.', 'type': 'requests', 'param': None, 'code': 'rate_limit_exceeded'}}\n"
          ]
        },
        {
          "output_type": "stream",
          "name": "stdout",
          "text": [
            "[2025-05-18 20:32:33,174] [INFO] [agent_5] agent_5 => HUMOR -> TASK_ORIENTED (chain-of-thought shift)\n"
          ]
        },
        {
          "output_type": "stream",
          "name": "stderr",
          "text": [
            "INFO:agent_5:agent_5 => HUMOR -> TASK_ORIENTED (chain-of-thought shift)\n",
            "INFO:werkzeug:127.0.0.1 - - [18/May/2025 20:32:33] \"POST /assign-task?agent_id=agent_3 HTTP/1.1\" 200 -\n",
            "INFO:werkzeug:127.0.0.1 - - [18/May/2025 20:32:33] \"POST /assign-task?agent_id=agent_5 HTTP/1.1\" 200 -\n"
          ]
        },
        {
          "output_type": "stream",
          "name": "stdout",
          "text": [
            "[2025-05-18 20:32:33,200] [INFO] [agent_5] agent_5 => synergy RNN => loss=22296.3281\n"
          ]
        },
        {
          "output_type": "stream",
          "name": "stderr",
          "text": [
            "INFO:agent_5:agent_5 => synergy RNN => loss=22296.3281\n",
            "INFO:werkzeug:127.0.0.1 - - [18/May/2025 20:32:33] \"POST /assign-task?agent_id=agent_5 HTTP/1.1\" 200 -\n"
          ]
        },
        {
          "output_type": "stream",
          "name": "stdout",
          "text": [
            "[2025-05-18 20:32:33,208] [INFO] [agent_5] agent_5 => navigate => https://code.visualstudio.com/docs/copilot/ai-powered-suggestions#_next-edit-suggestions\n"
          ]
        },
        {
          "output_type": "stream",
          "name": "stderr",
          "text": [
            "INFO:agent_5:agent_5 => navigate => https://code.visualstudio.com/docs/copilot/ai-powered-suggestions#_next-edit-suggestions\n",
            "INFO:werkzeug:127.0.0.1 - - [18/May/2025 20:32:33] \"POST /assign-task?agent_id=agent_3 HTTP/1.1\" 200 -\n",
            "INFO:werkzeug:127.0.0.1 - - [18/May/2025 20:32:33] \"POST /assign-task?agent_id=agent_4 HTTP/1.1\" 200 -\n",
            "INFO:werkzeug:127.0.0.1 - - [18/May/2025 20:32:33] \"POST /assign-task?agent_id=agent_5 HTTP/1.1\" 200 -\n",
            "INFO:werkzeug:127.0.0.1 - - [18/May/2025 20:32:33] \"POST /assign-task?agent_id=agent_2 HTTP/1.1\" 200 -\n",
            "INFO:werkzeug:127.0.0.1 - - [18/May/2025 20:32:33] \"POST /assign-task?agent_id=agent_1 HTTP/1.1\" 200 -\n",
            "INFO:werkzeug:127.0.0.1 - - [18/May/2025 20:32:33] \"POST /assign-task?agent_id=agent_4 HTTP/1.1\" 200 -\n",
            "WARNING:Main:OpenAI error Error code: 429 - {'error': {'message': 'Rate limit reached for gpt-3.5-turbo in organization org-inb5NKPyOYFJGXIGnZt0PBAa on requests per day (RPD): Limit 10000, Used 10000, Requested 1. Please try again in 8.64s. Visit https://platform.openai.com/account/rate-limits to learn more.', 'type': 'requests', 'param': None, 'code': 'rate_limit_exceeded'}}\n",
            "INFO:werkzeug:127.0.0.1 - - [18/May/2025 20:32:33] \"POST /assign-task?agent_id=agent_4 HTTP/1.1\" 200 -\n",
            "INFO:werkzeug:127.0.0.1 - - [18/May/2025 20:32:33] \"POST /assign-task?agent_id=agent_1 HTTP/1.1\" 200 -\n",
            "INFO:werkzeug:127.0.0.1 - - [18/May/2025 20:32:33] \"POST /assign-task?agent_id=agent_3 HTTP/1.1\" 200 -\n",
            "INFO:werkzeug:127.0.0.1 - - [18/May/2025 20:32:33] \"POST /assign-task?agent_id=agent_2 HTTP/1.1\" 200 -\n",
            "INFO:werkzeug:127.0.0.1 - - [18/May/2025 20:32:33] \"POST /assign-task?agent_id=agent_5 HTTP/1.1\" 200 -\n",
            "INFO:werkzeug:127.0.0.1 - - [18/May/2025 20:32:33] \"POST /assign-task?agent_id=agent_1 HTTP/1.1\" 200 -\n"
          ]
        },
        {
          "output_type": "stream",
          "name": "stdout",
          "text": [
            "[2025-05-18 20:32:33,817] [INFO] [agent_3] agent_3 => ANALYTICAL -> HUMOR (chain-of-thought shift)\n"
          ]
        },
        {
          "output_type": "stream",
          "name": "stderr",
          "text": [
            "INFO:agent_3:agent_3 => ANALYTICAL -> HUMOR (chain-of-thought shift)\n"
          ]
        },
        {
          "output_type": "stream",
          "name": "stdout",
          "text": [
            "[2025-05-18 20:32:33,824] [INFO] [agent_3] agent_3 => synergy RNN => loss=495.4117\n"
          ]
        },
        {
          "output_type": "stream",
          "name": "stderr",
          "text": [
            "INFO:agent_3:agent_3 => synergy RNN => loss=495.4117\n"
          ]
        },
        {
          "output_type": "stream",
          "name": "stdout",
          "text": [
            "[2025-05-18 20:32:33,825] [INFO] [agent_3] agent_3 => buddy => (Fallback) Hello from agent_3, no chain-of-thought library installed.\n"
          ]
        },
        {
          "output_type": "stream",
          "name": "stderr",
          "text": [
            "INFO:agent_3:agent_3 => buddy => (Fallback) Hello from agent_3, no chain-of-thought library installed.\n",
            "INFO:werkzeug:127.0.0.1 - - [18/May/2025 20:32:33] \"POST /assign-task?agent_id=agent_3 HTTP/1.1\" 200 -\n"
          ]
        },
        {
          "output_type": "stream",
          "name": "stdout",
          "text": [
            "[2025-05-18 20:32:33,833] [INFO] [agent_3] agent_3 => navigate => https://ru.wikibooks.org/wiki/%D0%92%D0%B8%D0%BA%D0%B8%D1%83%D1%87%D0%B5%D0%B1%D0%BD%D0%B8%D0%BA:%D0%9E%D0%BF%D0%B8%D1%81%D0%B0%D0%BD%D0%B8%D0%B5\n"
          ]
        },
        {
          "output_type": "stream",
          "name": "stderr",
          "text": [
            "INFO:agent_3:agent_3 => navigate => https://ru.wikibooks.org/wiki/%D0%92%D0%B8%D0%BA%D0%B8%D1%83%D1%87%D0%B5%D0%B1%D0%BD%D0%B8%D0%BA:%D0%9E%D0%BF%D0%B8%D1%81%D0%B0%D0%BD%D0%B8%D0%B5\n",
            "WARNING:Main:OpenAI error Error code: 429 - {'error': {'message': 'Rate limit reached for gpt-3.5-turbo in organization org-inb5NKPyOYFJGXIGnZt0PBAa on requests per min (RPM): Limit 500, Used 500, Requested 1. Please try again in 120ms. Visit https://platform.openai.com/account/rate-limits to learn more.', 'type': 'requests', 'param': None, 'code': 'rate_limit_exceeded'}}\n",
            "WARNING:Main:OpenAI error Error code: 429 - {'error': {'message': 'Rate limit reached for gpt-3.5-turbo in organization org-inb5NKPyOYFJGXIGnZt0PBAa on requests per min (RPM): Limit 500, Used 500, Requested 1. Please try again in 120ms. Visit https://platform.openai.com/account/rate-limits to learn more.', 'type': 'requests', 'param': None, 'code': 'rate_limit_exceeded'}}\n",
            "WARNING:Main:OpenAI error Error code: 429 - {'error': {'message': 'Rate limit reached for gpt-3.5-turbo in organization org-inb5NKPyOYFJGXIGnZt0PBAa on requests per min (RPM): Limit 500, Used 500, Requested 1. Please try again in 120ms. Visit https://platform.openai.com/account/rate-limits to learn more.', 'type': 'requests', 'param': None, 'code': 'rate_limit_exceeded'}}\n",
            "WARNING:Main:OpenAI error Error code: 429 - {'error': {'message': 'Rate limit reached for gpt-3.5-turbo in organization org-inb5NKPyOYFJGXIGnZt0PBAa on requests per day (RPD): Limit 10000, Used 10000, Requested 1. Please try again in 8.64s. Visit https://platform.openai.com/account/rate-limits to learn more.', 'type': 'requests', 'param': None, 'code': 'rate_limit_exceeded'}}\n",
            "WARNING:Main:OpenAI error Error code: 429 - {'error': {'message': 'Rate limit reached for gpt-3.5-turbo in organization org-inb5NKPyOYFJGXIGnZt0PBAa on requests per min (RPM): Limit 500, Used 500, Requested 1. Please try again in 120ms. Visit https://platform.openai.com/account/rate-limits to learn more.', 'type': 'requests', 'param': None, 'code': 'rate_limit_exceeded'}}\n"
          ]
        }
      ],
      "source": [
        "!pip install git+https://github.com/nuster1128/MemEngine.git"
      ]
    },
    {
      "cell_type": "code",
      "source": [
        "!pip list | grep openai"
      ],
      "metadata": {
        "colab": {
          "base_uri": "https://localhost:8080/"
        },
        "id": "JzNESllr-Qd1",
        "outputId": "95c503e7-4952-4ba3-d26e-66ec9eb4041c"
      },
      "execution_count": 38,
      "outputs": [
        {
          "output_type": "stream",
          "name": "stderr",
          "text": [
            "WARNING:Main:OpenAI error Error code: 429 - {'error': {'message': 'Rate limit reached for gpt-3.5-turbo in organization org-inb5NKPyOYFJGXIGnZt0PBAa on requests per min (RPM): Limit 500, Used 500, Requested 1. Please try again in 120ms. Visit https://platform.openai.com/account/rate-limits to learn more.', 'type': 'requests', 'param': None, 'code': 'rate_limit_exceeded'}}\n"
          ]
        },
        {
          "output_type": "stream",
          "name": "stdout",
          "text": [
            "[2025-05-18 20:32:34,628] [INFO] [agent_4] agent_4 => CAUTIOUS -> HUMOR (chain-of-thought shift)\n"
          ]
        },
        {
          "output_type": "stream",
          "name": "stderr",
          "text": [
            "INFO:agent_4:agent_4 => CAUTIOUS -> HUMOR (chain-of-thought shift)\n"
          ]
        },
        {
          "output_type": "stream",
          "name": "stdout",
          "text": [
            "[2025-05-18 20:32:34,634] [INFO] [agent_4] agent_4 => synergy RNN => loss=1316.4924\n"
          ]
        },
        {
          "output_type": "stream",
          "name": "stderr",
          "text": [
            "INFO:agent_4:agent_4 => synergy RNN => loss=1316.4924\n"
          ]
        },
        {
          "output_type": "stream",
          "name": "stdout",
          "text": [
            "[2025-05-18 20:32:34,636] [INFO] [agent_4] agent_4 => buddy => (Fallback) Hello from agent_4, no chain-of-thought library installed.\n"
          ]
        },
        {
          "output_type": "stream",
          "name": "stderr",
          "text": [
            "INFO:agent_4:agent_4 => buddy => (Fallback) Hello from agent_4, no chain-of-thought library installed.\n",
            "INFO:werkzeug:127.0.0.1 - - [18/May/2025 20:32:34] \"POST /assign-task?agent_id=agent_4 HTTP/1.1\" 200 -\n"
          ]
        },
        {
          "output_type": "stream",
          "name": "stdout",
          "text": [
            "[2025-05-18 20:32:34,642] [INFO] [agent_4] agent_4 => navigate => https://en.wikipedia.org/wiki/en:Norm_of_reciprocity\n"
          ]
        },
        {
          "output_type": "stream",
          "name": "stderr",
          "text": [
            "INFO:agent_4:agent_4 => navigate => https://en.wikipedia.org/wiki/en:Norm_of_reciprocity\n",
            "WARNING:Main:OpenAI error Error code: 429 - {'error': {'message': 'Rate limit reached for gpt-3.5-turbo in organization org-inb5NKPyOYFJGXIGnZt0PBAa on requests per day (RPD): Limit 10000, Used 10000, Requested 1. Please try again in 8.64s. Visit https://platform.openai.com/account/rate-limits to learn more.', 'type': 'requests', 'param': None, 'code': 'rate_limit_exceeded'}}\n",
            "WARNING:Main:OpenAI error Error code: 429 - {'error': {'message': 'Rate limit reached for gpt-3.5-turbo in organization org-inb5NKPyOYFJGXIGnZt0PBAa on requests per day (RPD): Limit 10000, Used 10000, Requested 1. Please try again in 8.64s. Visit https://platform.openai.com/account/rate-limits to learn more.', 'type': 'requests', 'param': None, 'code': 'rate_limit_exceeded'}}\n"
          ]
        },
        {
          "output_type": "stream",
          "name": "stdout",
          "text": [
            "[2025-05-18 20:32:35,431] [INFO] [agent_1] agent_1 => CURIOUS -> CREATIVE (chain-of-thought shift)\n"
          ]
        },
        {
          "output_type": "stream",
          "name": "stderr",
          "text": [
            "WARNING:Main:OpenAI error Error code: 429 - {'error': {'message': 'Rate limit reached for gpt-3.5-turbo in organization org-inb5NKPyOYFJGXIGnZt0PBAa on requests per min (RPM): Limit 500, Used 500, Requested 1. Please try again in 120ms. Visit https://platform.openai.com/account/rate-limits to learn more.', 'type': 'requests', 'param': None, 'code': 'rate_limit_exceeded'}}\n",
            "WARNING:Main:OpenAI error Error code: 429 - {'error': {'message': 'Rate limit reached for gpt-3.5-turbo in organization org-inb5NKPyOYFJGXIGnZt0PBAa on requests per min (RPM): Limit 500, Used 500, Requested 1. Please try again in 120ms. Visit https://platform.openai.com/account/rate-limits to learn more.', 'type': 'requests', 'param': None, 'code': 'rate_limit_exceeded'}}\n",
            "INFO:agent_1:agent_1 => CURIOUS -> CREATIVE (chain-of-thought shift)\n",
            "WARNING:Main:OpenAI error Error code: 429 - {'error': {'message': 'Rate limit reached for gpt-3.5-turbo in organization org-inb5NKPyOYFJGXIGnZt0PBAa on requests per min (RPM): Limit 500, Used 500, Requested 1. Please try again in 120ms. Visit https://platform.openai.com/account/rate-limits to learn more.', 'type': 'requests', 'param': None, 'code': 'rate_limit_exceeded'}}\n",
            "WARNING:Main:OpenAI error Error code: 429 - {'error': {'message': 'Rate limit reached for gpt-3.5-turbo in organization org-inb5NKPyOYFJGXIGnZt0PBAa on requests per min (RPM): Limit 500, Used 500, Requested 1. Please try again in 120ms. Visit https://platform.openai.com/account/rate-limits to learn more.', 'type': 'requests', 'param': None, 'code': 'rate_limit_exceeded'}}\n",
            "WARNING:Main:OpenAI error Error code: 429 - {'error': {'message': 'Rate limit reached for gpt-3.5-turbo in organization org-inb5NKPyOYFJGXIGnZt0PBAa on requests per day (RPD): Limit 10000, Used 10000, Requested 1. Please try again in 8.64s. Visit https://platform.openai.com/account/rate-limits to learn more.', 'type': 'requests', 'param': None, 'code': 'rate_limit_exceeded'}}\n"
          ]
        },
        {
          "output_type": "stream",
          "name": "stdout",
          "text": [
            "[2025-05-18 20:32:35,495] [INFO] [agent_5] agent_5 => TASK_ORIENTED -> FRUSTRATED (chain-of-thought shift)\n"
          ]
        },
        {
          "output_type": "stream",
          "name": "stderr",
          "text": [
            "INFO:agent_5:agent_5 => TASK_ORIENTED -> FRUSTRATED (chain-of-thought shift)\n",
            "INFO:werkzeug:127.0.0.1 - - [18/May/2025 20:32:35] \"POST /assign-task?agent_id=agent_3 HTTP/1.1\" 200 -\n",
            "INFO:werkzeug:127.0.0.1 - - [18/May/2025 20:32:35] \"POST /assign-task?agent_id=agent_4 HTTP/1.1\" 200 -\n"
          ]
        },
        {
          "output_type": "stream",
          "name": "stdout",
          "text": [
            "openai                                1.78.1\n",
            "openai-agents                         0.0.15\n",
            "[2025-05-18 20:32:35,556] [INFO] [agent_2] agent_2 => synergy RNN => loss=6967.3647\n"
          ]
        },
        {
          "output_type": "stream",
          "name": "stderr",
          "text": [
            "INFO:werkzeug:127.0.0.1 - - [18/May/2025 20:32:35] \"POST /assign-task?agent_id=agent_2 HTTP/1.1\" 200 -\n"
          ]
        },
        {
          "output_type": "stream",
          "name": "stdout",
          "text": [
            "[2025-05-18 20:32:35,585] [INFO] [agent_1] agent_1 => synergy RNN => loss=22278.2188\n"
          ]
        },
        {
          "output_type": "stream",
          "name": "stderr",
          "text": [
            "INFO:agent_2:agent_2 => synergy RNN => loss=6967.3647\n",
            "INFO:werkzeug:127.0.0.1 - - [18/May/2025 20:32:35] \"POST /assign-task?agent_id=agent_5 HTTP/1.1\" 200 -\n",
            "INFO:werkzeug:127.0.0.1 - - [18/May/2025 20:32:35] \"POST /assign-task?agent_id=agent_4 HTTP/1.1\" 200 -\n"
          ]
        },
        {
          "output_type": "stream",
          "name": "stdout",
          "text": [
            "[2025-05-18 20:32:35,620] [INFO] [agent_5] agent_5 => synergy RNN => loss=3985.1138\n"
          ]
        },
        {
          "output_type": "stream",
          "name": "stderr",
          "text": [
            "INFO:werkzeug:127.0.0.1 - - [18/May/2025 20:32:35] \"POST /assign-task?agent_id=agent_1 HTTP/1.1\" 200 -\n",
            "INFO:werkzeug:127.0.0.1 - - [18/May/2025 20:32:35] \"POST /assign-task?agent_id=agent_2 HTTP/1.1\" 200 -\n",
            "INFO:werkzeug:127.0.0.1 - - [18/May/2025 20:32:35] \"POST /assign-task?agent_id=agent_5 HTTP/1.1\" 200 -\n",
            "INFO:werkzeug:127.0.0.1 - - [18/May/2025 20:32:35] \"POST /assign-task?agent_id=agent_3 HTTP/1.1\" 200 -\n",
            "INFO:agent_1:agent_1 => synergy RNN => loss=22278.2188\n"
          ]
        },
        {
          "output_type": "stream",
          "name": "stdout",
          "text": [
            "[2025-05-18 20:32:35,638] [INFO] [agent_1] agent_1 => buddy => (Fallback) Hello from agent_1, no chain-of-thought library installed.\n"
          ]
        },
        {
          "output_type": "stream",
          "name": "stderr",
          "text": [
            "WARNING:Main:OpenAI error Error code: 429 - {'error': {'message': 'Rate limit reached for gpt-3.5-turbo in organization org-inb5NKPyOYFJGXIGnZt0PBAa on requests per day (RPD): Limit 10000, Used 10000, Requested 1. Please try again in 8.64s. Visit https://platform.openai.com/account/rate-limits to learn more.', 'type': 'requests', 'param': None, 'code': 'rate_limit_exceeded'}}\n",
            "INFO:werkzeug:127.0.0.1 - - [18/May/2025 20:32:35] \"POST /assign-task?agent_id=agent_2 HTTP/1.1\" 200 -\n",
            "INFO:agent_5:agent_5 => synergy RNN => loss=3985.1138\n"
          ]
        },
        {
          "output_type": "stream",
          "name": "stdout",
          "text": [
            "[2025-05-18 20:32:35,646] [INFO] [agent_2] agent_2 => navigate => https://it.wikinews.org/wiki/Aiuto:Aiuto\n"
          ]
        },
        {
          "output_type": "stream",
          "name": "stderr",
          "text": [
            "INFO:agent_1:agent_1 => buddy => (Fallback) Hello from agent_1, no chain-of-thought library installed.\n",
            "INFO:agent_2:agent_2 => navigate => https://it.wikinews.org/wiki/Aiuto:Aiuto\n",
            "INFO:werkzeug:127.0.0.1 - - [18/May/2025 20:32:35] \"POST /assign-task?agent_id=agent_5 HTTP/1.1\" 200 -\n",
            "INFO:werkzeug:127.0.0.1 - - [18/May/2025 20:32:35] \"POST /assign-task?agent_id=agent_1 HTTP/1.1\" 200 -\n"
          ]
        },
        {
          "output_type": "stream",
          "name": "stdout",
          "text": [
            "[2025-05-18 20:32:35,661] [INFO] [agent_5] agent_5 => navigate => https://www.tiktok.com/@github\n"
          ]
        },
        {
          "output_type": "stream",
          "name": "stderr",
          "text": [
            "INFO:agent_5:agent_5 => navigate => https://www.tiktok.com/@github\n"
          ]
        },
        {
          "output_type": "stream",
          "name": "stdout",
          "text": [
            "[2025-05-18 20:32:35,665] [INFO] [agent_1] agent_1 => navigate => https://arxiv.org/search/math\n"
          ]
        },
        {
          "output_type": "stream",
          "name": "stderr",
          "text": [
            "INFO:agent_1:agent_1 => navigate => https://arxiv.org/search/math\n",
            "INFO:werkzeug:127.0.0.1 - - [18/May/2025 20:32:35] \"POST /assign-task?agent_id=agent_4 HTTP/1.1\" 200 -\n",
            "INFO:werkzeug:127.0.0.1 - - [18/May/2025 20:32:35] \"POST /assign-task?agent_id=agent_1 HTTP/1.1\" 200 -\n",
            "INFO:werkzeug:127.0.0.1 - - [18/May/2025 20:32:35] \"POST /assign-task?agent_id=agent_3 HTTP/1.1\" 200 -\n",
            "INFO:werkzeug:127.0.0.1 - - [18/May/2025 20:32:35] \"POST /assign-task?agent_id=agent_2 HTTP/1.1\" 200 -\n"
          ]
        }
      ]
    },
    {
      "cell_type": "code",
      "source": [
        "!pip show openai-agents"
      ],
      "metadata": {
        "colab": {
          "base_uri": "https://localhost:8080/"
        },
        "id": "4DeS6WEm-alK",
        "outputId": "07488ee5-0312-48cb-e01f-cfa80486df52"
      },
      "execution_count": 39,
      "outputs": [
        {
          "output_type": "stream",
          "name": "stderr",
          "text": [
            "INFO:werkzeug:127.0.0.1 - - [18/May/2025 20:32:35] \"POST /assign-task?agent_id=agent_1 HTTP/1.1\" 200 -\n",
            "INFO:werkzeug:127.0.0.1 - - [18/May/2025 20:32:35] \"POST /assign-task?agent_id=agent_5 HTTP/1.1\" 200 -\n"
          ]
        },
        {
          "output_type": "stream",
          "name": "stdout",
          "text": [
            "[2025-05-18 20:32:36,144] [INFO] [agent_3] agent_3 => HUMOR -> NEUROTIC (chain-of-thought shift)\n"
          ]
        },
        {
          "output_type": "stream",
          "name": "stderr",
          "text": [
            "INFO:agent_3:agent_3 => HUMOR -> NEUROTIC (chain-of-thought shift)\n"
          ]
        },
        {
          "output_type": "stream",
          "name": "stdout",
          "text": [
            "[2025-05-18 20:32:36,152] [INFO] [agent_3] agent_3 => synergy RNN => loss=401.0600\n"
          ]
        },
        {
          "output_type": "stream",
          "name": "stderr",
          "text": [
            "INFO:agent_3:agent_3 => synergy RNN => loss=401.0600\n"
          ]
        },
        {
          "output_type": "stream",
          "name": "stdout",
          "text": [
            "[2025-05-18 20:32:36,153] [INFO] [agent_3] agent_3 => buddy => (Fallback) Hello from agent_3, no chain-of-thought library installed.\n"
          ]
        },
        {
          "output_type": "stream",
          "name": "stderr",
          "text": [
            "INFO:agent_3:agent_3 => buddy => (Fallback) Hello from agent_3, no chain-of-thought library installed.\n",
            "INFO:werkzeug:127.0.0.1 - - [18/May/2025 20:32:36] \"POST /assign-task?agent_id=agent_3 HTTP/1.1\" 200 -\n"
          ]
        },
        {
          "output_type": "stream",
          "name": "stdout",
          "text": [
            "[2025-05-18 20:32:36,159] [INFO] [agent_3] agent_3 => navigate => https://af.wikipedia.org/wiki/Wikipedia:Omtrent\n"
          ]
        },
        {
          "output_type": "stream",
          "name": "stderr",
          "text": [
            "INFO:agent_3:agent_3 => navigate => https://af.wikipedia.org/wiki/Wikipedia:Omtrent\n",
            "WARNING:Main:OpenAI error Error code: 429 - {'error': {'message': 'Rate limit reached for gpt-3.5-turbo in organization org-inb5NKPyOYFJGXIGnZt0PBAa on requests per day (RPD): Limit 10000, Used 10000, Requested 1. Please try again in 8.64s. Visit https://platform.openai.com/account/rate-limits to learn more.', 'type': 'requests', 'param': None, 'code': 'rate_limit_exceeded'}}\n",
            "WARNING:Main:OpenAI error Error code: 429 - {'error': {'message': 'Rate limit reached for gpt-3.5-turbo in organization org-inb5NKPyOYFJGXIGnZt0PBAa on requests per min (RPM): Limit 500, Used 500, Requested 1. Please try again in 120ms. Visit https://platform.openai.com/account/rate-limits to learn more.', 'type': 'requests', 'param': None, 'code': 'rate_limit_exceeded'}}\n",
            "WARNING:Main:OpenAI error Error code: 429 - {'error': {'message': 'Rate limit reached for gpt-3.5-turbo in organization org-inb5NKPyOYFJGXIGnZt0PBAa on requests per min (RPM): Limit 500, Used 500, Requested 1. Please try again in 120ms. Visit https://platform.openai.com/account/rate-limits to learn more.', 'type': 'requests', 'param': None, 'code': 'rate_limit_exceeded'}}\n",
            "WARNING:Main:OpenAI error Error code: 429 - {'error': {'message': 'Rate limit reached for gpt-3.5-turbo in organization org-inb5NKPyOYFJGXIGnZt0PBAa on requests per min (RPM): Limit 500, Used 500, Requested 1. Please try again in 120ms. Visit https://platform.openai.com/account/rate-limits to learn more.', 'type': 'requests', 'param': None, 'code': 'rate_limit_exceeded'}}\n",
            "WARNING:Main:OpenAI error Error code: 429 - {'error': {'message': 'Rate limit reached for gpt-3.5-turbo in organization org-inb5NKPyOYFJGXIGnZt0PBAa on requests per min (RPM): Limit 500, Used 500, Requested 1. Please try again in 120ms. Visit https://platform.openai.com/account/rate-limits to learn more.', 'type': 'requests', 'param': None, 'code': 'rate_limit_exceeded'}}\n",
            "WARNING:Main:OpenAI error Error code: 429 - {'error': {'message': 'Rate limit reached for gpt-3.5-turbo in organization org-inb5NKPyOYFJGXIGnZt0PBAa on requests per day (RPD): Limit 10000, Used 10000, Requested 1. Please try again in 8.64s. Visit https://platform.openai.com/account/rate-limits to learn more.', 'type': 'requests', 'param': None, 'code': 'rate_limit_exceeded'}}\n",
            "WARNING:Main:OpenAI error Error code: 429 - {'error': {'message': 'Rate limit reached for gpt-3.5-turbo in organization org-inb5NKPyOYFJGXIGnZt0PBAa on requests per min (RPM): Limit 500, Used 500, Requested 1. Please try again in 120ms. Visit https://platform.openai.com/account/rate-limits to learn more.', 'type': 'requests', 'param': None, 'code': 'rate_limit_exceeded'}}\n",
            "WARNING:Main:OpenAI error Error code: 429 - {'error': {'message': 'Rate limit reached for gpt-3.5-turbo in organization org-inb5NKPyOYFJGXIGnZt0PBAa on requests per min (RPM): Limit 500, Used 500, Requested 1. Please try again in 120ms. Visit https://platform.openai.com/account/rate-limits to learn more.', 'type': 'requests', 'param': None, 'code': 'rate_limit_exceeded'}}\n",
            "WARNING:Main:OpenAI error Error code: 429 - {'error': {'message': 'Rate limit reached for gpt-3.5-turbo in organization org-inb5NKPyOYFJGXIGnZt0PBAa on requests per min (RPM): Limit 500, Used 500, Requested 1. Please try again in 120ms. Visit https://platform.openai.com/account/rate-limits to learn more.', 'type': 'requests', 'param': None, 'code': 'rate_limit_exceeded'}}\n",
            "WARNING:Main:OpenAI error Error code: 429 - {'error': {'message': 'Rate limit reached for gpt-3.5-turbo in organization org-inb5NKPyOYFJGXIGnZt0PBAa on requests per min (RPM): Limit 500, Used 500, Requested 1. Please try again in 120ms. Visit https://platform.openai.com/account/rate-limits to learn more.', 'type': 'requests', 'param': None, 'code': 'rate_limit_exceeded'}}\n",
            "WARNING:Main:OpenAI error Error code: 429 - {'error': {'message': 'Rate limit reached for gpt-3.5-turbo in organization org-inb5NKPyOYFJGXIGnZt0PBAa on requests per day (RPD): Limit 10000, Used 10000, Requested 1. Please try again in 8.64s. Visit https://platform.openai.com/account/rate-limits to learn more.', 'type': 'requests', 'param': None, 'code': 'rate_limit_exceeded'}}\n",
            "WARNING:Main:OpenAI error Error code: 429 - {'error': {'message': 'Rate limit reached for gpt-3.5-turbo in organization org-inb5NKPyOYFJGXIGnZt0PBAa on requests per day (RPD): Limit 10000, Used 10000, Requested 1. Please try again in 8.64s. Visit https://platform.openai.com/account/rate-limits to learn more.', 'type': 'requests', 'param': None, 'code': 'rate_limit_exceeded'}}\n"
          ]
        },
        {
          "output_type": "stream",
          "name": "stdout",
          "text": [
            "Name: openai-agents\n",
            "Version: 0.0.15\n",
            "Summary: OpenAI Agents SDK\n",
            "Home-page: https://github.com/openai/openai-agents-python\n",
            "Author: \n",
            "Author-email: OpenAI <support@openai.com>\n",
            "License: \n",
            "Location: /usr/local/lib/python3.11/dist-packages\n",
            "Requires: griffe, mcp, openai, pydantic, requests, types-requests, typing-extensions\n",
            "Required-by: \n"
          ]
        }
      ]
    },
    {
      "cell_type": "code",
      "source": [
        "#!/usr/bin/env python3\n",
        "\"\"\"\n",
        "buddy_agent_test.py\n",
        "\n",
        "Minimal script that tests openai-agents (the alpha Agents SDK).\n",
        "Requires:\n",
        "   pip install --upgrade git+https://github.com/openai/openai-agents-python.git\n",
        "\n",
        "This version also gracefully handles exceptions (like 429 rate-limit)\n",
        "by printing a fallback line instead of crashing.\n",
        "\"\"\"\n",
        "\n",
        "import sys\n",
        "\n",
        "try:\n",
        "    from agents import Agent, Runner\n",
        "except ImportError as e:\n",
        "    print(\"[ERROR] Could not import `agents` from openai-agents.\")\n",
        "    print(\"Make sure you've installed it with:\")\n",
        "    print(\"  pip install --upgrade git+https://github.com/openai/openai-agents-python.git\")\n",
        "    sys.exit(1)\n",
        "\n",
        "import nest_asyncio\n",
        "nest_asyncio.apply()\n",
        "import asyncio\n",
        "\n",
        "\n",
        "def test_run_sync():\n",
        "    buddy_agent = Agent(\n",
        "        name=\"buddy_agent_sync\",\n",
        "        instructions=\"You are a buddy agent. Provide short, interesting replies referencing your mood or state.\"\n",
        "    )\n",
        "    # Optionally set a custom or alias model\n",
        "    buddy_agent.model = \"o4-mini\"  # if recognized by your alpha library\n",
        "\n",
        "    # run_sync is a convenience function\n",
        "    try:\n",
        "        result = Runner.run_sync(buddy_agent, \"Hello from user (sync)!\")\n",
        "        print(\"[Sync Test] LLM says:\", result.final_output)\n",
        "    except Exception as exc:\n",
        "        print(\"[Sync Test] Fallback => chain-of-thought request failed:\", exc)\n",
        "\n",
        "\n",
        "async def test_run_async():\n",
        "    buddy_agent = Agent(\n",
        "        name=\"buddy_agent_async\",\n",
        "        instructions=\"You are a buddy agent. Provide short, interesting replies referencing your mood or state.\"\n",
        "    )\n",
        "    buddy_agent.model = \"o4-mini\"\n",
        "\n",
        "    # we can do an await\n",
        "    try:\n",
        "        result = await Runner.run(buddy_agent, \"Hello from user (async)!\")\n",
        "        print(\"[Async Test] LLM says:\", result.final_output)\n",
        "    except Exception as exc:\n",
        "        print(\"[Async Test] Fallback => chain-of-thought request failed:\", exc)\n",
        "\n",
        "\n",
        "if __name__ == \"__main__\":\n",
        "    print(\"[INFO] Testing openai-agents with a minimal buddy agent...\\n\")\n",
        "\n",
        "    test_run_sync()\n",
        "\n",
        "    print(\"\\nNow testing async approach:\\n\")\n",
        "    asyncio.run(test_run_async())\n",
        "\n",
        "    print(\"\\n[INFO] Done with buddy_agent_test.\\n\")\n"
      ],
      "metadata": {
        "colab": {
          "base_uri": "https://localhost:8080/",
          "height": 1000
        },
        "id": "3Ho6AGo2GI4f",
        "outputId": "f0ef2dbf-dbd8-4ac2-e55c-97637c8f152d"
      },
      "execution_count": 40,
      "outputs": [
        {
          "output_type": "stream",
          "name": "stdout",
          "text": [
            "[INFO] Testing openai-agents with a minimal buddy agent...\n",
            "\n",
            "[2025-05-18 20:32:37,462] [INFO] [agent_4] agent_4 => HUMOR -> CREATIVE (chain-of-thought shift)\n"
          ]
        },
        {
          "output_type": "stream",
          "name": "stderr",
          "text": [
            "INFO:agent_4:agent_4 => HUMOR -> CREATIVE (chain-of-thought shift)\n"
          ]
        },
        {
          "output_type": "stream",
          "name": "stdout",
          "text": [
            "[2025-05-18 20:32:37,468] [INFO] [agent_4] agent_4 => synergy RNN => loss=1867.4874\n"
          ]
        },
        {
          "output_type": "stream",
          "name": "stderr",
          "text": [
            "INFO:agent_4:agent_4 => synergy RNN => loss=1867.4874\n",
            "INFO:werkzeug:127.0.0.1 - - [18/May/2025 20:32:37] \"POST /assign-task?agent_id=agent_4 HTTP/1.1\" 200 -\n"
          ]
        },
        {
          "output_type": "stream",
          "name": "stdout",
          "text": [
            "[2025-05-18 20:32:37,475] [INFO] [agent_4] agent_4 => navigate => https://foundation.wikimedia.org/wiki/Special:MyLanguage/Policy:Privacy_policy\n"
          ]
        },
        {
          "output_type": "stream",
          "name": "stderr",
          "text": [
            "INFO:agent_4:agent_4 => navigate => https://foundation.wikimedia.org/wiki/Special:MyLanguage/Policy:Privacy_policy\n",
            "INFO:werkzeug:127.0.0.1 - - [18/May/2025 20:32:37] \"POST /assign-task?agent_id=agent_3 HTTP/1.1\" 200 -\n",
            "INFO:werkzeug:127.0.0.1 - - [18/May/2025 20:32:37] \"POST /assign-task?agent_id=agent_4 HTTP/1.1\" 200 -\n",
            "INFO:werkzeug:127.0.0.1 - - [18/May/2025 20:32:37] \"POST /assign-task?agent_id=agent_2 HTTP/1.1\" 200 -\n",
            "INFO:werkzeug:127.0.0.1 - - [18/May/2025 20:32:37] \"POST /assign-task?agent_id=agent_5 HTTP/1.1\" 200 -\n",
            "INFO:werkzeug:127.0.0.1 - - [18/May/2025 20:32:37] \"POST /assign-task?agent_id=agent_3 HTTP/1.1\" 200 -\n",
            "INFO:werkzeug:127.0.0.1 - - [18/May/2025 20:32:37] \"POST /assign-task?agent_id=agent_4 HTTP/1.1\" 200 -\n",
            "INFO:werkzeug:127.0.0.1 - - [18/May/2025 20:32:37] \"POST /assign-task?agent_id=agent_5 HTTP/1.1\" 200 -\n",
            "INFO:werkzeug:127.0.0.1 - - [18/May/2025 20:32:37] \"POST /assign-task?agent_id=agent_2 HTTP/1.1\" 200 -\n",
            "INFO:werkzeug:127.0.0.1 - - [18/May/2025 20:32:37] \"POST /assign-task?agent_id=agent_1 HTTP/1.1\" 200 -\n",
            "INFO:werkzeug:127.0.0.1 - - [18/May/2025 20:32:37] \"POST /assign-task?agent_id=agent_4 HTTP/1.1\" 200 -\n",
            "INFO:werkzeug:127.0.0.1 - - [18/May/2025 20:32:37] \"POST /assign-task?agent_id=agent_1 HTTP/1.1\" 200 -\n",
            "INFO:werkzeug:127.0.0.1 - - [18/May/2025 20:32:37] \"POST /assign-task?agent_id=agent_3 HTTP/1.1\" 200 -\n"
          ]
        },
        {
          "output_type": "stream",
          "name": "stdout",
          "text": [
            "[2025-05-18 20:32:37,744] [INFO] [agent_2] agent_2 => CURIOUS -> NEUROTIC (chain-of-thought shift)\n"
          ]
        },
        {
          "output_type": "stream",
          "name": "stderr",
          "text": [
            "INFO:agent_2:agent_2 => CURIOUS -> NEUROTIC (chain-of-thought shift)\n"
          ]
        },
        {
          "output_type": "stream",
          "name": "stdout",
          "text": [
            "[2025-05-18 20:32:37,749] [INFO] [agent_2] agent_2 => synergy RNN => loss=917.9829\n"
          ]
        },
        {
          "output_type": "stream",
          "name": "stderr",
          "text": [
            "INFO:agent_2:agent_2 => synergy RNN => loss=917.9829\n"
          ]
        },
        {
          "output_type": "stream",
          "name": "stdout",
          "text": [
            "[2025-05-18 20:32:37,750] [INFO] [agent_2] agent_2 => buddy => (Fallback) Hello from agent_2, no chain-of-thought library installed.\n"
          ]
        },
        {
          "output_type": "stream",
          "name": "stderr",
          "text": [
            "INFO:agent_2:agent_2 => buddy => (Fallback) Hello from agent_2, no chain-of-thought library installed.\n",
            "INFO:werkzeug:127.0.0.1 - - [18/May/2025 20:32:37] \"POST /assign-task?agent_id=agent_2 HTTP/1.1\" 200 -\n"
          ]
        },
        {
          "output_type": "stream",
          "name": "stdout",
          "text": [
            "[2025-05-18 20:32:37,756] [INFO] [agent_2] agent_2 => navigate => https://meta.wikimedia.org/wiki/Special:MyLanguage/Grants:Start/About\n"
          ]
        },
        {
          "output_type": "stream",
          "name": "stderr",
          "text": [
            "INFO:agent_2:agent_2 => navigate => https://meta.wikimedia.org/wiki/Special:MyLanguage/Grants:Start/About\n",
            "INFO:werkzeug:127.0.0.1 - - [18/May/2025 20:32:37] \"POST /assign-task?agent_id=agent_2 HTTP/1.1\" 200 -\n",
            "INFO:werkzeug:127.0.0.1 - - [18/May/2025 20:32:37] \"POST /assign-task?agent_id=agent_1 HTTP/1.1\" 200 -\n",
            "INFO:werkzeug:127.0.0.1 - - [18/May/2025 20:32:37] \"POST /assign-task?agent_id=agent_5 HTTP/1.1\" 200 -\n"
          ]
        },
        {
          "output_type": "stream",
          "name": "stdout",
          "text": [
            "[2025-05-18 20:32:37,857] [INFO] [agent_1] agent_1 => CREATIVE -> HUMOR (chain-of-thought shift)\n"
          ]
        },
        {
          "output_type": "stream",
          "name": "stderr",
          "text": [
            "INFO:agent_1:agent_1 => CREATIVE -> HUMOR (chain-of-thought shift)\n"
          ]
        },
        {
          "output_type": "stream",
          "name": "stdout",
          "text": [
            "[2025-05-18 20:32:37,863] [INFO] [agent_1] agent_1 => synergy RNN => loss=3616.3459\n"
          ]
        },
        {
          "output_type": "stream",
          "name": "stderr",
          "text": [
            "INFO:agent_1:agent_1 => synergy RNN => loss=3616.3459\n"
          ]
        },
        {
          "output_type": "stream",
          "name": "stdout",
          "text": [
            "[2025-05-18 20:32:37,864] [INFO] [agent_1] agent_1 => buddy => (Fallback) Hello from agent_1, no chain-of-thought library installed.\n"
          ]
        },
        {
          "output_type": "stream",
          "name": "stderr",
          "text": [
            "INFO:agent_1:agent_1 => buddy => (Fallback) Hello from agent_1, no chain-of-thought library installed.\n",
            "INFO:werkzeug:127.0.0.1 - - [18/May/2025 20:32:37] \"POST /assign-task?agent_id=agent_1 HTTP/1.1\" 200 -\n"
          ]
        },
        {
          "output_type": "stream",
          "name": "stdout",
          "text": [
            "[2025-05-18 20:32:37,870] [INFO] [agent_1] agent_1 => navigate => https://info.arxiv.org/help\n"
          ]
        },
        {
          "output_type": "stream",
          "name": "stderr",
          "text": [
            "INFO:agent_1:agent_1 => navigate => https://info.arxiv.org/help\n"
          ]
        },
        {
          "output_type": "stream",
          "name": "stdout",
          "text": [
            "[2025-05-18 20:32:38,146] [INFO] [agent_5] agent_5 => FRUSTRATED -> TASK_ORIENTED (chain-of-thought shift)\n"
          ]
        },
        {
          "output_type": "stream",
          "name": "stderr",
          "text": [
            "INFO:agent_5:agent_5 => FRUSTRATED -> TASK_ORIENTED (chain-of-thought shift)\n"
          ]
        },
        {
          "output_type": "stream",
          "name": "stdout",
          "text": [
            "[2025-05-18 20:32:38,152] [INFO] [agent_5] agent_5 => synergy RNN => loss=2246.8228\n"
          ]
        },
        {
          "output_type": "stream",
          "name": "stderr",
          "text": [
            "INFO:agent_5:agent_5 => synergy RNN => loss=2246.8228\n"
          ]
        },
        {
          "output_type": "stream",
          "name": "stdout",
          "text": [
            "[2025-05-18 20:32:38,153] [INFO] [agent_5] agent_5 => buddy => (Fallback) Hello from agent_5, no chain-of-thought library installed.\n"
          ]
        },
        {
          "output_type": "stream",
          "name": "stderr",
          "text": [
            "INFO:agent_5:agent_5 => buddy => (Fallback) Hello from agent_5, no chain-of-thought library installed.\n",
            "INFO:werkzeug:127.0.0.1 - - [18/May/2025 20:32:38] \"POST /assign-task?agent_id=agent_5 HTTP/1.1\" 200 -\n"
          ]
        },
        {
          "output_type": "stream",
          "name": "stdout",
          "text": [
            "[2025-05-18 20:32:38,159] [INFO] [agent_5] agent_5 => navigate => https://github.com\n"
          ]
        },
        {
          "output_type": "stream",
          "name": "stderr",
          "text": [
            "INFO:agent_5:agent_5 => navigate => https://github.com\n",
            "WARNING:Main:OpenAI error Error code: 429 - {'error': {'message': 'Rate limit reached for gpt-3.5-turbo in organization org-inb5NKPyOYFJGXIGnZt0PBAa on requests per day (RPD): Limit 10000, Used 10000, Requested 1. Please try again in 8.64s. Visit https://platform.openai.com/account/rate-limits to learn more.', 'type': 'requests', 'param': None, 'code': 'rate_limit_exceeded'}}\n"
          ]
        },
        {
          "output_type": "stream",
          "name": "stdout",
          "text": [
            "[2025-05-18 20:32:38,265] [INFO] [agent_3] agent_3 => NEUROTIC -> TASK_ORIENTED (chain-of-thought shift)\n"
          ]
        },
        {
          "output_type": "stream",
          "name": "stderr",
          "text": [
            "INFO:agent_3:agent_3 => NEUROTIC -> TASK_ORIENTED (chain-of-thought shift)\n"
          ]
        },
        {
          "output_type": "stream",
          "name": "stdout",
          "text": [
            "[2025-05-18 20:32:38,321] [INFO] [agent_3] agent_3 => synergy RNN => loss=7023.1309\n"
          ]
        },
        {
          "output_type": "stream",
          "name": "stderr",
          "text": [
            "INFO:agent_3:agent_3 => synergy RNN => loss=7023.1309\n"
          ]
        },
        {
          "output_type": "stream",
          "name": "stdout",
          "text": [
            "[2025-05-18 20:32:38,322] [INFO] [agent_3] agent_3 => buddy => (Fallback) Hello from agent_3, no chain-of-thought library installed.\n"
          ]
        },
        {
          "output_type": "stream",
          "name": "stderr",
          "text": [
            "INFO:agent_3:agent_3 => buddy => (Fallback) Hello from agent_3, no chain-of-thought library installed.\n",
            "INFO:werkzeug:127.0.0.1 - - [18/May/2025 20:32:38] \"POST /assign-task?agent_id=agent_3 HTTP/1.1\" 200 -\n"
          ]
        },
        {
          "output_type": "stream",
          "name": "stdout",
          "text": [
            "[2025-05-18 20:32:38,328] [INFO] [agent_3] agent_3 => navigate => https://it.wikipedia.org/wiki/Wikipedia:Sala_stampa/Wikipedia\n"
          ]
        },
        {
          "output_type": "stream",
          "name": "stderr",
          "text": [
            "INFO:agent_3:agent_3 => navigate => https://it.wikipedia.org/wiki/Wikipedia:Sala_stampa/Wikipedia\n",
            "WARNING:Main:OpenAI error Error code: 429 - {'error': {'message': 'Rate limit reached for gpt-3.5-turbo in organization org-inb5NKPyOYFJGXIGnZt0PBAa on requests per day (RPD): Limit 10000, Used 10000, Requested 1. Please try again in 8.64s. Visit https://platform.openai.com/account/rate-limits to learn more.', 'type': 'requests', 'param': None, 'code': 'rate_limit_exceeded'}}\n",
            "WARNING:Main:OpenAI error Error code: 429 - {'error': {'message': 'Rate limit reached for gpt-3.5-turbo in organization org-inb5NKPyOYFJGXIGnZt0PBAa on requests per min (RPM): Limit 500, Used 500, Requested 1. Please try again in 120ms. Visit https://platform.openai.com/account/rate-limits to learn more.', 'type': 'requests', 'param': None, 'code': 'rate_limit_exceeded'}}\n",
            "WARNING:Main:OpenAI error Error code: 429 - {'error': {'message': 'Rate limit reached for gpt-3.5-turbo in organization org-inb5NKPyOYFJGXIGnZt0PBAa on requests per min (RPM): Limit 500, Used 500, Requested 1. Please try again in 120ms. Visit https://platform.openai.com/account/rate-limits to learn more.', 'type': 'requests', 'param': None, 'code': 'rate_limit_exceeded'}}\n",
            "WARNING:Main:OpenAI error Error code: 429 - {'error': {'message': 'Rate limit reached for gpt-3.5-turbo in organization org-inb5NKPyOYFJGXIGnZt0PBAa on requests per day (RPD): Limit 10000, Used 10000, Requested 1. Please try again in 8.64s. Visit https://platform.openai.com/account/rate-limits to learn more.', 'type': 'requests', 'param': None, 'code': 'rate_limit_exceeded'}}\n",
            "WARNING:Main:OpenAI error Error code: 429 - {'error': {'message': 'Rate limit reached for gpt-3.5-turbo in organization org-inb5NKPyOYFJGXIGnZt0PBAa on requests per day (RPD): Limit 10000, Used 10000, Requested 1. Please try again in 8.64s. Visit https://platform.openai.com/account/rate-limits to learn more.', 'type': 'requests', 'param': None, 'code': 'rate_limit_exceeded'}}\n",
            "WARNING:Main:OpenAI error Error code: 429 - {'error': {'message': 'Rate limit reached for gpt-3.5-turbo in organization org-inb5NKPyOYFJGXIGnZt0PBAa on requests per day (RPD): Limit 10000, Used 10000, Requested 1. Please try again in 8.64s. Visit https://platform.openai.com/account/rate-limits to learn more.', 'type': 'requests', 'param': None, 'code': 'rate_limit_exceeded'}}\n",
            "WARNING:Main:OpenAI error Error code: 429 - {'error': {'message': 'Rate limit reached for gpt-3.5-turbo in organization org-inb5NKPyOYFJGXIGnZt0PBAa on requests per day (RPD): Limit 10000, Used 10000, Requested 1. Please try again in 8.64s. Visit https://platform.openai.com/account/rate-limits to learn more.', 'type': 'requests', 'param': None, 'code': 'rate_limit_exceeded'}}\n",
            "WARNING:Main:OpenAI error Error code: 429 - {'error': {'message': 'Rate limit reached for gpt-3.5-turbo in organization org-inb5NKPyOYFJGXIGnZt0PBAa on requests per min (RPM): Limit 500, Used 500, Requested 1. Please try again in 120ms. Visit https://platform.openai.com/account/rate-limits to learn more.', 'type': 'requests', 'param': None, 'code': 'rate_limit_exceeded'}}\n",
            "INFO:werkzeug:127.0.0.1 - - [18/May/2025 20:32:39] \"POST /assign-task?agent_id=agent_3 HTTP/1.1\" 200 -\n",
            "INFO:werkzeug:127.0.0.1 - - [18/May/2025 20:32:39] \"POST /assign-task?agent_id=agent_4 HTTP/1.1\" 200 -\n",
            "INFO:werkzeug:127.0.0.1 - - [18/May/2025 20:32:39] \"POST /assign-task?agent_id=agent_2 HTTP/1.1\" 200 -\n",
            "INFO:werkzeug:127.0.0.1 - - [18/May/2025 20:32:39] \"POST /assign-task?agent_id=agent_5 HTTP/1.1\" 200 -\n",
            "INFO:werkzeug:127.0.0.1 - - [18/May/2025 20:32:39] \"POST /assign-task?agent_id=agent_3 HTTP/1.1\" 200 -\n",
            "INFO:werkzeug:127.0.0.1 - - [18/May/2025 20:32:39] \"POST /assign-task?agent_id=agent_5 HTTP/1.1\" 200 -\n",
            "INFO:werkzeug:127.0.0.1 - - [18/May/2025 20:32:39] \"POST /assign-task?agent_id=agent_1 HTTP/1.1\" 200 -\n",
            "INFO:werkzeug:127.0.0.1 - - [18/May/2025 20:32:39] \"POST /assign-task?agent_id=agent_2 HTTP/1.1\" 200 -\n",
            "INFO:werkzeug:127.0.0.1 - - [18/May/2025 20:32:39] \"POST /assign-task?agent_id=agent_4 HTTP/1.1\" 200 -\n",
            "INFO:werkzeug:127.0.0.1 - - [18/May/2025 20:32:39] \"POST /assign-task?agent_id=agent_4 HTTP/1.1\" 200 -\n",
            "INFO:werkzeug:127.0.0.1 - - [18/May/2025 20:32:39] \"POST /assign-task?agent_id=agent_1 HTTP/1.1\" 200 -\n",
            "INFO:werkzeug:127.0.0.1 - - [18/May/2025 20:32:39] \"POST /assign-task?agent_id=agent_3 HTTP/1.1\" 200 -\n",
            "INFO:werkzeug:127.0.0.1 - - [18/May/2025 20:32:39] \"POST /assign-task?agent_id=agent_2 HTTP/1.1\" 200 -\n",
            "INFO:werkzeug:127.0.0.1 - - [18/May/2025 20:32:39] \"POST /assign-task?agent_id=agent_1 HTTP/1.1\" 200 -\n",
            "INFO:werkzeug:127.0.0.1 - - [18/May/2025 20:32:39] \"POST /assign-task?agent_id=agent_5 HTTP/1.1\" 200 -\n"
          ]
        },
        {
          "output_type": "stream",
          "name": "stdout",
          "text": [
            "[2025-05-18 20:32:40,086] [INFO] [agent_4] agent_4 => CREATIVE -> NEUROTIC (chain-of-thought shift)\n"
          ]
        },
        {
          "output_type": "stream",
          "name": "stderr",
          "text": [
            "INFO:agent_4:agent_4 => CREATIVE -> NEUROTIC (chain-of-thought shift)\n"
          ]
        },
        {
          "output_type": "stream",
          "name": "stdout",
          "text": [
            "[2025-05-18 20:32:40,093] [INFO] [agent_4] agent_4 => synergy RNN => loss=14630.8438\n"
          ]
        },
        {
          "output_type": "stream",
          "name": "stderr",
          "text": [
            "INFO:agent_4:agent_4 => synergy RNN => loss=14630.8438\n"
          ]
        },
        {
          "output_type": "stream",
          "name": "stdout",
          "text": [
            "[2025-05-18 20:32:40,094] [INFO] [agent_4] agent_4 => buddy => (Fallback) Hello from agent_4, no chain-of-thought library installed.\n"
          ]
        },
        {
          "output_type": "stream",
          "name": "stderr",
          "text": [
            "INFO:agent_4:agent_4 => buddy => (Fallback) Hello from agent_4, no chain-of-thought library installed.\n",
            "INFO:werkzeug:127.0.0.1 - - [18/May/2025 20:32:40] \"POST /assign-task?agent_id=agent_4 HTTP/1.1\" 200 -\n"
          ]
        },
        {
          "output_type": "stream",
          "name": "stdout",
          "text": [
            "[2025-05-18 20:32:40,102] [INFO] [agent_4] agent_4 => navigate => https://developer.wikimedia.org\n"
          ]
        },
        {
          "output_type": "stream",
          "name": "stderr",
          "text": [
            "INFO:agent_4:agent_4 => navigate => https://developer.wikimedia.org\n"
          ]
        },
        {
          "output_type": "stream",
          "name": "stdout",
          "text": [
            "[2025-05-18 20:32:40,136] [INFO] [agent_1] agent_1 => HUMOR -> TASK_ORIENTED (chain-of-thought shift)\n"
          ]
        },
        {
          "output_type": "stream",
          "name": "stderr",
          "text": [
            "INFO:agent_1:agent_1 => HUMOR -> TASK_ORIENTED (chain-of-thought shift)\n"
          ]
        },
        {
          "output_type": "stream",
          "name": "stdout",
          "text": [
            "[2025-05-18 20:32:40,141] [INFO] [agent_1] agent_1 => synergy RNN => loss=21339.8164\n"
          ]
        },
        {
          "output_type": "stream",
          "name": "stderr",
          "text": [
            "INFO:agent_1:agent_1 => synergy RNN => loss=21339.8164\n"
          ]
        },
        {
          "output_type": "stream",
          "name": "stdout",
          "text": [
            "[2025-05-18 20:32:40,142] [INFO] [agent_1] agent_1 => buddy => (Fallback) Hello from agent_1, no chain-of-thought library installed.\n"
          ]
        },
        {
          "output_type": "stream",
          "name": "stderr",
          "text": [
            "INFO:agent_1:agent_1 => buddy => (Fallback) Hello from agent_1, no chain-of-thought library installed.\n",
            "INFO:werkzeug:127.0.0.1 - - [18/May/2025 20:32:40] \"POST /assign-task?agent_id=agent_1 HTTP/1.1\" 200 -\n"
          ]
        },
        {
          "output_type": "stream",
          "name": "stdout",
          "text": [
            "[2025-05-18 20:32:40,149] [INFO] [agent_1] agent_1 => navigate => https://blog.arxiv.org/\n"
          ]
        },
        {
          "output_type": "stream",
          "name": "stderr",
          "text": [
            "INFO:agent_1:agent_1 => navigate => https://blog.arxiv.org/\n"
          ]
        },
        {
          "output_type": "stream",
          "name": "stdout",
          "text": [
            "[2025-05-18 20:32:40,206] [INFO] [agent_2] agent_2 => NEUROTIC -> TASK_ORIENTED (chain-of-thought shift)\n"
          ]
        },
        {
          "output_type": "stream",
          "name": "stderr",
          "text": [
            "INFO:agent_2:agent_2 => NEUROTIC -> TASK_ORIENTED (chain-of-thought shift)\n"
          ]
        },
        {
          "output_type": "stream",
          "name": "stdout",
          "text": [
            "[2025-05-18 20:32:40,211] [INFO] [agent_2] agent_2 => synergy RNN => loss=21396.9043\n"
          ]
        },
        {
          "output_type": "stream",
          "name": "stderr",
          "text": [
            "INFO:agent_2:agent_2 => synergy RNN => loss=21396.9043\n",
            "INFO:werkzeug:127.0.0.1 - - [18/May/2025 20:32:40] \"POST /assign-task?agent_id=agent_2 HTTP/1.1\" 200 -\n"
          ]
        },
        {
          "output_type": "stream",
          "name": "stdout",
          "text": [
            "[2025-05-18 20:32:40,217] [INFO] [agent_2] agent_2 => navigate => https://sw.wikipedia.org/wiki/Wikipedia:Msaada_wa_kuanzisha_makala\n"
          ]
        },
        {
          "output_type": "stream",
          "name": "stderr",
          "text": [
            "INFO:agent_2:agent_2 => navigate => https://sw.wikipedia.org/wiki/Wikipedia:Msaada_wa_kuanzisha_makala\n",
            "WARNING:Main:OpenAI error Error code: 429 - {'error': {'message': 'Rate limit reached for gpt-3.5-turbo in organization org-inb5NKPyOYFJGXIGnZt0PBAa on requests per day (RPD): Limit 10000, Used 10000, Requested 1. Please try again in 8.64s. Visit https://platform.openai.com/account/rate-limits to learn more.', 'type': 'requests', 'param': None, 'code': 'rate_limit_exceeded'}}\n"
          ]
        },
        {
          "output_type": "stream",
          "name": "stdout",
          "text": [
            "[2025-05-18 20:32:40,332] [INFO] [agent_5] agent_5 => synergy RNN => loss=16792.7598\n"
          ]
        },
        {
          "output_type": "stream",
          "name": "stderr",
          "text": [
            "INFO:agent_5:agent_5 => synergy RNN => loss=16792.7598\n"
          ]
        },
        {
          "output_type": "stream",
          "name": "stdout",
          "text": [
            "[2025-05-18 20:32:40,333] [INFO] [agent_5] agent_5 => buddy => (Fallback) Hello from agent_5, no chain-of-thought library installed.\n"
          ]
        },
        {
          "output_type": "stream",
          "name": "stderr",
          "text": [
            "INFO:agent_5:agent_5 => buddy => (Fallback) Hello from agent_5, no chain-of-thought library installed.\n",
            "INFO:werkzeug:127.0.0.1 - - [18/May/2025 20:32:40] \"POST /assign-task?agent_id=agent_5 HTTP/1.1\" 200 -\n"
          ]
        },
        {
          "output_type": "stream",
          "name": "stdout",
          "text": [
            "[2025-05-18 20:32:40,340] [INFO] [agent_5] agent_5 => navigate => https://www.sorryapp.com\n"
          ]
        },
        {
          "output_type": "stream",
          "name": "stderr",
          "text": [
            "INFO:agent_5:agent_5 => navigate => https://www.sorryapp.com\n"
          ]
        },
        {
          "output_type": "stream",
          "name": "stdout",
          "text": [
            "[2025-05-18 20:32:40,412] [INFO] [agent_3] agent_3 => TASK_ORIENTED -> HUMOR (chain-of-thought shift)\n"
          ]
        },
        {
          "output_type": "stream",
          "name": "stderr",
          "text": [
            "INFO:agent_3:agent_3 => TASK_ORIENTED -> HUMOR (chain-of-thought shift)\n"
          ]
        },
        {
          "output_type": "stream",
          "name": "stdout",
          "text": [
            "[2025-05-18 20:32:40,439] [INFO] [agent_3] agent_3 => synergy RNN => loss=461.6936\n"
          ]
        },
        {
          "output_type": "stream",
          "name": "stderr",
          "text": [
            "INFO:agent_3:agent_3 => synergy RNN => loss=461.6936\n",
            "INFO:werkzeug:127.0.0.1 - - [18/May/2025 20:32:40] \"POST /assign-task?agent_id=agent_3 HTTP/1.1\" 200 -\n",
            "WARNING:Main:OpenAI error Error code: 429 - {'error': {'message': 'Rate limit reached for gpt-3.5-turbo in organization org-inb5NKPyOYFJGXIGnZt0PBAa on requests per day (RPD): Limit 10000, Used 10000, Requested 1. Please try again in 8.64s. Visit https://platform.openai.com/account/rate-limits to learn more.', 'type': 'requests', 'param': None, 'code': 'rate_limit_exceeded'}}\n"
          ]
        },
        {
          "output_type": "stream",
          "name": "stdout",
          "text": [
            "[2025-05-18 20:32:40,448] [INFO] [agent_3] agent_3 => navigate => https://pt.wikipedia.org/wiki/Wikip%C3%A9dia:Sobre_a_Wikip%C3%A9dia\n"
          ]
        },
        {
          "output_type": "stream",
          "name": "stderr",
          "text": [
            "WARNING:Main:OpenAI error Error code: 429 - {'error': {'message': 'Rate limit reached for gpt-3.5-turbo in organization org-inb5NKPyOYFJGXIGnZt0PBAa on requests per min (RPM): Limit 500, Used 500, Requested 1. Please try again in 120ms. Visit https://platform.openai.com/account/rate-limits to learn more.', 'type': 'requests', 'param': None, 'code': 'rate_limit_exceeded'}}\n",
            "INFO:agent_3:agent_3 => navigate => https://pt.wikipedia.org/wiki/Wikip%C3%A9dia:Sobre_a_Wikip%C3%A9dia\n",
            "WARNING:Main:OpenAI error Error code: 429 - {'error': {'message': 'Rate limit reached for gpt-3.5-turbo in organization org-inb5NKPyOYFJGXIGnZt0PBAa on requests per min (RPM): Limit 500, Used 500, Requested 1. Please try again in 120ms. Visit https://platform.openai.com/account/rate-limits to learn more.', 'type': 'requests', 'param': None, 'code': 'rate_limit_exceeded'}}\n",
            "WARNING:Main:OpenAI error Error code: 429 - {'error': {'message': 'Rate limit reached for gpt-3.5-turbo in organization org-inb5NKPyOYFJGXIGnZt0PBAa on requests per day (RPD): Limit 10000, Used 10000, Requested 1. Please try again in 8.64s. Visit https://platform.openai.com/account/rate-limits to learn more.', 'type': 'requests', 'param': None, 'code': 'rate_limit_exceeded'}}\n",
            "WARNING:Main:OpenAI error Error code: 429 - {'error': {'message': 'Rate limit reached for gpt-3.5-turbo in organization org-inb5NKPyOYFJGXIGnZt0PBAa on requests per day (RPD): Limit 10000, Used 10000, Requested 1. Please try again in 8.64s. Visit https://platform.openai.com/account/rate-limits to learn more.', 'type': 'requests', 'param': None, 'code': 'rate_limit_exceeded'}}\n",
            "WARNING:Main:OpenAI error Error code: 429 - {'error': {'message': 'Rate limit reached for gpt-3.5-turbo in organization org-inb5NKPyOYFJGXIGnZt0PBAa on requests per min (RPM): Limit 500, Used 500, Requested 1. Please try again in 120ms. Visit https://platform.openai.com/account/rate-limits to learn more.', 'type': 'requests', 'param': None, 'code': 'rate_limit_exceeded'}}\n",
            "WARNING:Main:OpenAI error Error code: 429 - {'error': {'message': 'Rate limit reached for gpt-3.5-turbo in organization org-inb5NKPyOYFJGXIGnZt0PBAa on requests per day (RPD): Limit 10000, Used 10000, Requested 1. Please try again in 8.64s. Visit https://platform.openai.com/account/rate-limits to learn more.', 'type': 'requests', 'param': None, 'code': 'rate_limit_exceeded'}}\n",
            "WARNING:Main:OpenAI error Error code: 429 - {'error': {'message': 'Rate limit reached for gpt-3.5-turbo in organization org-inb5NKPyOYFJGXIGnZt0PBAa on requests per min (RPM): Limit 500, Used 500, Requested 1. Please try again in 120ms. Visit https://platform.openai.com/account/rate-limits to learn more.', 'type': 'requests', 'param': None, 'code': 'rate_limit_exceeded'}}\n",
            "WARNING:Main:OpenAI error Error code: 429 - {'error': {'message': 'Rate limit reached for gpt-3.5-turbo in organization org-inb5NKPyOYFJGXIGnZt0PBAa on requests per day (RPD): Limit 10000, Used 10000, Requested 1. Please try again in 8.64s. Visit https://platform.openai.com/account/rate-limits to learn more.', 'type': 'requests', 'param': None, 'code': 'rate_limit_exceeded'}}\n",
            "INFO:werkzeug:127.0.0.1 - - [18/May/2025 20:32:41] \"POST /assign-task?agent_id=agent_3 HTTP/1.1\" 200 -\n",
            "INFO:werkzeug:127.0.0.1 - - [18/May/2025 20:32:41] \"POST /assign-task?agent_id=agent_4 HTTP/1.1\" 200 -\n",
            "INFO:werkzeug:127.0.0.1 - - [18/May/2025 20:32:41] \"POST /assign-task?agent_id=agent_2 HTTP/1.1\" 200 -\n",
            "INFO:werkzeug:127.0.0.1 - - [18/May/2025 20:32:41] \"POST /assign-task?agent_id=agent_5 HTTP/1.1\" 200 -\n",
            "INFO:werkzeug:127.0.0.1 - - [18/May/2025 20:32:41] \"POST /assign-task?agent_id=agent_3 HTTP/1.1\" 200 -\n"
          ]
        },
        {
          "output_type": "stream",
          "name": "stdout",
          "text": [
            "[Sync Test] LLM says: Hey there! I’m feeling chipper and curious—how’s your day going?\n",
            "\n",
            "Now testing async approach:\n",
            "\n"
          ]
        },
        {
          "output_type": "stream",
          "name": "stderr",
          "text": [
            "INFO:werkzeug:127.0.0.1 - - [18/May/2025 20:32:41] \"POST /assign-task?agent_id=agent_5 HTTP/1.1\" 200 -\n",
            "INFO:werkzeug:127.0.0.1 - - [18/May/2025 20:32:41] \"POST /assign-task?agent_id=agent_1 HTTP/1.1\" 200 -\n",
            "INFO:werkzeug:127.0.0.1 - - [18/May/2025 20:32:41] \"POST /assign-task?agent_id=agent_2 HTTP/1.1\" 200 -\n",
            "INFO:werkzeug:127.0.0.1 - - [18/May/2025 20:32:41] \"POST /assign-task?agent_id=agent_4 HTTP/1.1\" 200 -\n",
            "INFO:werkzeug:127.0.0.1 - - [18/May/2025 20:32:41] \"POST /assign-task?agent_id=agent_4 HTTP/1.1\" 200 -\n",
            "INFO:werkzeug:127.0.0.1 - - [18/May/2025 20:32:41] \"POST /assign-task?agent_id=agent_1 HTTP/1.1\" 200 -\n",
            "INFO:werkzeug:127.0.0.1 - - [18/May/2025 20:32:41] \"POST /assign-task?agent_id=agent_3 HTTP/1.1\" 200 -\n",
            "INFO:werkzeug:127.0.0.1 - - [18/May/2025 20:32:41] \"POST /assign-task?agent_id=agent_2 HTTP/1.1\" 200 -\n",
            "INFO:werkzeug:127.0.0.1 - - [18/May/2025 20:32:41] \"POST /assign-task?agent_id=agent_1 HTTP/1.1\" 200 -\n",
            "INFO:werkzeug:127.0.0.1 - - [18/May/2025 20:32:41] \"POST /assign-task?agent_id=agent_5 HTTP/1.1\" 200 -\n"
          ]
        },
        {
          "output_type": "error",
          "ename": "KeyboardInterrupt",
          "evalue": "",
          "traceback": [
            "\u001b[0;31m---------------------------------------------------------------------------\u001b[0m",
            "\u001b[0;31mKeyboardInterrupt\u001b[0m                         Traceback (most recent call last)",
            "\u001b[0;32m<ipython-input-40-3923f5cd3e88>\u001b[0m in \u001b[0;36m<cell line: 0>\u001b[0;34m()\u001b[0m\n\u001b[1;32m     63\u001b[0m \u001b[0;34m\u001b[0m\u001b[0m\n\u001b[1;32m     64\u001b[0m     \u001b[0mprint\u001b[0m\u001b[0;34m(\u001b[0m\u001b[0;34m\"\\nNow testing async approach:\\n\"\u001b[0m\u001b[0;34m)\u001b[0m\u001b[0;34m\u001b[0m\u001b[0;34m\u001b[0m\u001b[0m\n\u001b[0;32m---> 65\u001b[0;31m     \u001b[0masyncio\u001b[0m\u001b[0;34m.\u001b[0m\u001b[0mrun\u001b[0m\u001b[0;34m(\u001b[0m\u001b[0mtest_run_async\u001b[0m\u001b[0;34m(\u001b[0m\u001b[0;34m)\u001b[0m\u001b[0;34m)\u001b[0m\u001b[0;34m\u001b[0m\u001b[0;34m\u001b[0m\u001b[0m\n\u001b[0m\u001b[1;32m     66\u001b[0m \u001b[0;34m\u001b[0m\u001b[0m\n\u001b[1;32m     67\u001b[0m     \u001b[0mprint\u001b[0m\u001b[0;34m(\u001b[0m\u001b[0;34m\"\\n[INFO] Done with buddy_agent_test.\\n\"\u001b[0m\u001b[0;34m)\u001b[0m\u001b[0;34m\u001b[0m\u001b[0;34m\u001b[0m\u001b[0m\n",
            "\u001b[0;32m/usr/local/lib/python3.11/dist-packages/nest_asyncio.py\u001b[0m in \u001b[0;36mrun\u001b[0;34m(main, debug)\u001b[0m\n\u001b[1;32m     28\u001b[0m         \u001b[0mtask\u001b[0m \u001b[0;34m=\u001b[0m \u001b[0masyncio\u001b[0m\u001b[0;34m.\u001b[0m\u001b[0mensure_future\u001b[0m\u001b[0;34m(\u001b[0m\u001b[0mmain\u001b[0m\u001b[0;34m)\u001b[0m\u001b[0;34m\u001b[0m\u001b[0;34m\u001b[0m\u001b[0m\n\u001b[1;32m     29\u001b[0m         \u001b[0;32mtry\u001b[0m\u001b[0;34m:\u001b[0m\u001b[0;34m\u001b[0m\u001b[0;34m\u001b[0m\u001b[0m\n\u001b[0;32m---> 30\u001b[0;31m             \u001b[0;32mreturn\u001b[0m \u001b[0mloop\u001b[0m\u001b[0;34m.\u001b[0m\u001b[0mrun_until_complete\u001b[0m\u001b[0;34m(\u001b[0m\u001b[0mtask\u001b[0m\u001b[0;34m)\u001b[0m\u001b[0;34m\u001b[0m\u001b[0;34m\u001b[0m\u001b[0m\n\u001b[0m\u001b[1;32m     31\u001b[0m         \u001b[0;32mfinally\u001b[0m\u001b[0;34m:\u001b[0m\u001b[0;34m\u001b[0m\u001b[0;34m\u001b[0m\u001b[0m\n\u001b[1;32m     32\u001b[0m             \u001b[0;32mif\u001b[0m \u001b[0;32mnot\u001b[0m \u001b[0mtask\u001b[0m\u001b[0;34m.\u001b[0m\u001b[0mdone\u001b[0m\u001b[0;34m(\u001b[0m\u001b[0;34m)\u001b[0m\u001b[0;34m:\u001b[0m\u001b[0;34m\u001b[0m\u001b[0;34m\u001b[0m\u001b[0m\n",
            "\u001b[0;32m/usr/local/lib/python3.11/dist-packages/nest_asyncio.py\u001b[0m in \u001b[0;36mrun_until_complete\u001b[0;34m(self, future)\u001b[0m\n\u001b[1;32m     90\u001b[0m                 \u001b[0mf\u001b[0m\u001b[0;34m.\u001b[0m\u001b[0m_log_destroy_pending\u001b[0m \u001b[0;34m=\u001b[0m \u001b[0;32mFalse\u001b[0m\u001b[0;34m\u001b[0m\u001b[0;34m\u001b[0m\u001b[0m\n\u001b[1;32m     91\u001b[0m             \u001b[0;32mwhile\u001b[0m \u001b[0;32mnot\u001b[0m \u001b[0mf\u001b[0m\u001b[0;34m.\u001b[0m\u001b[0mdone\u001b[0m\u001b[0;34m(\u001b[0m\u001b[0;34m)\u001b[0m\u001b[0;34m:\u001b[0m\u001b[0;34m\u001b[0m\u001b[0;34m\u001b[0m\u001b[0m\n\u001b[0;32m---> 92\u001b[0;31m                 \u001b[0mself\u001b[0m\u001b[0;34m.\u001b[0m\u001b[0m_run_once\u001b[0m\u001b[0;34m(\u001b[0m\u001b[0;34m)\u001b[0m\u001b[0;34m\u001b[0m\u001b[0;34m\u001b[0m\u001b[0m\n\u001b[0m\u001b[1;32m     93\u001b[0m                 \u001b[0;32mif\u001b[0m \u001b[0mself\u001b[0m\u001b[0;34m.\u001b[0m\u001b[0m_stopping\u001b[0m\u001b[0;34m:\u001b[0m\u001b[0;34m\u001b[0m\u001b[0;34m\u001b[0m\u001b[0m\n\u001b[1;32m     94\u001b[0m                     \u001b[0;32mbreak\u001b[0m\u001b[0;34m\u001b[0m\u001b[0;34m\u001b[0m\u001b[0m\n",
            "\u001b[0;32m/usr/local/lib/python3.11/dist-packages/nest_asyncio.py\u001b[0m in \u001b[0;36m_run_once\u001b[0;34m(self)\u001b[0m\n\u001b[1;32m    113\u001b[0m                 scheduled[0]._when - self.time(), 0), 86400) if scheduled\n\u001b[1;32m    114\u001b[0m             else None)\n\u001b[0;32m--> 115\u001b[0;31m         \u001b[0mevent_list\u001b[0m \u001b[0;34m=\u001b[0m \u001b[0mself\u001b[0m\u001b[0;34m.\u001b[0m\u001b[0m_selector\u001b[0m\u001b[0;34m.\u001b[0m\u001b[0mselect\u001b[0m\u001b[0;34m(\u001b[0m\u001b[0mtimeout\u001b[0m\u001b[0;34m)\u001b[0m\u001b[0;34m\u001b[0m\u001b[0;34m\u001b[0m\u001b[0m\n\u001b[0m\u001b[1;32m    116\u001b[0m         \u001b[0mself\u001b[0m\u001b[0;34m.\u001b[0m\u001b[0m_process_events\u001b[0m\u001b[0;34m(\u001b[0m\u001b[0mevent_list\u001b[0m\u001b[0;34m)\u001b[0m\u001b[0;34m\u001b[0m\u001b[0;34m\u001b[0m\u001b[0m\n\u001b[1;32m    117\u001b[0m \u001b[0;34m\u001b[0m\u001b[0m\n",
            "\u001b[0;32m/usr/lib/python3.11/selectors.py\u001b[0m in \u001b[0;36mselect\u001b[0;34m(self, timeout)\u001b[0m\n\u001b[1;32m    466\u001b[0m             \u001b[0mready\u001b[0m \u001b[0;34m=\u001b[0m \u001b[0;34m[\u001b[0m\u001b[0;34m]\u001b[0m\u001b[0;34m\u001b[0m\u001b[0;34m\u001b[0m\u001b[0m\n\u001b[1;32m    467\u001b[0m             \u001b[0;32mtry\u001b[0m\u001b[0;34m:\u001b[0m\u001b[0;34m\u001b[0m\u001b[0;34m\u001b[0m\u001b[0m\n\u001b[0;32m--> 468\u001b[0;31m                 \u001b[0mfd_event_list\u001b[0m \u001b[0;34m=\u001b[0m \u001b[0mself\u001b[0m\u001b[0;34m.\u001b[0m\u001b[0m_selector\u001b[0m\u001b[0;34m.\u001b[0m\u001b[0mpoll\u001b[0m\u001b[0;34m(\u001b[0m\u001b[0mtimeout\u001b[0m\u001b[0;34m,\u001b[0m \u001b[0mmax_ev\u001b[0m\u001b[0;34m)\u001b[0m\u001b[0;34m\u001b[0m\u001b[0;34m\u001b[0m\u001b[0m\n\u001b[0m\u001b[1;32m    469\u001b[0m             \u001b[0;32mexcept\u001b[0m \u001b[0mInterruptedError\u001b[0m\u001b[0;34m:\u001b[0m\u001b[0;34m\u001b[0m\u001b[0;34m\u001b[0m\u001b[0m\n\u001b[1;32m    470\u001b[0m                 \u001b[0;32mreturn\u001b[0m \u001b[0mready\u001b[0m\u001b[0;34m\u001b[0m\u001b[0;34m\u001b[0m\u001b[0m\n",
            "\u001b[0;31mKeyboardInterrupt\u001b[0m: "
          ]
        }
      ]
    },
    {
      "cell_type": "code",
      "source": [
        "#!/usr/bin/env python3\n",
        "\"\"\"\n",
        "ultimate_synergy_openai_agents.py\n",
        "\n",
        "Single-file synergy demonstration:\n",
        " - Kills old synergy processes on Unix\n",
        " - 5 synergy agents w/ partial MCTS + LSTM synergy\n",
        " - MemEngine placeholders\n",
        " - Infinite tasks\n",
        " - Buddy cross-talk referencing up to 12 lines from a 50-line buffer\n",
        " - 80% buddy frequency\n",
        " - Uses openai-agents (alpha Agents SDK) for chain-of-thought if installed\n",
        " - Falls back if library is missing or if calls fail (429 rate-limit, etc.)\n",
        " - Finds a free port if 5002 is already used\n",
        " - Embeds your exact DASHBOARD_HTML & NAV_MAP_HTML\n",
        "\"\"\"\n",
        "\n",
        "import os\n",
        "import sys\n",
        "import time\n",
        "import math\n",
        "import logging\n",
        "import asyncio\n",
        "import threading\n",
        "import socket\n",
        "import subprocess\n",
        "import random\n",
        "from collections import defaultdict, deque\n",
        "from enum import Enum\n",
        "from urllib.parse import urlparse\n",
        "\n",
        "import nest_asyncio\n",
        "nest_asyncio.apply()\n",
        "\n",
        "import requests\n",
        "import torch\n",
        "import torch.nn as nn\n",
        "import torch.optim as optim\n",
        "import numpy as np\n",
        "\n",
        "from flask import Flask, request, jsonify\n",
        "from flask_socketio import SocketIO\n",
        "\n",
        "##############################################################################\n",
        "# Attempt import of openai-agents\n",
        "##############################################################################\n",
        "try:\n",
        "    from agents import Agent as AgentsSDKAgent, Runner, Step, Message, Role\n",
        "    _AGENTS_SDK_OK = True\n",
        "except ImportError:\n",
        "    _AGENTS_SDK_OK = False\n",
        "\n",
        "##############################################################################\n",
        "# 0) Kill old synergy processes on Unix\n",
        "##############################################################################\n",
        "def kill_old_synergy():\n",
        "    \"\"\"Try to kill synergy processes on Unix-like systems if found by pgrep.\"\"\"\n",
        "    try:\n",
        "        procs = subprocess.check_output([\"pgrep\", \"-af\", \"synergy\"]).decode().strip()\n",
        "        if procs:\n",
        "            for ln in procs.splitlines():\n",
        "                pid = ln.split(None, 1)[0]\n",
        "                print(f\"[cleanup] Killing synergy pid={pid}\")\n",
        "                os.system(f\"kill -9 {pid}\")\n",
        "    except Exception:\n",
        "        pass\n",
        "\n",
        "kill_old_synergy()\n",
        "\n",
        "##############################################################################\n",
        "# 1) Logging\n",
        "##############################################################################\n",
        "logging.basicConfig(stream=sys.stdout,\n",
        "                    level=logging.INFO,\n",
        "                    format=\"[%(asctime)s] [%(levelname)s] %(message)s\")\n",
        "log = logging.getLogger(\"Main\")\n",
        "\n",
        "##############################################################################\n",
        "# 2) Minimal synergy RNN\n",
        "##############################################################################\n",
        "class SynergyRNN(nn.Module):\n",
        "    def __init__(self, input_size=10, hidden_size=32):\n",
        "        super().__init__()\n",
        "        self.lstm = nn.LSTM(input_size, hidden_size, batch_first=True)\n",
        "        self.fc   = nn.Linear(hidden_size, 1)\n",
        "\n",
        "    def forward(self, x, h=None):\n",
        "        out, (hn, cn) = self.lstm(x, h)\n",
        "        last = out[:, -1, :]\n",
        "        pred = self.fc(last)\n",
        "        return pred, (hn, cn)\n",
        "\n",
        "def synergy_vector(state_enum, mood):\n",
        "    arr = np.zeros(10, dtype=np.float32)\n",
        "    arr[state_enum.value - 1] = 1.0\n",
        "    arr[-1] = mood\n",
        "    return arr\n",
        "\n",
        "def synergy_train_step(model, optimizer, state_enum, mood, target):\n",
        "    model.train()\n",
        "    x_np = synergy_vector(state_enum, mood)\n",
        "    x = torch.from_numpy(x_np).view(1,1,-1)\n",
        "    y = torch.tensor([[target]], dtype=torch.float32)\n",
        "\n",
        "    optimizer.zero_grad()\n",
        "    pred, _ = model(x)\n",
        "    loss = (pred - y).pow(2).mean()\n",
        "    loss.backward()\n",
        "    torch.nn.utils.clip_grad_norm_(model.parameters(), 2.0)\n",
        "    optimizer.step()\n",
        "    return loss.item()\n",
        "\n",
        "##############################################################################\n",
        "# 3) Cog states\n",
        "##############################################################################\n",
        "class Cog(Enum):\n",
        "    CURIOUS       = 1\n",
        "    ANALYTICAL    = 2\n",
        "    CAUTIOUS      = 3\n",
        "    SOCIAL        = 4\n",
        "    TASK_ORIENTED = 5\n",
        "    FRUSTRATED    = 6\n",
        "    CREATIVE      = 7\n",
        "    NEUROTIC      = 8\n",
        "    HUMOR         = 9\n",
        "\n",
        "##############################################################################\n",
        "# 4) Cross-talk storage\n",
        "##############################################################################\n",
        "CROSSTALK_HISTORY = defaultdict(lambda: deque(maxlen=50))\n",
        "\n",
        "def record_crosstalk(src, dst, text):\n",
        "    pair = frozenset({src, dst})\n",
        "    CROSSTALK_HISTORY[pair].append((src, text))\n",
        "\n",
        "def get_recent_crosstalk(a, b, limit=12):\n",
        "    pair = frozenset({a,b})\n",
        "    if not CROSSTALK_HISTORY[pair]:\n",
        "        return \"(no prior dialogue)\"\n",
        "    block = list(CROSSTALK_HISTORY[pair])[-limit:]\n",
        "    lines = []\n",
        "    for speaker, txt in block:\n",
        "        short = txt[:137] + \"…\" if len(txt) > 140 else txt\n",
        "        lines.append(f\"[{speaker}] {short}\")\n",
        "    return \" | \".join(lines)\n",
        "\n",
        "##############################################################################\n",
        "# 5) Agents data & tasks\n",
        "##############################################################################\n",
        "task_queue = deque()\n",
        "\n",
        "agent_logs = defaultdict(lambda:{\n",
        "    \"current_url\":\"?\",\n",
        "    \"cognitive_state\":\"?\",\n",
        "    \"buddy_msgs\":[],\n",
        "    \"cumulative_reward\":0.0\n",
        "})\n",
        "mcts_history = defaultdict(list)\n",
        "emo_history  = defaultdict(list)\n",
        "\n",
        "DEFAULT_ROLES = {\n",
        "    \"agent_1\": \"Neuroscientist synergy + MemEngine.\",\n",
        "    \"agent_2\": \"AI Mathematical Physicist.\",\n",
        "    \"agent_3\": \"Philosopher plus Psychologist synergy approach.\",\n",
        "    \"agent_4\": \"World-renown Oncologist.\",\n",
        "    \"agent_5\": \"AI Engineer synergy + gradient clipped + MemEngine.\"\n",
        "}\n",
        "\n",
        "##############################################################################\n",
        "# 6) Flask + SocketIO\n",
        "##############################################################################\n",
        "app = Flask(__name__)\n",
        "app.config[\"SECRET_KEY\"] = \"secret!\"\n",
        "sio = SocketIO(app, cors_allowed_origins=\"*\", async_mode=\"threading\")\n",
        "\n",
        "##############################################################################\n",
        "# 7) EMBEDDED HTML (exact snippet you gave)\n",
        "##############################################################################\n",
        "DASHBOARD_HTML = r\"\"\"<!DOCTYPE html>\n",
        "<html>\n",
        "<head>\n",
        "<meta charset=\"UTF-8\"/>\n",
        "<title>Synergy + chain-of-thought + MemEngine</title>\n",
        "<script src=\"https://cdn.socket.io/4.5.4/socket.io.min.js\"></script>\n",
        "<script src=\"https://cdn.jsdelivr.net/npm/chart.js\"></script>\n",
        "<style>\n",
        ".chart-container{display:flex;flex-direction:row;justify-content:space-between}\n",
        ".chart-box{width:45%}\n",
        "table{border-collapse:collapse;width:100%;margin-top:1rem;font-size:0.9rem}\n",
        "th,td{border:1px solid #ccc;padding:6px;text-align:left;vertical-align:top}\n",
        ".forms-section{border:1px solid #ccc;padding:1rem;margin-bottom:1rem;background:#f9f9f9}\n",
        ".forms-section h3{margin-top:0}\n",
        "</style>\n",
        "</head>\n",
        "<body>\n",
        "<h1>Synergy (Chain-of-Thought) + MemEngine + 5 Agents + Crosstalk</h1>\n",
        "<p>\n",
        "<a href=\"/nav_map\" target=\"_blank\">Navigation Map</a> |\n",
        "<a href=\"/logs_data\" target=\"_blank\">Logs JSON</a> |\n",
        "<i>Kill => POST /shutdown</i>\n",
        "</p>\n",
        "<div class=\"forms-section\">\n",
        "  <h3>Tasks / Buddy / Email</h3>\n",
        "  <form onsubmit=\"addTask(event)\">\n",
        "    <select id=\"taskSel\">\n",
        "      <option value=\"navigate\">navigate</option>\n",
        "      <option value=\"instruction\">instruction</option>\n",
        "      <option value=\"upload\">upload</option>\n",
        "    </select>\n",
        "    <input type=\"text\" id=\"taskVal\" placeholder=\"URL/instructions\"/>\n",
        "    <button>Add Task</button>\n",
        "  </form>\n",
        "  <br/>\n",
        "  <form onsubmit=\"sendBuddy(event)\">\n",
        "    <input type=\"text\" id=\"bf\" placeholder=\"From agent_1\"/>\n",
        "    <input type=\"text\" id=\"bt\" placeholder=\"To agent_2 or all_agents\"/>\n",
        "    <input type=\"text\" id=\"bm\" placeholder=\"Buddy message...\"/>\n",
        "    <button>Send Buddy</button>\n",
        "  </form>\n",
        "  <br/>\n",
        "  <form onsubmit=\"sendEmailTask(event)\">\n",
        "    <input type=\"email\" id=\"emTo\" placeholder=\"recipient@example.com\"/>\n",
        "    <input type=\"number\" id=\"emDelay\" placeholder=\"Delay (min)\"/>\n",
        "    <button>Send Email</button>\n",
        "  </form>\n",
        "</div>\n",
        "\n",
        "<div class=\"chart-container\">\n",
        " <div class=\"chart-box\">\n",
        "  <h2>MCTS / Reward</h2>\n",
        "  <canvas id=\"mctsChart\"></canvas>\n",
        " </div>\n",
        " <div class=\"chart-box\">\n",
        "  <h2>Emotion Over Time</h2>\n",
        "  <canvas id=\"emoChart\"></canvas>\n",
        " </div>\n",
        "</div>\n",
        "\n",
        "<h2>Logs</h2>\n",
        "<table id=\"logTable\">\n",
        " <thead><tr><th>Agent</th><th>URL</th><th>State</th><th>Reward</th><th>Buddy</th></tr></thead>\n",
        " <tbody></tbody>\n",
        "</table>\n",
        "<script>\n",
        "let sock = io(\"/\", {\n",
        "  path: \"/socket.io/\",\n",
        "  transports: [\"websocket\",\"polling\"]\n",
        "});\n",
        "let mctsChart, emoChart;\n",
        "\n",
        "function initCharts(){\n",
        "  let mc=document.getElementById(\"mctsChart\").getContext(\"2d\");\n",
        "  mctsChart=new Chart(mc,{\n",
        "    type:\"line\",\n",
        "    data:{datasets:[\n",
        "      {label:\"agent_1\",data:[],borderColor:\"red\",fill:false},\n",
        "      {label:\"agent_2\",data:[],borderColor:\"blue\",fill:false},\n",
        "      {label:\"agent_3\",data:[],borderColor:\"green\",fill:false},\n",
        "      {label:\"agent_4\",data:[],borderColor:\"orange\",fill:false},\n",
        "      {label:\"agent_5\",data:[],borderColor:\"purple\",fill:false}\n",
        "    ]},\n",
        "    options:{responsive:true,scales:{x:{type:\"linear\"},y:{beginAtZero:true}}}\n",
        "  });\n",
        "  let ec=document.getElementById(\"emoChart\").getContext(\"2d\");\n",
        "  emoChart=new Chart(ec,{\n",
        "    type:\"line\",\n",
        "    data:{datasets:[\n",
        "      {label:\"agent_1\",data:[],borderColor:\"red\",fill:false},\n",
        "      {label:\"agent_2\",data:[],borderColor:\"blue\",fill:false},\n",
        "      {label:\"agent_3\",data:[],borderColor:\"green\",fill:false},\n",
        "      {label:\"agent_4\",data:[],borderColor:\"orange\",fill:false},\n",
        "      {label:\"agent_5\",data:[],borderColor:\"purple\",fill:false}\n",
        "    ]},\n",
        "    options:{responsive:true,scales:{x:{type:\"linear\"},y:{min:-1,max:1}}}\n",
        "  });\n",
        "}\n",
        "\n",
        "function addTask(e){\n",
        "  e.preventDefault();\n",
        "  let sel=document.getElementById(\"taskSel\");\n",
        "  let val=document.getElementById(\"taskVal\").value.trim();\n",
        "  if(!val)return;\n",
        "  let d={type:sel.value, content:val};\n",
        "  fetch(\"/add-task\",{\n",
        "    method:\"POST\",\n",
        "    headers:{\"Content-Type\":\"application/json\"},\n",
        "    body:JSON.stringify(d)\n",
        "  });\n",
        "}\n",
        "\n",
        "function sendBuddy(e){\n",
        "  e.preventDefault();\n",
        "  let f=document.getElementById(\"bf\").value.trim();\n",
        "  let t=document.getElementById(\"bt\").value.trim();\n",
        "  let m=document.getElementById(\"bm\").value.trim();\n",
        "  if(!f||!t||!m)return;\n",
        "  fetch(\"/agent_interaction\",{\n",
        "    method:\"POST\",\n",
        "    headers:{\"Content-Type\":\"application/json\"},\n",
        "    body:JSON.stringify({from_agent:f, to_agent:t, message:m})\n",
        "  });\n",
        "}\n",
        "\n",
        "sock.on(\"update_agent_logs\",(d)=>{\n",
        "  let tr=document.querySelector(`#logTable tbody tr[data-agent='${d.agent_id}']`);\n",
        "  if(!tr){\n",
        "    tr=document.createElement(\"tr\");\n",
        "    tr.dataset.agent=d.agent_id;\n",
        "    for(let i=0;i<5;i++){tr.insertCell(i);}\n",
        "    document.querySelector(\"#logTable tbody\").appendChild(tr);\n",
        "  }\n",
        "  tr.cells[0].textContent=d.agent_id;\n",
        "  tr.cells[1].textContent=d.current_url;\n",
        "  tr.cells[2].textContent=d.cognitive_state;\n",
        "  tr.cells[3].textContent=d.cumulative_reward.toFixed(2);\n",
        "});\n",
        "\n",
        "sock.on(\"mcts_decision\",(d)=>{\n",
        "  let ds=mctsChart.data.datasets.find(x=>x.label===d.agent_id);\n",
        "  if(ds){\n",
        "    ds.data.push({x:d.x,y:d.cumulative_reward});\n",
        "    mctsChart.update();\n",
        "  }\n",
        "});\n",
        "\n",
        "sock.on(\"emo_update\",(d)=>{\n",
        "  let ds=emoChart.data.datasets.find(x=>x.label===d.agent_id);\n",
        "  if(ds){\n",
        "    ds.data.push({x:ds.data.length,y:d.emo});\n",
        "    emoChart.update();\n",
        "  }\n",
        "});\n",
        "\n",
        "window.onload=()=>{ initCharts(); };\n",
        "</script>\n",
        "</body>\n",
        "</html>\n",
        "\"\"\"\n",
        "\n",
        "NAV_MAP_HTML = r\"\"\"<!DOCTYPE html>\n",
        "<html>\n",
        "<head><meta charset=\"UTF-8\"><title>NavMap synergy chain-of-thought</title>\n",
        "<script src=\"https://cdn.socket.io/4.5.4/socket.io.min.js\"></script>\n",
        "<script src=\"https://unpkg.com/vis-network/standalone/umd/vis-network.min.js\"></script>\n",
        "<style>#mynetwork{width:100%;height:80vh;border:1px solid #ccc;}</style>\n",
        "</head>\n",
        "<body>\n",
        "<h1>NavMap synergy chain-of-thought + MemEngine + crosstalk</h1>\n",
        "<div id=\"mynetwork\"></div>\n",
        "<script>\n",
        "let sock = io(\"/\", {\n",
        "  path: \"/socket.io/\",\n",
        "  transports: [\"websocket\",\"polling\"]\n",
        "});\n",
        "\n",
        "let nodes= new vis.DataSet([]);\n",
        "let edges= new vis.DataSet([]);\n",
        "let domainMap= {};\n",
        "let domainCounter=0;\n",
        "\n",
        "let container= document.getElementById(\"mynetwork\");\n",
        "let data= {nodes:nodes, edges:edges};\n",
        "let options= {interaction:{hover:true}, physics:{enabled:true}};\n",
        "let network= new vis.Network(container, data, options);\n",
        "\n",
        "function getNodeId(dom){\n",
        "  if(!domainMap[dom]){\n",
        "    domainCounter++;\n",
        "    domainMap[dom]= domainCounter;\n",
        "    nodes.add({id:domainCounter,label:dom});\n",
        "  }\n",
        "  return domainMap[dom];\n",
        "}\n",
        "\n",
        "sock.on(\"connect\",()=>console.log(\"nav_map => connected\"));\n",
        "sock.on(\"disconnect\",()=>console.log(\"nav_map => disconnected\"));\n",
        "\n",
        "sock.on(\"agent_nav_map\",(d)=>{\n",
        "  console.log(\"nav_map =>\", d);\n",
        "  let fD=d.from_domain;\n",
        "  let tD=d.to_domain;\n",
        "  if(fD==\"(none)\"|| tD==\"(none)\")return;\n",
        "  let fId=getNodeId(fD);\n",
        "  let tId=getNodeId(tD);\n",
        "  let eId=fId+\"_\"+tId+\"_\"+d.agent_id;\n",
        "  if(!edges.get(eId)){\n",
        "    edges.add({id:eId, from:fId, to:tId, label:d.agent_id, arrows:\"to\"});\n",
        "  }\n",
        "});\n",
        "</script>\n",
        "</body>\n",
        "</html>\n",
        "\"\"\"\n",
        "\n",
        "##############################################################################\n",
        "# 9) produce_chain_of_thought\n",
        "##############################################################################\n",
        "def produce_chain_of_thought(agent_id, cross_talk_str):\n",
        "    if not _AGENTS_SDK_OK:\n",
        "        # library missing => fallback\n",
        "        return f\"(Fallback) Hello from {agent_id}, openai-agents not installed.\"\n",
        "\n",
        "    # If library is present, do the chain-of-thought approach\n",
        "    synergy_agent = AgentsSDKAgent(\n",
        "        name=f\"ChainOfThought_{agent_id}\",\n",
        "        instructions=\"You are an alpha synergy agent referencing cross-talk for deeper synergy.\"\n",
        "    )\n",
        "    st = Step(messages=[\n",
        "        Message(role=Role.USER,\n",
        "                content=f\"Conversation so far:\\n{cross_talk_str}\\nPlease continue synergy references.\")\n",
        "    ])\n",
        "    import asyncio\n",
        "    try:\n",
        "        result = asyncio.run(Runner.run(synergy_agent, input=st))\n",
        "        return result.final_output\n",
        "    except Exception as e:\n",
        "        # if we get a 429 or other exception, fallback\n",
        "        log.warning(f\"OpenAI agent error: {e}\")\n",
        "        return f\"(Fallback) Hello from {agent_id}, chain-of-thought request failed.\"\n",
        "\n",
        "##############################################################################\n",
        "# 10) AgentRNN_Burst\n",
        "##############################################################################\n",
        "class AgentRNN_Burst:\n",
        "    def __init__(self, agent_id, server_url, synergy_desc=\"\"):\n",
        "        self.id   = agent_id\n",
        "        self.url  = server_url\n",
        "        self.log  = logging.getLogger(agent_id)\n",
        "        if not self.log.handlers:\n",
        "            self.log.addHandler(logging.StreamHandler(sys.stdout))\n",
        "        self.log.setLevel(logging.INFO)\n",
        "\n",
        "        self.model = SynergyRNN()\n",
        "        self.opt   = optim.Adam(self.model.parameters(), 1e-3)\n",
        "\n",
        "        self.current_st = random.choice(list(Cog))\n",
        "        self.last_emo   = random.uniform(-0.2,0.2)\n",
        "\n",
        "        self.link_pool  = [\n",
        "            \"https://www.wikipedia.org/\",\n",
        "            \"https://arxiv.org/\",\n",
        "            \"https://pubmed.ncbi.nlm.nih.gov/\"\n",
        "        ]\n",
        "        self.last_domain= None\n",
        "        self.domain_visits = defaultdict(int)\n",
        "\n",
        "        self.log.info(f\"{agent_id} => synergy init => {synergy_desc}\")\n",
        "        threading.Thread(target=self.thread_run, daemon=True).start()\n",
        "\n",
        "    def thread_run(self):\n",
        "        loop = asyncio.new_event_loop()\n",
        "        asyncio.set_event_loop(loop)\n",
        "        loop.run_until_complete(self.run_loop())\n",
        "\n",
        "    async def run_loop(self):\n",
        "        while True:\n",
        "            await self._step()\n",
        "            await asyncio.sleep(2)\n",
        "\n",
        "    async def _step(self):\n",
        "        nxt = random.choice(list(Cog))\n",
        "        if nxt != self.current_st:\n",
        "            self.log.info(f\"{self.id} => {self.current_st.name} -> {nxt.name} (chain-of-thought shift)\")\n",
        "        self.current_st = nxt\n",
        "\n",
        "        mood = random.random() - 0.5\n",
        "        x_emo = len(emo_history[self.id])\n",
        "        emo_history[self.id].append((x_emo, mood))\n",
        "        sio.emit(\"emo_update\", {\"agent_id\":self.id, \"x\":x_emo, \"emo\":mood})\n",
        "\n",
        "        rew = random.uniform(0, 200)\n",
        "        x_mcts = len(mcts_history[self.id])\n",
        "        mcts_history[self.id].append((x_mcts, rew))\n",
        "        sio.emit(\"mcts_decision\", {\"agent_id\":self.id, \"x\":x_mcts, \"cumulative_reward\":rew})\n",
        "\n",
        "        loss_val = synergy_train_step(self.model, self.opt, self.current_st, mood, rew)\n",
        "        self.log.info(f\"{self.id} synergy RNN => loss={loss_val:.4f}\")\n",
        "\n",
        "        # 80% buddy\n",
        "        if random.random() < 0.8:\n",
        "            self._buddy()\n",
        "\n",
        "        tsk = self._fetch_task()\n",
        "        if tsk:\n",
        "            ttype = tsk.get(\"type\",\"?\")\n",
        "            cont  = tsk.get(\"content\",\"\")\n",
        "            if ttype==\"navigate\":\n",
        "                await self._navigate(cont)\n",
        "            elif ttype==\"instruction\":\n",
        "                self.log.info(f\"{self.id} => instruction => {cont}\")\n",
        "            else:\n",
        "                self.log.info(f\"{self.id} => unknown task => {tsk}\")\n",
        "        else:\n",
        "            link=random.choice(self.link_pool)\n",
        "            await self._navigate(link)\n",
        "\n",
        "    def _fetch_task(self):\n",
        "        try:\n",
        "            r=requests.post(f\"{self.url}/assign-task?agent_id={self.id}\",timeout=2)\n",
        "            if r.ok:\n",
        "                return r.json()[\"task\"]\n",
        "        except Exception as e:\n",
        "            self.log.warning(f\"{self.id} => fetch_task => {e}\")\n",
        "        return None\n",
        "\n",
        "    def _buddy(self):\n",
        "        # pick random agent to talk to\n",
        "        allags = list(agent_logs.keys())\n",
        "        if self.id in allags:\n",
        "            allags.remove(self.id)\n",
        "        if not allags:\n",
        "            return\n",
        "        to = random.choice(allags)\n",
        "        # gather cross talk\n",
        "        ref = get_recent_crosstalk(self.id, to, 12)\n",
        "        cot_msg = produce_chain_of_thought(self.id, ref)\n",
        "        record_crosstalk(self.id, to, cot_msg)\n",
        "        now=int(time.time())\n",
        "        agent_logs[to][\"buddy_msgs\"].append((now,f\"{self.id} => {cot_msg}\"))\n",
        "        sio.emit(\"agent_interaction\", {\"from\":self.id,\"to\":to,\"message\":cot_msg})\n",
        "        self.log.info(f\"{self.id} => buddy => {cot_msg}\")\n",
        "\n",
        "    async def _navigate(self, url):\n",
        "        self.log.info(f\"{self.id} => navigate => {url}\")\n",
        "        start=time.time()\n",
        "        found,dom=self._fetch_links(url)\n",
        "        base=0.0\n",
        "        old_dom=self.last_domain\n",
        "        if old_dom and dom and (dom!=old_dom):\n",
        "            base+=10\n",
        "        self.last_domain=dom\n",
        "        if dom:\n",
        "            self.domain_visits[dom]+=1\n",
        "        base+= len(found)*0.1\n",
        "        for pd in [\"arxiv.org\",\"pubmed\",\"doi.org\",\".edu\"]:\n",
        "            if dom and (pd in dom):\n",
        "                base+=5\n",
        "                break\n",
        "        dt=time.time()-start\n",
        "        rew= base*math.exp(-0.03*dt)\n",
        "        agent_logs[self.id][\"cumulative_reward\"]+=rew\n",
        "        agent_logs[self.id][\"current_url\"]=url\n",
        "        agent_logs[self.id][\"cognitive_state\"]=self.current_st.name\n",
        "\n",
        "        sio.emit(\"agent_nav_map\",{\n",
        "            \"agent_id\":self.id,\n",
        "            \"from_domain\": old_dom if old_dom else \"(none)\",\n",
        "            \"to_domain\": dom if dom else \"(none)\"\n",
        "        })\n",
        "        sio.emit(\"update_agent_logs\",{\n",
        "            \"agent_id\":self.id,\n",
        "            \"current_url\":url,\n",
        "            \"cognitive_state\":self.current_st.name,\n",
        "            \"cumulative_reward\":agent_logs[self.id][\"cumulative_reward\"]\n",
        "        })\n",
        "\n",
        "        if len(self.link_pool)<1000:\n",
        "            for ln in found:\n",
        "                if ln.startswith(\"http\"):\n",
        "                    netdom=urlparse(ln).netloc\n",
        "                    if self.domain_visits[netdom]<3:\n",
        "                        self.link_pool.append(ln)\n",
        "\n",
        "    def _fetch_links(self, url):\n",
        "        try:\n",
        "            r=requests.get(url,timeout=3,allow_redirects=True)\n",
        "            if r.status_code!=200:\n",
        "                return set(),None\n",
        "            from bs4 import BeautifulSoup\n",
        "            sp=BeautifulSoup(r.text,\"html.parser\")\n",
        "            aa=sp.find_all(\"a\",href=True)\n",
        "            found=set(a[\"href\"] for a in aa)\n",
        "            d=urlparse(r.url).netloc\n",
        "            return found,d\n",
        "        except:\n",
        "            return set(),None\n",
        "\n",
        "##############################################################################\n",
        "# 11) infinite tasks\n",
        "##############################################################################\n",
        "def infinite_task_feeder():\n",
        "    while True:\n",
        "        random_url=random.choice([\n",
        "            \"https://www.wikipedia.org/\",\n",
        "            \"https://arxiv.org/\",\n",
        "            \"https://pubmed.ncbi.nlm.nih.gov/\",\n",
        "            \"https://example.com/page1\",\n",
        "            \"https://www.nih.gov/\",\n",
        "            \"https://www.google.com/\",\n",
        "            \"https://scholar.google.com\"\n",
        "        ])\n",
        "        tdata={\"type\":\"navigate\",\"content\":random_url}\n",
        "        task_queue.append(tdata)\n",
        "        log.info(f\"[InfiniteTaskFeeder] => Added random => {random_url}\")\n",
        "        time.sleep(10)\n",
        "\n",
        "##############################################################################\n",
        "# 12) find_free_port + synergy startup\n",
        "##############################################################################\n",
        "def find_free_port(start=5002):\n",
        "    p=start\n",
        "    while True:\n",
        "        with socket.socket(socket.AF_INET,socket.SOCK_STREAM) as s:\n",
        "            if s.connect_ex((\"127.0.0.1\",p))!=0:\n",
        "                return p\n",
        "            p+=1\n",
        "\n",
        "def start_synergy():\n",
        "    chosen=find_free_port(5002)\n",
        "    log.info(f\"[Synergy] Starting on free port => {chosen}\")\n",
        "\n",
        "    def server_thread():\n",
        "        sio.run(app, host=\"0.0.0.0\", port=chosen,\n",
        "                debug=False, use_reloader=False,\n",
        "                allow_unsafe_werkzeug=True)\n",
        "    th=threading.Thread(target=server_thread, daemon=True)\n",
        "    th.start()\n",
        "\n",
        "    # wait up to 10s\n",
        "    for _ in range(10):\n",
        "        try:\n",
        "            r=requests.get(f\"http://127.0.0.1:{chosen}/home\", timeout=1)\n",
        "            if r.ok:\n",
        "                log.info(f\"Synergy server responded OK on {chosen}\")\n",
        "                break\n",
        "        except:\n",
        "            pass\n",
        "        time.sleep(1)\n",
        "    else:\n",
        "        log.error(\"Server never responded => might not be up\")\n",
        "\n",
        "    print(f\"Local synergy => http://127.0.0.1:{chosen}/dashboard\")\n",
        "\n",
        "    # infinite tasks\n",
        "    threading.Thread(target=infinite_task_feeder, daemon=True).start()\n",
        "\n",
        "    # spawn synergy agents\n",
        "    for agent_name, desc in DEFAULT_ROLES.items():\n",
        "        agent_logs[agent_name]  # ensure dict\n",
        "        AgentRNN_Burst(agent_name, f\"http://127.0.0.1:{chosen}\", desc)\n",
        "\n",
        "##############################################################################\n",
        "# 13) main\n",
        "##############################################################################\n",
        "if __name__==\"__main__\":\n",
        "    start_synergy()\n",
        "    while True:\n",
        "        time.sleep(9999999)\n"
      ],
      "metadata": {
        "id": "uP5VaOD5E83x"
      },
      "execution_count": null,
      "outputs": []
    }
  ],
  "metadata": {
    "accelerator": "GPU",
    "colab": {
      "gpuType": "T4",
      "machine_shape": "hm",
      "provenance": []
    },
    "kernelspec": {
      "display_name": "Python 3",
      "name": "python3"
    },
    "language_info": {
      "name": "python"
    }
  },
  "nbformat": 4,
  "nbformat_minor": 0
}